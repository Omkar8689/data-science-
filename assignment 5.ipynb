{
 "cells": [
  {
   "cell_type": "markdown",
   "id": "5ccb4035-dbe5-4191-91a2-40f81cb778ef",
   "metadata": {},
   "source": [
    "Q1. Explain Class and Object with respect to Object-Oriented Programming. Give a suitable example."
   ]
  },
  {
   "cell_type": "raw",
   "id": "46e92691-abc9-4858-9721-52d2ac67eea9",
   "metadata": {},
   "source": [
    "A class is a code template for creating objects. Objects have member variables and have behaviour associated with them. In python a class is created by the keyword class . An object is created using the constructor of the class.\n",
    "\n",
    "object-It is nothing but the instance of the class\n"
   ]
  },
  {
   "cell_type": "code",
   "execution_count": 1,
   "id": "1c34257d-143d-4e2d-af6e-ade89a8d6d9e",
   "metadata": {},
   "outputs": [],
   "source": [
    "class Test:\n",
    "    pass"
   ]
  },
  {
   "cell_type": "code",
   "execution_count": 5,
   "id": "41d286be-5cb2-4005-93cb-cc50785ffa0f",
   "metadata": {},
   "outputs": [],
   "source": [
    "p=Test()"
   ]
  },
  {
   "cell_type": "markdown",
   "id": "11ae9ce2-1583-44a1-a05f-f2e974226c23",
   "metadata": {},
   "source": [
    "As you can see above code we have created the class with the name of Test and also we have created the object of that class as p"
   ]
  },
  {
   "cell_type": "code",
   "execution_count": null,
   "id": "c1c2368e-213c-496b-914c-b0accae69a70",
   "metadata": {},
   "outputs": [],
   "source": []
  },
  {
   "cell_type": "raw",
   "id": "dffbc5f3-b821-4fb6-ba5f-c91e9d729503",
   "metadata": {},
   "source": [
    "Q2. Name the four pillars of OOPs."
   ]
  },
  {
   "cell_type": "raw",
   "id": "8269d2b8-3353-41e6-b53a-0f844d5d5c53",
   "metadata": {},
   "source": [
    "The Four pillars of OOPs, abstraction, encapsulation, inheritance, and polymorphism"
   ]
  },
  {
   "cell_type": "code",
   "execution_count": null,
   "id": "c730656c-557f-40ea-80e6-13e1545da4ac",
   "metadata": {},
   "outputs": [],
   "source": []
  },
  {
   "cell_type": "raw",
   "id": "a4a87c0b-0e0c-427a-93b5-e1b569b9bad8",
   "metadata": {},
   "source": [
    "Q3. Explain why the __init__() function is used. Give a suitable example."
   ]
  },
  {
   "cell_type": "markdown",
   "id": "2c1b907d-eb74-4c95-b14f-900d9af9f485",
   "metadata": {},
   "source": [
    "__init__() is used to pass the arguments in class."
   ]
  },
  {
   "cell_type": "code",
   "execution_count": 11,
   "id": "be104033-e30d-4f40-8534-ebbabd15cfc8",
   "metadata": {},
   "outputs": [],
   "source": [
    "class test:\n",
    "    def __init__(self,name):\n",
    "        self.name=name\n",
    "    def print_name(self):\n",
    "        return self.name"
   ]
  },
  {
   "cell_type": "code",
   "execution_count": 12,
   "id": "7a9581ce-de69-4e2e-865c-d7254e46f97f",
   "metadata": {},
   "outputs": [],
   "source": [
    "a=test(\"Rahul\")"
   ]
  },
  {
   "cell_type": "code",
   "execution_count": 14,
   "id": "7d6fa988-9d67-4665-a6b8-1c8ba9118971",
   "metadata": {},
   "outputs": [
    {
     "data": {
      "text/plain": [
       "'Rahul'"
      ]
     },
     "execution_count": 14,
     "metadata": {},
     "output_type": "execute_result"
    }
   ],
   "source": [
    "a.print_name()"
   ]
  },
  {
   "cell_type": "code",
   "execution_count": null,
   "id": "3b054a8c-331d-428c-9b42-e869ba4f3a00",
   "metadata": {},
   "outputs": [],
   "source": []
  },
  {
   "cell_type": "raw",
   "id": "71ec9254-be54-4a23-b1ff-3ad316dec73e",
   "metadata": {},
   "source": [
    "Q4. Why self is used in OOPs?"
   ]
  },
  {
   "cell_type": "raw",
   "id": "3461094f-e5cb-41dd-8e53-469b2aca6b11",
   "metadata": {},
   "source": [
    "self is the keyword used in python to show that that function is the part of the corresponding class"
   ]
  },
  {
   "cell_type": "code",
   "execution_count": null,
   "id": "8826cf46-d7ea-4329-9610-e2a171fe3004",
   "metadata": {},
   "outputs": [],
   "source": []
  },
  {
   "cell_type": "code",
   "execution_count": null,
   "id": "8b82f908-a25f-4e02-b330-ff8cfc3fe307",
   "metadata": {},
   "outputs": [],
   "source": []
  },
  {
   "cell_type": "raw",
   "id": "310cd144-5940-41a9-8a3a-ee35986ef6ed",
   "metadata": {},
   "source": [
    "Q5. What is inheritance? Give an example for each type of inheritance."
   ]
  },
  {
   "cell_type": "markdown",
   "id": "351852c3-8861-47ac-8f78-b14592b6c891",
   "metadata": {},
   "source": [
    "Inheritance-Inheritance is the property or technique in python language\n",
    "by which we can inherite some functions or method with other classes"
   ]
  },
  {
   "cell_type": "code",
   "execution_count": 15,
   "id": "cdf198b3-ac8e-4719-8907-e89ad1a746ae",
   "metadata": {},
   "outputs": [],
   "source": [
    "#muktiple inheritance\n",
    "class a:\n",
    "    def print_num():\n",
    "        return \"This is print function\""
   ]
  },
  {
   "cell_type": "code",
   "execution_count": 16,
   "id": "5565266d-db6f-4df0-88a7-d2f19ccba586",
   "metadata": {},
   "outputs": [],
   "source": [
    "class b:\n",
    "    def print_num1():\n",
    "        return \"This is print function 1\""
   ]
  },
  {
   "cell_type": "code",
   "execution_count": 17,
   "id": "88c41058-8c43-4841-a1af-4039f499881d",
   "metadata": {},
   "outputs": [],
   "source": [
    "class c(a,b):\n",
    "    def print_num2():\n",
    "        return \"This is print function 2\"\n",
    "    "
   ]
  },
  {
   "cell_type": "code",
   "execution_count": 18,
   "id": "e1cfe03a-b14b-4c1f-8526-d6b1b5ca11b1",
   "metadata": {},
   "outputs": [],
   "source": [
    "c=c()"
   ]
  },
  {
   "cell_type": "code",
   "execution_count": 23,
   "id": "6a095148-9daa-4133-81bd-9c22cb6e7c0c",
   "metadata": {},
   "outputs": [
    {
     "data": {
      "text/plain": [
       "<bound method c.print_num2 of <__main__.c object at 0x7fdb78122f50>>"
      ]
     },
     "execution_count": 23,
     "metadata": {},
     "output_type": "execute_result"
    }
   ],
   "source": [
    "c.print_num2"
   ]
  },
  {
   "cell_type": "code",
   "execution_count": 25,
   "id": "b127333d-1787-4f87-a53d-d1c078f08310",
   "metadata": {},
   "outputs": [
    {
     "data": {
      "text/plain": [
       "<bound method b.print_num of <__main__.c object at 0x7fdb78122f50>>"
      ]
     },
     "execution_count": 25,
     "metadata": {},
     "output_type": "execute_result"
    }
   ],
   "source": [
    "c.print_num"
   ]
  },
  {
   "cell_type": "code",
   "execution_count": null,
   "id": "08f31fbb-a853-4798-89ee-4de6d10919a9",
   "metadata": {},
   "outputs": [],
   "source": []
  },
  {
   "cell_type": "code",
   "execution_count": null,
   "id": "d9489fa9-7a31-416e-92a7-1de43698e2a8",
   "metadata": {},
   "outputs": [],
   "source": []
  },
  {
   "cell_type": "code",
   "execution_count": null,
   "id": "f8989ee1-24a6-46bd-b6e2-f31bdd9e027b",
   "metadata": {},
   "outputs": [],
   "source": [
    "#multilevel inheritance"
   ]
  }
 ],
 "metadata": {
  "kernelspec": {
   "display_name": "Python 3 (ipykernel)",
   "language": "python",
   "name": "python3"
  },
  "language_info": {
   "codemirror_mode": {
    "name": "ipython",
    "version": 3
   },
   "file_extension": ".py",
   "mimetype": "text/x-python",
   "name": "python",
   "nbconvert_exporter": "python",
   "pygments_lexer": "ipython3",
   "version": "3.10.8"
  }
 },
 "nbformat": 4,
 "nbformat_minor": 5
}
