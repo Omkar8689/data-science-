{
 "cells": [
  {
   "cell_type": "markdown",
   "id": "a608f0bc-210e-450a-a7d6-22417189ae2f",
   "metadata": {},
   "source": [
    "Q1: What are the Probability Mass Function (PMF) and Probability Density Function (PDF)? Explain with\n",
    "an example."
   ]
  },
  {
   "cell_type": "markdown",
   "id": "5b00780f-9a73-4d0d-afd4-ee4a3daf4f33",
   "metadata": {},
   "source": [
    "The Probability Mass Function (PMF) provides the probability distribution for discrete variables. For example, rolling dice. There are 6 distinct possible outcomes that define the entire sample space {1, 2, 3, 4, 5, 6}. Note that we only have whole numbers, i.e. no 1.2 or 3.75. In the PMF, each discrete variable is mapped to its probability. In an ideal situation rolling a die, each of the six variables has a 1/6 probability of being rolled.\n",
    "\n",
    "PDF-In probability theory, a probability density function (PDF), density function, or density of an absolutely continuous random variable, is a function whose value at any given sample (or point) in the sample space (the set of possible values taken by the random variable) can be interpreted as providing a relative likelihood that the value of the random variable would be equal to that sample"
   ]
  },
  {
   "cell_type": "code",
   "execution_count": null,
   "id": "d9230e31-f6cf-4a1d-86d2-990a5bd94603",
   "metadata": {},
   "outputs": [],
   "source": []
  },
  {
   "cell_type": "raw",
   "id": "f6849785-2d72-4df2-b73e-ad02bbc2785b",
   "metadata": {},
   "source": [
    "Q2: What is Cumulative Density Function (CDF)? Explain with an example. Why CDF is used?"
   ]
  },
  {
   "cell_type": "raw",
   "id": "103f655d-34ca-4e62-99a3-785f1b8889a0",
   "metadata": {},
   "source": [
    "The cumulative distribution function is used to describe the probability distribution of random variables. It can be used to describe the probability for a discrete, continuous or mixed variable. It is obtained by summing up the probability density function and getting the cumulative probability for a random variable.\n",
    "\n",
    "The Probability Density Function is a function that gives us the probability distribution of a random variable for any value of it. To get the probability distribution at a point, you only have to solve the probability density function for that point. \n",
    "\n",
    "The cumulative distribution function of a random variable to be calculated at a point x is represented as Fx(X). It is the probability that the random variable X will take a value less than or equal to x."
   ]
  },
  {
   "cell_type": "code",
   "execution_count": null,
   "id": "07902a66-fdcb-4b96-8995-328d21a01754",
   "metadata": {},
   "outputs": [],
   "source": []
  },
  {
   "cell_type": "raw",
   "id": "958b4478-26a9-49e6-9665-9822bf14db8d",
   "metadata": {},
   "source": [
    "Q3: What are some examples of situations where the normal distribution might be used as a model?\n",
    "Explain how the parameters of the normal distribution relate to the shape of the distribution."
   ]
  },
  {
   "cell_type": "raw",
   "id": "ebb00f11-bc20-4ad8-898b-0a89bc65450a",
   "metadata": {},
   "source": [
    "Following are the examples of normal distribution-\n",
    "1.)Birthweight of Babies\n",
    "It’s well-documented that the birthweight of newborn babies is normally distributed with a mean of about 7.5 pounds.\n",
    "\n",
    "The histogram of the birthweight of newborn babies in the U.S. displays a bell-shape that is typically of the normal distribution:\n",
    "\n",
    "Example 2: Height of Males\n",
    "The distribution of the height of males in the U.S. is roughly normally distributed with a mean of 70 inches and a standard deviation of 3 inches.\n",
    "A histogram of the height of all U.S. male reveals a bell shape:\n",
    "Real-world example of normal distribution\n",
    "\n",
    "\n",
    "\n",
    "Example 3: Shoe Sizes\n",
    "The distribution of shoe sizes for males in the U.S. is roughly normally distributed with a mean of size 10 and a standard deviation of 1.\n",
    "A histogram of the shoe sizes of all U.S. male reveals a bell shape with a single peak at size 10:\n",
    "\n",
    "\n",
    "\n",
    "As it is the Normal distribution out mean must be at the centre.If the mean is not at the center it may cause the failure."
   ]
  },
  {
   "cell_type": "code",
   "execution_count": null,
   "id": "b4b12e8c-16cb-4818-9fcf-501162f41eb5",
   "metadata": {},
   "outputs": [],
   "source": []
  },
  {
   "cell_type": "raw",
   "id": "f2ec0ebe-cca0-4f16-bef3-148492bc91d2",
   "metadata": {},
   "source": [
    "Q4: Explain the importance of Normal Distribution. Give a few real-life examples of Normal\n",
    "Distribution."
   ]
  },
  {
   "cell_type": "raw",
   "id": "1921eb88-63d4-4919-ac51-8f786ab5833c",
   "metadata": {},
   "source": [
    "Normal Distribution is used to present the continuous data.\n",
    "Following are the examples of normal distribution-\n",
    "1.Height of the students\n",
    "2.Weights of the new born babies.\n",
    "3.Shoe size of the men."
   ]
  },
  {
   "cell_type": "code",
   "execution_count": null,
   "id": "b7f6ee02-e53a-4859-8b42-3c32077174bd",
   "metadata": {},
   "outputs": [],
   "source": []
  },
  {
   "cell_type": "raw",
   "id": "112a7d73-e2c6-47cf-a607-2920132f5585",
   "metadata": {},
   "source": [
    "Q5: What is Bernaulli Distribution? Give an Example. What is the difference between Bernoulli\n",
    "Distribution and Binomial Distribution?"
   ]
  },
  {
   "cell_type": "markdown",
   "id": "36da7266-9135-45fa-826f-5249c7f6d54f",
   "metadata": {},
   "source": [
    "Bernoulli Distribution-:\n",
    "This distribution deals with the data which only has 1 trial & only 2 possible outcomes. Anything other than that will not fall under the Bernoulli Distribution category.\n",
    "\n",
    "Considering 95% & 5% for passing & failing an exam for a student respectively. If we want to calculate the probability of a student to pass exactly 5 exams out of 5 exams in which it appeared, using the Bernoulli  probability formula it can be easily calculated\n",
    "\n",
    "\n",
    "\n",
    "Binomial VS Bernoulli Keypoints-:\n",
    "Bernoulli deals with the outcome of the single trial of the event, whereas Binomial deals with the outcome of the multiple trials of the single event.\n",
    "\n",
    "Bernoulli is used when the outcome of an event is required for only one time, whereas the Binomial is used when the outcome of an event is required multiple times."
   ]
  },
  {
   "cell_type": "code",
   "execution_count": null,
   "id": "e553a09c-9879-43b9-9e0f-28877e843aa9",
   "metadata": {},
   "outputs": [],
   "source": []
  },
  {
   "cell_type": "raw",
   "id": "8c9041e3-8d4a-49f0-8f33-669d23649bba",
   "metadata": {},
   "source": [
    "Q6. Consider a dataset with a mean of 50 and a standard deviation of 10. If we assume that the dataset\n",
    "is normally distributed, what is the probability that a randomly selected observation will be greater\n",
    "than 60? Use the appropriate formula and show your calculations."
   ]
  },
  {
   "cell_type": "raw",
   "id": "cc0b7787-c74b-4049-82c5-d1c5151868bb",
   "metadata": {},
   "source": [
    "To find the probability that a randomly selected observation from a normally distributed dataset with a mean of 50 and a standard deviation of 10 will be greater than 60, you can use the standard normal distribution (z-score) formula:\n",
    "\n",
    "X is the value you want to find the probability for (in this case, 60).\n",
    "\n",
    "μ is the mean of the dataset (50).\n",
    "\n",
    "σ is the standard deviation of the dataset (10).\n",
    "Substitute these values into the formula:\n",
    "\n",
    "z=(xi-u)/σ\n",
    "\n",
    "z=(60-50)/10\n",
    "z=1\n",
    "Now, you need to find the probability that a Z-score is greater than 1. You can do this by looking up the Z-score in a standard normal distribution table or by using a calculator. The probability that Z is greater than 1 is approximately 0.1587 (you can find this value in a standard normal distribution table)."
   ]
  },
  {
   "cell_type": "code",
   "execution_count": null,
   "id": "792d95f5-2248-4009-8d23-e4714da4034f",
   "metadata": {},
   "outputs": [],
   "source": []
  },
  {
   "cell_type": "markdown",
   "id": "5d433bf8-5763-4ef5-85f6-50dfc7265034",
   "metadata": {},
   "source": [
    "Q7: Explain uniform Distribution with an example."
   ]
  },
  {
   "cell_type": "raw",
   "id": "d1a86608-e5af-4098-a50c-4c0b89d3cdc6",
   "metadata": {},
   "source": [
    "uniform distribution is the continuous probablity distribution for a real valued random variables.\n",
    "Examples-1)Weights pf the students.As it is the continuous data with the increasing and decreasing vales so the mean that we get from it is constant.\n",
    "\n"
   ]
  },
  {
   "cell_type": "code",
   "execution_count": null,
   "id": "07077435-dcb3-4c48-8fc6-3dc6539817c9",
   "metadata": {},
   "outputs": [],
   "source": []
  },
  {
   "cell_type": "raw",
   "id": "ae007477-cffd-4441-b742-bbcf7e86f24e",
   "metadata": {},
   "source": [
    "Q8: What is the z score? State the importance of the z score."
   ]
  },
  {
   "cell_type": "raw",
   "id": "4e38f583-339e-47b7-b05b-faea9f2d7948",
   "metadata": {},
   "source": [
    "Z-score is a statistical measurement that describes a value's relationship to the mean of a group of values. Z-score is measured in terms of standard deviations from the mean. If a Z-score is 0, it indicates that the data point's score is identical to the mean score.\n",
    "\n",
    "Z-scores are important because they offer a comparison between two scores that are not in the same normal distribution. They are also used to obtain the probability of a z-score to take place within a normal distribution. If a z-score gives a negative value, it means that raw data is lesser than mean.\n"
   ]
  },
  {
   "cell_type": "code",
   "execution_count": null,
   "id": "7bbe623a-3b99-4ad4-b252-a087b6da4867",
   "metadata": {},
   "outputs": [],
   "source": []
  },
  {
   "cell_type": "raw",
   "id": "4e2ff5f8-e147-4bd9-82fd-837622645f27",
   "metadata": {},
   "source": [
    "Q9: What is Central Limit Theorem? State the significance of the Central Limit Theorem."
   ]
  },
  {
   "cell_type": "raw",
   "id": "0f8de83a-cfd7-4bd7-b428-c159c7a1cd4a",
   "metadata": {},
   "source": [
    "The CLT is a statistical theory that states that - if you take a sufficiently large sample size from a population with a finite level of variance, the mean of all samples from that population will be roughly equal to the population mean.\n",
    "\n",
    "Consider there are 15 sections in class X, and each section has 50 students. Our task is to calculate the average marks of students in class X. \n",
    "\n",
    "The standard approach will be to calculate the average simply:\n",
    "\n",
    "Calculate the total marks of all the students in Class X\n",
    "Add all the marks\n",
    "Divide the total marks by the total number of students.\n",
    "\n",
    "The CLT has several applications. Look at the places where you can use it.\n",
    "Political/election polling is a great example of how you can use CLT. These polls are used to estimate the number of people who support a specific candidate. You may have seen these results with confidence intervals on news channels. The CLT aids in this calculation.\n",
    "You use the CLT in various census fields to calculate various population details, such as family income, electricity consumption, individual salaries, and so on."
   ]
  },
  {
   "cell_type": "code",
   "execution_count": null,
   "id": "b44e3818-b973-4708-ac1a-e744304f104a",
   "metadata": {},
   "outputs": [],
   "source": []
  },
  {
   "cell_type": "raw",
   "id": "6b1ae34f-7484-406f-b464-c0678cc5752f",
   "metadata": {},
   "source": [
    "Q10: State the assumptions of the Central Limit Theorem."
   ]
  },
  {
   "cell_type": "code",
   "execution_count": null,
   "id": "1f1f48c7-638d-488f-b29e-c174aa153fa3",
   "metadata": {},
   "outputs": [],
   "source": []
  }
 ],
 "metadata": {
  "kernelspec": {
   "display_name": "Python 3 (ipykernel)",
   "language": "python",
   "name": "python3"
  },
  "language_info": {
   "codemirror_mode": {
    "name": "ipython",
    "version": 3
   },
   "file_extension": ".py",
   "mimetype": "text/x-python",
   "name": "python",
   "nbconvert_exporter": "python",
   "pygments_lexer": "ipython3",
   "version": "3.10.8"
  }
 },
 "nbformat": 4,
 "nbformat_minor": 5
}
