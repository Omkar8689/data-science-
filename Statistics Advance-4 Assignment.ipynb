{
 "cells": [
  {
   "cell_type": "markdown",
   "id": "6d1f85a5-9fb1-4274-8ab8-9cf1937fe081",
   "metadata": {},
   "source": [
    "Q1: What is the difference between a t-test and a z-test? Provide an example scenario where you would\n",
    "use each type of test."
   ]
  },
  {
   "cell_type": "raw",
   "id": "2257b07f-b229-46d5-b185-f97a760bf44a",
   "metadata": {},
   "source": [
    "A t-test and a z-test are both statistical hypothesis tests used to make inferences about population parameters based on sample data. However, they are applied in different situations, mainly depending on the sample size and the available information about the population.\n",
    "\n",
    "T-test:\n",
    "  The t-test is used when the sample size is relatively small (typically less than 30) or when the population standard deviation is unknown.\n",
    "It is used to compare the means of two samples or test a sample mean against a known or hypothesized population mean.\n",
    "  The test statistic follows a t-distribution, which has heavier tails compared to the standard normal (z) distribution due to the additional uncertainty introduced by estimating the population standard deviation from the sample.\n",
    "  Example scenario: You want to determine if there is a significant difference in the average test scores between two groups of students, Group A and Group B, with sample sizes of 20 each. You do not know the population standard deviation for test scores. You would use a two-sample t-test to compare the means of the two groups.\n",
    "\n",
    "Z-test:\n",
    "   The z-test is used when the sample size is large (typically greater than 30) and the population standard deviation is known or can be assumed known.\n",
    "It is used to test a sample mean against a known or hypothesized population mean.\n",
    "   The test statistic follows the standard normal (z) distribution when the population standard deviation is known, allowing for more precise inferences.\n",
    "Example scenario: You want to test if the average height of a population of adults in a particular region is significantly different from the national average height, for which the population standard deviation is known. You have a large sample size (e.g., 1000 individuals). In this case, you would use a z-test to compare the sample mean to the known population mean.\n",
    "\n"
   ]
  },
  {
   "cell_type": "code",
   "execution_count": null,
   "id": "071aaa71-2d22-463f-b927-ac1bcde9886c",
   "metadata": {},
   "outputs": [],
   "source": []
  },
  {
   "cell_type": "raw",
   "id": "eef22d5d-e1a3-4d88-a9db-c3b9a717505e",
   "metadata": {},
   "source": [
    "Q2: Differentiate between one-tailed and two-tailed tests."
   ]
  },
  {
   "cell_type": "markdown",
   "id": "36ce8449-4d23-4258-adca-b32eb6601262",
   "metadata": {},
   "source": [
    "One-Tailed Test and Two-Tailed Test are two types of hypothesis tests used in statistics to examine the significance of a sample statistic or difference between groups. The key difference between them is in how they are used to test specific hypotheses and what they reveal about the relationship between the sample data and the population.\n",
    "\n",
    "One-Tailed Test (also known as a directional test):\n",
    "A one-tailed test is used when the research question or hypothesis specifies the direction of the effect or difference you expect to observe in the population.\n",
    "It is used to determine if a sample statistic significantly deviates from a null hypothesis in a specific direction (e.g., greater than or less than).\n",
    "It is typically used when you have a clear hypothesis about the direction of the effect and want to test whether the data supports that specific hypothesis.\n",
    "The critical region for the test is concentrated in one tail of the probability distribution, which can be the left tail (less than) or the right tail (greater than).\n",
    "Example:\n",
    "Hypothesis: The new drug increases test scores.\n",
    "One-tailed test:\n",
    "\n",
    "Null hypothesis (H0): The new drug has no effect on test scores (μ = μ0).\n",
    "Alternative hypothesis (Ha): The new drug increases test scores (μ > μ0).\n",
    "The critical region for rejection is in the right tail of the distribution.\n",
    "Two-Tailed Test (also known as a non-directional test):\n",
    "\n",
    "A two-tailed test is used when the research question or hypothesis does not specify the direction of the effect, or you want to test for the possibility of an effect in either direction.\n",
    "It is used to determine if a sample statistic significantly deviates from a null hypothesis in either direction (greater than or less than).\n",
    "It is typically used when you are interested in finding out whether there is a significant difference without making a directional assumption.\n",
    "The critical region for the test is split between both tails of the probability distribution.\n",
    "Example:\n",
    "Hypothesis: The new drug has an effect on test scores.\n",
    "Two-tailed test:\n",
    "\n",
    "Null hypothesis (H0): The new drug has no effect on test scores (μ = μ0).\n",
    "Alternative hypothesis (Ha): The new drug has an effect on test scores (μ ≠ μ0).\n",
    "The critical region for rejection is divided between both tails of the distribution."
   ]
  },
  {
   "cell_type": "code",
   "execution_count": null,
   "id": "8cd60371-4f09-407b-8114-e869e1ffa0e5",
   "metadata": {},
   "outputs": [],
   "source": []
  },
  {
   "cell_type": "raw",
   "id": "b725aab0-ad40-4d89-9e4f-b0a61b6f5d29",
   "metadata": {},
   "source": [
    "Q3: Explain the concept of Type 1 and Type 2 errors in hypothesis testing. Provide an example scenario for\n",
    "each type of error."
   ]
  },
  {
   "cell_type": "raw",
   "id": "334a4acd-5fda-468e-9ec0-c9589b7a102f",
   "metadata": {},
   "source": [
    "n hypothesis testing, Type 1 and Type 2 errors are two potential mistakes that can occur when making a decision about a null hypothesis. These errors are related to the accuracy of the test and are often expressed in the context of a significance level (α) and the power of the test (1 - β).\n",
    "\n",
    "Type 1 Error (False Positive, α):\n",
    "Type 1 error occurs when a null hypothesis that is actually true is rejected. In other words, you conclude that there is an effect or difference when there isn't one in the population.\n",
    "The probability of making a Type 1 error is denoted as α and is typically set as the significance level of the test (e.g., α = 0.05).\n",
    "Type 1 errors are considered more serious in situations where incorrect conclusions can have significant consequences.\n",
    "Example Scenario:\n",
    "Imagine a pharmaceutical company testing a new drug for safety. The null hypothesis (H0) is that the drug is safe, but it is mistakenly rejected (false positive) based on the sample data, leading to a conclusion that the drug is not safe when, in fact, it is. This could result in the rejection of a potentially beneficial drug.\n",
    "\n",
    "Type 2 Error (False Negative, β):\n",
    "Type 2 error occurs when a null hypothesis that is actually false is not rejected. In other words, you fail to detect an effect or difference in the population when one exists.\n",
    "The probability of making a Type 2 error is denoted as β. The power of the test (1 - β) is the probability of correctly rejecting a false null hypothesis.\n",
    "Type 2 errors are problematic when you fail to identify important effects or differences.\n",
    "Example Scenario:\n",
    "Suppose a medical test is conducted to detect a rare disease, and the null hypothesis (H0) is that a person is healthy. A Type 2 error occurs when the test fails to detect the disease in a patient who is actually sick (false negative). This can lead to a delayed diagnosis and treatment, potentially causing harm to the patient."
   ]
  },
  {
   "cell_type": "code",
   "execution_count": null,
   "id": "e60edc49-2155-4081-9daa-012dc9cbabb4",
   "metadata": {},
   "outputs": [],
   "source": []
  },
  {
   "cell_type": "raw",
   "id": "a0ce6aeb-76ad-4a31-901e-9694160db4a7",
   "metadata": {},
   "source": [
    "Q4: Explain Bayes's theorem with an example."
   ]
  },
  {
   "cell_type": "raw",
   "id": "fa0f9d88-b653-4092-ba16-b11e67e72316",
   "metadata": {},
   "source": [
    " Explain Bayes's theorem with an example.\n",
    "ChatGPT\n",
    "Bayes's theorem, named after the 18th-century statistician and philosopher Thomas Bayes, is a fundamental concept in probability theory and statistics. It provides a way to update the probability of an event based on new evidence or information. Bayes's theorem is particularly useful in situations where we want to make inferences about the probability of an event given prior knowledge and observed data.\n",
    "\n",
    "The theorem can be stated as follows:\n",
    "P(A|B) = [P(B|A) * P(A)] / P(B)\n",
    "Where:\n",
    "P(A|B) is the conditional probability of event A given event B.\n",
    "P(B|A) is the conditional probability of event B given event A.\n",
    "P(A) and P(B) are the probabilities of events A and B, respectively.\n",
    "Let's illustrate Bayes's theorem with a simple example:\n",
    "\n",
    "Suppose you have a rare medical condition, and you want to determine the probability of having the condition given the results of a diagnostic test. Here's the information you have:\n",
    "\n",
    "The prevalence of the medical condition in the general population (P(A)) is 0.01, or 1% (this is your prior probability of having the condition).\n",
    "The diagnostic test has an 80% sensitivity, meaning it correctly identifies those who have the condition (P(B|A) = 0.80).\n",
    "The diagnostic test has a 10% false positive rate, meaning it incorrectly indicates that some healthy individuals have the condition (P(B|¬A) = 0.10, where ¬A means not having the condition).\n",
    "Now, you've taken the test, and it came back positive (B).\n",
    "\n",
    "You want to find the probability that you actually have the condition (A|B). To do this, you can use Bayes's theorem:\n",
    "\n",
    "P(A|B) = [P(B|A) * P(A)] / P(B)\n",
    "\n",
    "P(A|B) = (0.80 * 0.01) / [P(B|A) * P(A) + P(B|¬A) * P(¬A)]\n",
    "\n",
    "P(A|B) = (0.80 * 0.01) / [(0.80 * 0.01) + (0.10 * 0.99)]\n",
    "\n",
    "P(A|B) ≈ 0.074 or 7.4%\n",
    "\n",
    "So, based on the positive test result, your probability of actually having the medical condition is approximately 7.4%. This is significantly lower than the sensitivity of the test (80%) because there's a substantial chance of a false positive result (10%). It highlights the importance of considering the prior probability (prevalence) when interpreting the results of a diagnostic test. Bayes's theorem helps to update your beliefs based on new evidence, such as the test result, and provides a more accurate estimate of the probability of having the condition."
   ]
  },
  {
   "cell_type": "code",
   "execution_count": null,
   "id": "8983bf4d-74b4-4e4f-b2f2-aa9deca90b38",
   "metadata": {},
   "outputs": [],
   "source": []
  },
  {
   "cell_type": "raw",
   "id": "6d6173e4-44b7-4de4-a9ab-129cc08c60e4",
   "metadata": {},
   "source": [
    "Q5: What is a confidence interval? How to calculate the confidence interval, explain with an example."
   ]
  },
  {
   "cell_type": "raw",
   "id": "9309c147-775a-4341-b0d5-556a14ca754d",
   "metadata": {},
   "source": [
    "\n",
    "A confidence interval is a statistical range or interval that is used to estimate the true or population parameter (such as the population mean or population proportion) based on a sample from that population. It provides a range of values within which we believe the true parameter is likely to fall with a certain level of confidence. The level of confidence is typically expressed as a percentage (e.g., 95% confidence interval).\n",
    "\n",
    "To calculate a confidence interval, you follow these general steps:\n",
    "\n",
    "Select a confidence level: Typically, you choose a confidence level, often denoted as (1 - α), where α is the significance level. A common choice is a 95% confidence level, which corresponds to α = 0.05.\n",
    "\n",
    "Collect a sample: Take a random sample from the population you are interested in and record the relevant data (e.g., sample mean, sample standard deviation for estimating a population mean).\n",
    "\n",
    "Calculate the point estimate: Compute the sample statistic (e.g., the sample mean) that you want to estimate the population parameter.\n",
    "\n",
    "Determine the margin of error: The margin of error is a measure of the variability and is often determined by the standard error of the sample statistic. The formula for the margin of error depends on the type of parameter you are estimating (e.g., mean or proportion).\n",
    "\n",
    "Calculate the confidence interval: Use the point estimate and the margin of error to calculate the lower and upper bounds of the confidence interval. The formula for the confidence interval also depends on the type of parameter."
   ]
  },
  {
   "cell_type": "code",
   "execution_count": null,
   "id": "079914f7-dbb2-40ef-8ba8-bf60afb778c2",
   "metadata": {},
   "outputs": [],
   "source": []
  },
  {
   "cell_type": "raw",
   "id": "40e20bd7-23ff-4514-990c-f2cc53d34ab0",
   "metadata": {},
   "source": [
    "Q6. Use Bayes' Theorem to calculate the probability of an event occurring given prior knowledge of the\n",
    "event's probability and new evidence. Provide a sample problem and solution."
   ]
  },
  {
   "cell_type": "raw",
   "id": "f42bedef-1661-4ca0-a63c-86e80e204e52",
   "metadata": {},
   "source": [
    "Problem:\n",
    "Suppose you are a quality control manager at a factory, and you want to determine the probability that a product is defective (Event A) given that it failed a stress test (Event B). You have the following information:\n",
    "\n",
    "The prior probability of a product being defective, P(A) = 0.10 (10% of products are defective).\n",
    "The probability that a non-defective product fails the stress test, P(B|¬A) = 0.05 (5% of non-defective products fail the test).\n",
    "The probability that a defective product fails the stress test, P(B|A) = 0.90 (90% of defective products fail the test).\n",
    "Now, you want to calculate the probability that a product that failed the stress test is, in fact, defective (P(A|B)).\n",
    "\n",
    "Solution using Bayes' Theorem:\n",
    "Bayes' Theorem can be used to calculate the conditional probability P(A|B) as follows:\n",
    "\n",
    "P(A|B) = [P(B|A) * P(A)] / P(B)\n",
    "\n",
    "First, we need to calculate P(B), which can be done using the law of total probability:\n",
    "\n",
    "P(B) = P(B|A) * P(A) + P(B|¬A) * P(¬A)\n",
    "\n",
    "P(B) = (0.90 * 0.10) + (0.05 * 0.90)\n",
    "\n",
    "P(B) = 0.09 + 0.045\n",
    "\n",
    "P(B) = 0.135\n",
    "\n",
    "Now, we can use Bayes' Theorem to calculate P(A|B):\n",
    "\n",
    "P(A|B) = (0.90 * 0.10) / 0.135\n",
    "\n",
    "P(A|B) = 0.09 / 0.135\n",
    "\n",
    "P(A|B) ≈ 0.6667\n",
    "\n",
    "So, the probability that a product is defective (Event A) given that it failed the stress test (Event B) is approximately 0.6667, or 66.67%. This means that, if a product fails the stress test, there's a high likelihood (66.67%) that it is defective, even though only 10% of all products are initially defective. Bayes' Theorem allows you to update your beliefs and probabilities based on new evidence."
   ]
  },
  {
   "cell_type": "code",
   "execution_count": null,
   "id": "bd68aea9-b1dc-4663-a992-a0b247434a8a",
   "metadata": {},
   "outputs": [],
   "source": []
  },
  {
   "cell_type": "raw",
   "id": "ae2be39b-aa87-4d4a-b14c-15dee8526415",
   "metadata": {},
   "source": [
    "Q7. Calculate the 95% confidence interval for a sample of data with a mean of 50 and a standard deviation\n",
    "of 5. Interpret the results."
   ]
  },
  {
   "cell_type": "raw",
   "id": "744d21b0-2965-4adf-85bd-4571c3a91ae3",
   "metadata": {},
   "source": [
    "To calculate a 95% confidence interval for a sample of data with a mean of 50 and a standard deviation of 5, you can use the following formula:\n",
    "\n",
    "Confidence Interval = X̄ ± Z * (σ / √n)\n",
    "Where:\n",
    "X̄ is the sample mean (in this case, 50).\n",
    "Z is the critical value for the desired confidence level (95% confidence corresponds to a Z-value of 1.96 for a two-tailed test).\n",
    "σ is the population standard deviation (in this case, 5).\n",
    "n is the sample size (you haven't provided the sample size, so I'll assume it's 30 for illustration).\n",
    "Now, let's plug in the values and calculate the confidence interval:\n",
    "\n",
    "Confidence Interval = 50 ± 1.96 * (5 / √30)\n",
    "\n",
    "Confidence Interval ≈ 50 ± 1.96 * (5 / √30)\n",
    "Confidence Interval ≈ 50 ± 1.96 * (5 / 5.48)\n",
    "Confidence Interval ≈ 50 ± 1.96 * 0.91\n",
    "Confidence Interval ≈ 50 ± 1.78\n",
    "\n",
    "So, the 95% confidence interval for the sample mean with a sample size of 30 is approximately (48.22, 51.78)."
   ]
  },
  {
   "cell_type": "code",
   "execution_count": null,
   "id": "4fe5fad7-549b-4599-9977-644e1315de44",
   "metadata": {},
   "outputs": [],
   "source": []
  },
  {
   "cell_type": "markdown",
   "id": "572e5e70-19ef-4cb3-a5df-b702966e212e",
   "metadata": {},
   "source": [
    "Q8. What is the margin of error in a confidence interval? How does sample size affect the margin of error?\n",
    "Provide an example of a scenario where a larger sample size would result in a smaller margin of error."
   ]
  },
  {
   "cell_type": "raw",
   "id": "78971798-f60a-4325-a69d-6e9b1365a7f0",
   "metadata": {},
   "source": [
    "Example scenario:\n",
    "\n",
    "Suppose you want to estimate the average height of all adult males in a city with a 95% confidence level. You take two different sample sizes, one with 100 individuals and another with 500 individuals.\n",
    "\n",
    "For the first sample (n = 100), let's assume the margin of error (MOE) is 2 inches. This means that you are 95% confident that the true average height of adult males in the city falls within 2 inches of your sample mean.\n",
    "\n",
    "For the second sample (n = 500), with a larger sample size, the MOE is reduced to 1 inch, still at a 95% confidence level. This means you have more confidence that the true average height falls within a smaller range of your sample mean.\n",
    "\n",
    "In this example, the larger sample size (500) results in a smaller margin of error (1 inch), indicating a more precise estimate of the population parameter. This increased precision is why researchers often prefer larger sample sizes when conducting surveys or experiments because it provides more confidence in the accuracy of their estimates."
   ]
  },
  {
   "cell_type": "code",
   "execution_count": null,
   "id": "0841e4a3-6b35-4bf4-80f3-7d165b23d58d",
   "metadata": {},
   "outputs": [],
   "source": []
  },
  {
   "cell_type": "raw",
   "id": "1ec22103-867d-4b19-8cb1-e01a8bc2f4dc",
   "metadata": {},
   "source": [
    "Q9. Calculate the z-score for a data point with a value of 75, a population mean of 70, and a population\n",
    "standard deviation of 5. Interpret the results."
   ]
  },
  {
   "cell_type": "raw",
   "id": "22505073-8fd2-46ad-b270-11792d877c41",
   "metadata": {},
   "source": [
    "z=(x-u)/σ\n",
    "\n",
    "Here:\n",
    "x=data set\n",
    "u=mean\n",
    "σ  = standard deviation\n",
    "\n",
    "The resulting z-score indicates how many standard deviations the data point is above or below the mean. If the z-score is positive, it means the data point is above the mean, and if it's negative, it means the data point is below the mean. A z-score of 0 means the data point is equal to the mean.Now as z is 1 we can conclude that the data point  is above the mean. "
   ]
  },
  {
   "cell_type": "code",
   "execution_count": null,
   "id": "9d962f15-6807-49d9-973c-aad0336598a8",
   "metadata": {},
   "outputs": [],
   "source": []
  },
  {
   "cell_type": "raw",
   "id": "22f726fd-b03f-42d7-9d73-2ee2deb8c0e0",
   "metadata": {},
   "source": [
    "Q10. In a study of the effectiveness of a new weight loss drug, a sample of 50 participants lost an average\n",
    "of 6 pounds with a standard deviation of 2.5 pounds. Conduct a hypothesis test to determine if the drug is\n",
    "significantly effective at a 95% confidence level using a t-test."
   ]
  },
  {
   "cell_type": "code",
   "execution_count": null,
   "id": "ff3391c0-3962-447b-be4c-3abf8f0647c2",
   "metadata": {},
   "outputs": [],
   "source": []
  }
 ],
 "metadata": {
  "kernelspec": {
   "display_name": "Python 3 (ipykernel)",
   "language": "python",
   "name": "python3"
  },
  "language_info": {
   "codemirror_mode": {
    "name": "ipython",
    "version": 3
   },
   "file_extension": ".py",
   "mimetype": "text/x-python",
   "name": "python",
   "nbconvert_exporter": "python",
   "pygments_lexer": "ipython3",
   "version": "3.10.8"
  }
 },
 "nbformat": 4,
 "nbformat_minor": 5
}
