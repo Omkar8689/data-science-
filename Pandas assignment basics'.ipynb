{
 "cells": [
  {
   "cell_type": "raw",
   "id": "1f57ec87-ccb3-4be4-a444-de14fd8415e8",
   "metadata": {},
   "source": [
    "Q1. Create a Pandas Series that contains the following data: 4, 8, 15, 16, 23, and 42. Then, print the series."
   ]
  },
  {
   "cell_type": "code",
   "execution_count": 1,
   "id": "cdee1274-eeeb-48dd-9833-e50c6297ee2e",
   "metadata": {},
   "outputs": [],
   "source": [
    "import pandas as pd"
   ]
  },
  {
   "cell_type": "code",
   "execution_count": 2,
   "id": "d5625413-4f7c-4288-9d32-e1bb6aeb129b",
   "metadata": {},
   "outputs": [
    {
     "name": "stdout",
     "output_type": "stream",
     "text": [
      "Requirement already satisfied: pandas in /opt/conda/lib/python3.10/site-packages (1.5.2)\n",
      "Requirement already satisfied: python-dateutil>=2.8.1 in /opt/conda/lib/python3.10/site-packages (from pandas) (2.8.2)\n",
      "Requirement already satisfied: pytz>=2020.1 in /opt/conda/lib/python3.10/site-packages (from pandas) (2022.6)\n",
      "Requirement already satisfied: numpy>=1.21.0 in /opt/conda/lib/python3.10/site-packages (from pandas) (1.23.5)\n",
      "Requirement already satisfied: six>=1.5 in /opt/conda/lib/python3.10/site-packages (from python-dateutil>=2.8.1->pandas) (1.16.0)\n",
      "Note: you may need to restart the kernel to use updated packages.\n"
     ]
    }
   ],
   "source": [
    "pip install pandas"
   ]
  },
  {
   "cell_type": "code",
   "execution_count": 3,
   "id": "c3c32dea-8ba4-4390-b2f8-b1cb6cd8fb2a",
   "metadata": {},
   "outputs": [
    {
     "name": "stdout",
     "output_type": "stream",
     "text": [
      "0     4\n",
      "1     8\n",
      "2    15\n",
      "3    16\n",
      "4    23\n",
      "5    42\n",
      "dtype: int64\n"
     ]
    }
   ],
   "source": [
    "import pandas as pd\n",
    "\n",
    "data = [4, 8, 15, 16, 23, 42]\n",
    "series = pd.Series(data)\n",
    "\n",
    "print(series)\n"
   ]
  },
  {
   "cell_type": "markdown",
   "id": "7c937952-0df8-4cea-a362-16d4618f722d",
   "metadata": {},
   "source": []
  },
  {
   "cell_type": "markdown",
   "id": "fda88db4-50c2-4c91-b794-f59a1fd3064a",
   "metadata": {},
   "source": [
    "Q2. Create a variable of list type containing 10 elements in it, and apply pandas.Series function on the\n",
    "variable print it."
   ]
  },
  {
   "cell_type": "code",
   "execution_count": 4,
   "id": "0e51c733-5cdb-432d-9581-66566d8e57af",
   "metadata": {},
   "outputs": [
    {
     "name": "stdout",
     "output_type": "stream",
     "text": [
      "0         4\n",
      "1         8\n",
      "2        15\n",
      "3        16\n",
      "4        23\n",
      "5        42\n",
      "6         5\n",
      "7         3\n",
      "8         2\n",
      "9         1\n",
      "10     3343\n",
      "11    53455\n",
      "12     3434\n",
      "13      321\n",
      "dtype: int64\n"
     ]
    }
   ],
   "source": [
    "import pandas as pd\n",
    "\n",
    "data = [4, 8, 15, 16, 23, 42,5,3,2,1,3343,53455,3434,321]\n",
    "series = pd.Series(data)\n",
    "\n",
    "print(series)\n"
   ]
  },
  {
   "cell_type": "code",
   "execution_count": null,
   "id": "8c3cb5c0-3b38-4138-8878-7823a24bf1ad",
   "metadata": {},
   "outputs": [],
   "source": []
  },
  {
   "cell_type": "raw",
   "id": "bc80fff1-0288-4a3e-885c-b84ad6c26ae4",
   "metadata": {},
   "source": [
    "Q3. Create a Pandas DataFrame that contains the following data:\n",
    "Name\n",
    "Alice\n",
    "Bob\n",
    "Claire\n",
    "\n",
    "Age\n",
    "25\n",
    "30\n",
    "27\n",
    "\n",
    "Gender\n",
    "Female\n",
    "Male\n",
    "Female\n",
    "Then, print the DataFrame."
   ]
  },
  {
   "cell_type": "code",
   "execution_count": 5,
   "id": "b82aae55-0c59-4445-a077-aa3edec113ac",
   "metadata": {},
   "outputs": [
    {
     "name": "stdout",
     "output_type": "stream",
     "text": [
      "     Name  Age  Gender\n",
      "0   Alice   25  Female\n",
      "1     Bob   30    Male\n",
      "2  Claire   27  Female\n"
     ]
    }
   ],
   "source": [
    "import pandas as pd\n",
    "\n",
    "data = {\n",
    "    'Name': ['Alice', 'Bob', 'Claire'],\n",
    "    'Age': [25, 30, 27],\n",
    "    'Gender': ['Female', 'Male', 'Female']\n",
    "}\n",
    "\n",
    "df = pd.DataFrame(data)\n",
    "print(df)\n"
   ]
  },
  {
   "cell_type": "raw",
   "id": "ab230a7c-5882-4087-90f4-5d122249b2cb",
   "metadata": {},
   "source": [
    "Q4. What is ‘DataFrame’ in pandas and how is it different from pandas.series? Explain with an example."
   ]
  },
  {
   "cell_type": "raw",
   "id": "2036947a-2b4a-413c-86e8-2c2abf084677",
   "metadata": {},
   "source": [
    "DataFrame is a 2-dimensional labeled data structure with columns of potentially different types. \n",
    "\n",
    "Series is used where the data is not much more while dataframe is used in the pandas where the data set is large.\n",
    "\n",
    "A DataFrame in pandas is a two-dimensional, size-mutable, and heterogeneous tabular data structure. It can be thought of as a table, similar to a spreadsheet or a SQL table, where data is organized into rows and columns. Each column in a DataFrame can hold different types of data, such as numbers, strings, or dates. DataFrames are a fundamental data structure in pandas and are designed to handle and manipulate data efficiently.\n",
    "\n",
    "On the other hand, a pandas Series is a one-dimensional labeled array, similar to a column in a DataFrame. It is capable of holding any data type and is often used to represent a single column of data with an associated index. Think of it as a specialized array with an index that labels each element."
   ]
  },
  {
   "cell_type": "code",
   "execution_count": null,
   "id": "19d5530f-9547-4e90-99dd-247e13d55404",
   "metadata": {},
   "outputs": [],
   "source": []
  },
  {
   "cell_type": "raw",
   "id": "f3a15b1d-f3b8-442a-8978-8259cf4b6fea",
   "metadata": {},
   "source": [
    "Q5. What are some common functions you can use to manipulate data in a Pandas DataFrame? Can\n",
    "you give an example of when you might use one of these functions?"
   ]
  },
  {
   "cell_type": "raw",
   "id": "a2abbcc2-306d-4d44-a23c-a631e1ae69f2",
   "metadata": {},
   "source": [
    "1.read()- This function is used to read the data which is not in structured format.\n",
    "2. columns()-This function is used to get the columns\n",
    "3. head()-This function is used to get the first 5 rows.\n",
    "4.Tail()-This function is used to get the last 5 rows.\n",
    "5.type()-This function is used to get the type of that data .\n",
    "6 info(): This function provides a concise summary of the DataFrame, including data types, non-null values, and memory usage. It's helpful for understanding the structure of your data.\n",
    "7.drop(): This function lets you remove specific rows or columns from the DataFrame.\n",
    "8.sort(): This function is used to sort the data.\n"
   ]
  },
  {
   "cell_type": "code",
   "execution_count": null,
   "id": "565aed33-7e71-4ab6-8bd5-2261cc42f918",
   "metadata": {},
   "outputs": [],
   "source": []
  },
  {
   "cell_type": "raw",
   "id": "8fed0484-eae9-4d23-9b39-087f9b2f9b09",
   "metadata": {},
   "source": [
    "Q6. Which of the following is mutable in nature Series, DataFrame, Panel?"
   ]
  },
  {
   "cell_type": "raw",
   "id": "f0fbe0ab-29d1-47ee-b993-c82207abf5b6",
   "metadata": {},
   "source": [
    "Here both series and Dataframes are mutable.Panel is not mutable."
   ]
  },
  {
   "cell_type": "code",
   "execution_count": null,
   "id": "c10fd2ac-8334-4df4-ae67-e97de3cd1f98",
   "metadata": {},
   "outputs": [],
   "source": []
  },
  {
   "cell_type": "markdown",
   "id": "33ef7ee4-5d43-4626-9bf2-c90caecb6f95",
   "metadata": {},
   "source": [
    "Q7. Create a DataFrame using multiple Series. Explain with an example."
   ]
  },
  {
   "cell_type": "code",
   "execution_count": null,
   "id": "a34a649c-cf78-4e5b-94e9-6042a07af683",
   "metadata": {},
   "outputs": [],
   "source": [
    "import pandas as pd\n",
    "\n",
    "\n",
    "names = pd.Series(['Ash', 'Bob', 'Charry', 'Don'])\n",
    "ages = pd.Series([5, 33, 22, 28])\n",
    "scores = pd.Series([5, 7, 40, 58])\n",
    "\n",
    "\n",
    "data = {\n",
    "    'Name': names,\n",
    "    'Age': ages,\n",
    "    'Score': scores\n",
    "}\n",
    "\n",
    "df = pd.DataFrame(data)\n",
    "\n",
    "print(df)\n"
   ]
  }
 ],
 "metadata": {
  "kernelspec": {
   "display_name": "Python 3 (ipykernel)",
   "language": "python",
   "name": "python3"
  },
  "language_info": {
   "codemirror_mode": {
    "name": "ipython",
    "version": 3
   },
   "file_extension": ".py",
   "mimetype": "text/x-python",
   "name": "python",
   "nbconvert_exporter": "python",
   "pygments_lexer": "ipython3",
   "version": "3.10.8"
  }
 },
 "nbformat": 4,
 "nbformat_minor": 5
}
