{
 "cells": [
  {
   "cell_type": "markdown",
   "id": "f02e378c-aaf0-44c5-8619-3851548d1a1f",
   "metadata": {},
   "source": [
    "1) How do you comment code in Python? What are the different types of comments?\n",
    "-> We comment in python by two ways \n",
    " a) by using #\n",
    " b)by using ''' '''\n",
    " \n",
    " Single line comment -\n",
    "   In this type of comment we can comment to only one line. Comment is done using (#) \n",
    " Multiline Comment-\n",
    "   In this type of comment we can comment to multiple lines\n",
    "   Comment is done by ('''  ''')\n",
    "\n"
   ]
  },
  {
   "cell_type": "markdown",
   "id": "7279386c-69a9-438c-9738-fc2f2fe77001",
   "metadata": {},
   "source": [
    "Q2. What are variables in Python? How do you declare and assign values to variables?\n",
    "->variables are nothing but work like the pointers as pointer point to the data variables also points or give information about the data\n",
    " we can declare variable name as per our choice.We can give them name as per our choice(for eg.It should be integer character etc)\n",
    " We declare the variable  at the left side and assign them data.There is present the equal to sign in between variable name and the data.\n",
    " for eg.a=67\n",
    " here a is variable and 67 is the data\n",
    " "
   ]
  },
  {
   "cell_type": "markdown",
   "id": "3d8e1f8f-da2d-4934-b668-bd2244b130a2",
   "metadata": {},
   "source": [
    "Q3. How do you convert one data type to another in Python?\n",
    "-> We can  convert one data type to another data type by using functions such as  if we want to convert the data from float to int we just have to write floating number inside the int function as follows\n",
    "    a=5.12336\n",
    "    suppose there is given number as floating point number and we want an integer then we just to do as follows-\n",
    "    int(a)\n",
    "    \n",
    "    similarely we can convert data from string to integer ,integer to float and vice versa\n",
    "    \n",
    "    the code is as follows->"
   ]
  },
  {
   "cell_type": "code",
   "execution_count": 2,
   "id": "7d63c788-3e5f-4d8e-9b00-11e43181e5d7",
   "metadata": {},
   "outputs": [
    {
     "data": {
      "text/plain": [
       "5"
      ]
     },
     "execution_count": 2,
     "metadata": {},
     "output_type": "execute_result"
    }
   ],
   "source": [
    "a=5.12541\n",
    "a=int(a)\n",
    "a"
   ]
  },
  {
   "cell_type": "markdown",
   "id": "107389c5-bf16-439c-aae1-c5fcebd3a369",
   "metadata": {},
   "source": [
    "Q4. How do you write and execute a Python script from the command line?\n",
    "\n",
    "  ->The Python script is basically a file containing code written in Python. The file containing python script has the extension ‘.py’. To run a python script, we need a python interpreter.\n",
    "\n",
    "Here is a simple python script to print ‘PWSKILLS’:\n",
    "\n",
    "print('‘PWSKILLS’')\n",
    "Here, the ‘print()’ function is to print out any text written within the parenthesis. We can write the text that we want to be printed using either a single quote as shown in the above script or a double quote.\n",
    "\n",
    "If you are coming from any other language then you will also notice that there is no semicolon at the end of the statement as with Python, you no need to specify the end of the line. And also we don’t need to include or import any files to run a simple python script."
   ]
  },
  {
   "cell_type": "code",
   "execution_count": null,
   "id": "31875ba6-3e4c-4b2b-9e15-9b486d24b66e",
   "metadata": {},
   "outputs": [],
   "source": []
  },
  {
   "cell_type": "markdown",
   "id": "b0657361-b7d8-4a05-a95e-bf695f28e34d",
   "metadata": {},
   "source": [
    "Q5. Given a list my_list = [1, 2, 3, 4, 5], write the code to slice the list and obtain the sub-list [2, 3]."
   ]
  },
  {
   "cell_type": "code",
   "execution_count": 13,
   "id": "e2b51f67-82af-480a-90a8-1175a0030cf9",
   "metadata": {},
   "outputs": [
    {
     "data": {
      "text/plain": [
       "[2, 3]"
      ]
     },
     "execution_count": 13,
     "metadata": {},
     "output_type": "execute_result"
    }
   ],
   "source": [
    "my_list = [1, 2, 3, 4, 5]\n",
    "my_list[1:3]"
   ]
  },
  {
   "cell_type": "code",
   "execution_count": null,
   "id": "9b15b9b3-b594-4d57-b7b8-901b321bc9fc",
   "metadata": {},
   "outputs": [],
   "source": [
    "\n"
   ]
  },
  {
   "cell_type": "markdown",
   "id": "566a8309-e089-401c-9fbb-09c41423e771",
   "metadata": {},
   "source": [
    "Q6. What is a complex number in mathematics, and how is it represented in Python?\n",
    "-> complex numbers are the numbers that are represented by a+bi\n",
    "where a & b are real numbers and i is an imaginary number\n",
    "  In python complex number is represented by as follows-\n",
    "   a+bj\n",
    "   where a & b are real numbers and j is  an imaginary number\n",
    "    \n",
    "      "
   ]
  },
  {
   "cell_type": "markdown",
   "id": "be628f6d-a50f-4a39-84b9-4a305150f307",
   "metadata": {},
   "source": [
    "Q7. What is the correct way to declare a variable named age and assign the value 25 to it?\n",
    "  ->   The correct way to declare the variable  named age is as follows-\n",
    "       age=25\n",
    "       here age is an variable and 25 is the value"
   ]
  },
  {
   "cell_type": "markdown",
   "id": "04f07116-4987-4334-8eba-9e9cb561cd5b",
   "metadata": {},
   "source": [
    "Q8. Declare a variable named price and assign the value 9.99 to it. What data type does this variable\n",
    "belong to?\n",
    "->   price=9.99\n",
    "this data is the type of floating number \n",
    "  "
   ]
  },
  {
   "cell_type": "code",
   "execution_count": null,
   "id": "42be39a3-855e-456c-847a-b5fb288db88f",
   "metadata": {},
   "outputs": [],
   "source": []
  },
  {
   "cell_type": "markdown",
   "id": "ed49dbc5-22dd-411e-8a2d-8b3448165a7b",
   "metadata": {},
   "source": [
    "Q9. Create a variable named name and assign your full name to it as a string. How would you print the\n",
    "value of this variable?    "
   ]
  },
  {
   "cell_type": "code",
   "execution_count": 14,
   "id": "32ac8e0d-c0dd-4863-85ee-7187aa45a213",
   "metadata": {},
   "outputs": [
    {
     "name": "stdout",
     "output_type": "stream",
     "text": [
      " Aditya Ram Desai\n"
     ]
    }
   ],
   "source": [
    "name=\" Aditya Ram Desai\"\n",
    "print(name)"
   ]
  },
  {
   "cell_type": "markdown",
   "id": "59d0a6eb-c6aa-4668-8259-2c4f14b8810f",
   "metadata": {},
   "source": [
    "Q10. Given the string \"Hello, World!\", extract the substring \"World\"."
   ]
  },
  {
   "cell_type": "code",
   "execution_count": 18,
   "id": "4f29187f-26a8-4e11-8b06-6cb81d80d352",
   "metadata": {},
   "outputs": [
    {
     "name": "stdout",
     "output_type": "stream",
     "text": [
      "World!\n"
     ]
    }
   ],
   "source": [
    "a=\"Hello, World!\"\n",
    "print(a[7:14:1])"
   ]
  },
  {
   "cell_type": "code",
   "execution_count": null,
   "id": "c5d6ddf2-96fa-471b-8dab-54506afcae66",
   "metadata": {},
   "outputs": [],
   "source": []
  },
  {
   "cell_type": "markdown",
   "id": "f853f1cb-f1c6-4b08-86e5-95b2e3885982",
   "metadata": {},
   "source": [
    "Q11. Create a variable named \"is_student\" and assign it a boolean value indicating whether you are\n",
    "currently a student or not."
   ]
  },
  {
   "cell_type": "code",
   "execution_count": null,
   "id": "ecfa588c-a230-469d-813d-74734e8fcd6c",
   "metadata": {},
   "outputs": [],
   "source": []
  }
 ],
 "metadata": {
  "kernelspec": {
   "display_name": "Python 3 (ipykernel)",
   "language": "python",
   "name": "python3"
  },
  "language_info": {
   "codemirror_mode": {
    "name": "ipython",
    "version": 3
   },
   "file_extension": ".py",
   "mimetype": "text/x-python",
   "name": "python",
   "nbconvert_exporter": "python",
   "pygments_lexer": "ipython3",
   "version": "3.10.8"
  }
 },
 "nbformat": 4,
 "nbformat_minor": 5
}
