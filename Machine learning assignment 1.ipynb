{
 "cells": [
  {
   "cell_type": "code",
   "execution_count": null,
   "id": "2517da37-a1f1-4350-9650-6c8348b3b6e7",
   "metadata": {},
   "outputs": [],
   "source": [
    "Q- Explain the following with an example-\n",
    "  Artificial Intelligence \n",
    "    Machine learning \n",
    "    Deep learning "
   ]
  },
  {
   "cell_type": "raw",
   "id": "637d3ae4-0bda-45f6-a1e3-d0b2d60008b2",
   "metadata": {},
   "source": [
    "Artificial Intelligence is basically the mechanism to incorporate human intelligence into machines through a set of rules(algorithm). AI is a combination of two words: “Artificial” meaning something made by humans or non-natural things and “Intelligence” meaning the ability to understand or think accordingly. Another definition could be that “AI is basically the study of training your machine(computers) to mimic a human brain and its thinking capabilities”. \n",
    "\n",
    "AI focuses on 3 major aspects(skills): learning, reasoning, and self-correction to obtain the maximum efficiency possible. \n",
    "\n",
    "Machine Learning:\n",
    "\n",
    " Machine Learning is basically the study/process which provides the system(computer) to learn automatically on its own through experiences it had and improve accordingly without being explicitly programmed. ML is an application or subset of AI. ML focuses on the development of programs so that it can access data to use it for itself. The entire process makes observations on data to identify the possible patterns being formed and make better future decisions as per the examples provided to them. The major aim of ML is to allow the systems to learn by themselves through experience without any kind of human intervention or assistance.\n",
    "\n",
    "\n",
    " Deep Learning:\n",
    "\n",
    " Deep Learning is basically a sub-part of the broader family of Machine Learning which makes use of Neural Networks(similar to the neurons working in our brain) to mimic human brain-like behavior. DL algorithms focus on information processing patterns mechanism to possibly identify the patterns just like our human brain does and classifies the information accordingly. DL works on larger sets of data when compared to ML and the prediction mechanism is self-administered by machines"
   ]
  },
  {
   "cell_type": "code",
   "execution_count": null,
   "id": "e7a30b53-0d0a-4ca7-98ef-b240fa4e84e1",
   "metadata": {},
   "outputs": [],
   "source": []
  },
  {
   "cell_type": "markdown",
   "id": "096f9338-2a8e-4cd5-8859-6d67015f02f2",
   "metadata": {},
   "source": [
    "Q2- What is supervised learning? List some examples of supervised learning."
   ]
  },
  {
   "cell_type": "code",
   "execution_count": null,
   "id": "669f594f-6ef0-4a29-bf1b-73ef918bcdc0",
   "metadata": {},
   "outputs": [],
   "source": []
  },
  {
   "cell_type": "code",
   "execution_count": null,
   "id": "5443bf4a-8de1-44f3-b2ed-8b373fbdcd47",
   "metadata": {},
   "outputs": [],
   "source": []
  },
  {
   "cell_type": "raw",
   "id": "5c13964c-6254-4fcc-a442-fc2355c99fe0",
   "metadata": {},
   "source": [
    "Supervised learning is the types of machine learning in which machines are trained using well \"labelled\" training data, and on basis of that data, machines predict the output. The labelled data means some input data is already tagged with the correct output.\n",
    "\n",
    "In supervised learning, the training data provided to the machines work as the supervisor that teaches the machines to predict the output correctly. It applies the same concept as a student learns in the supervision of the teacher.\n",
    "\n",
    "Supervised learning is a process of providing input data as well as correct output data to the machine learning model. The aim of a supervised learning algorithm is to find a mapping function to map the input variable(x) with the output variable(y).\n",
    "\n",
    "In the real-world, supervised learning can be used for Risk Assessment, Image classification, Fraud Detection, spam filtering, etc."
   ]
  },
  {
   "cell_type": "code",
   "execution_count": null,
   "id": "30b83bab-1a92-4b7e-9b04-79f791e8f1c7",
   "metadata": {},
   "outputs": [],
   "source": []
  },
  {
   "cell_type": "code",
   "execution_count": null,
   "id": "b2ebfd4c-521d-4e96-88ef-1cbd2be83d0b",
   "metadata": {},
   "outputs": [],
   "source": [
    "Q3- What is unsupervised learning? List some examples of unsupervised learning."
   ]
  },
  {
   "cell_type": "raw",
   "id": "88285173-5140-4f0a-ac76-af054176bf6c",
   "metadata": {},
   "source": [
    "Unsupervised learning, also known as unsupervised machine learning, uses machine learning algorithms to analyze and cluster unlabeled datasets. These algorithms discover hidden patterns or data groupings without the need for human intervention.\n",
    "Its ability to discover similarities and differences in information make it the ideal solution for exploratory data analysis, cross-selling strategies, customer segmentation, and image recognition."
   ]
  },
  {
   "cell_type": "code",
   "execution_count": null,
   "id": "1c6f41fb-c75b-4f3d-827a-6b81f4164806",
   "metadata": {},
   "outputs": [],
   "source": []
  },
  {
   "cell_type": "code",
   "execution_count": null,
   "id": "6b8628e7-52c2-4ce1-9d7c-fc1826b91b67",
   "metadata": {},
   "outputs": [],
   "source": [
    "Q4- What is the difference between AI, ML, DL, and DS?"
   ]
  },
  {
   "cell_type": "raw",
   "id": "0c8a4394-0afd-4c01-8fcb-ff72fe8026a9",
   "metadata": {},
   "source": [
    "Artificial Intelligence\t\n",
    "AI stands for Artificial Intelligence, and is basically the study/process which enables machines to mimic human behaviour through particular algorithm.\n",
    "\n",
    "ML stands for Machine Learning, and is the study that uses statistical methods enabling machines to improve with experience.\t\n",
    "\n",
    "DL stands for Deep Learning, and is the study that makes use of Neural Networks(similar to neurons present in human brain) to imitate functionality just like a human brain.\n",
    "\n",
    "\n",
    "AI is the broader family consisting of ML and DL as it’s components.\t\n",
    "ML is the subset of AI.\tDL is the subset of ML.\n",
    "\n",
    "AI is a computer algorithm which exhibits intelligence through decision making.\tML is an AI algorithm which allows system to learn from data.\n",
    "DL is a ML algorithm that uses deep(more than one layer) neural networks to analyze data and provide output accordingly."
   ]
  },
  {
   "cell_type": "code",
   "execution_count": null,
   "id": "88c675df-d65d-4f98-84cb-b635e2ec07db",
   "metadata": {},
   "outputs": [],
   "source": []
  },
  {
   "cell_type": "raw",
   "id": "695490a7-8283-4328-af91-8d79b804c34a",
   "metadata": {},
   "source": [
    "what is the difference between  supervised unsupervised and semi supervised learning "
   ]
  },
  {
   "cell_type": "markdown",
   "id": "6beaf995-9909-44f9-bf90-6fef1d470f5f",
   "metadata": {},
   "source": [
    "1. Supervised Machine Learning\n",
    "Supervised learning is the process where you have input variables (X) and an output variable (Y) and you use an algorithm to learn the mapping function from the input to the output.\n",
    "Y = f(X)\n",
    "The goal is to approximate the mapping function so well that when you have new input data (X) that you can predict the output variables (Y ) for that data. It is called supervised learning because the process of an algorithm learning from the training dataset can be thought of as a teacher supervising the learning process. We know the correct answers; the algorithm iteratively makes predictions on the training data and is corrected by the teacher.\n",
    "\n",
    "Supervised learning problems further grouped into regression and classification problems.\n",
    "Classification: A classification problem is when the output variable is a category, such as red or blue or disease and no disease.\n",
    "Regression: A regression problem is the output variable is a real value, such as dollars or weight.\n",
    "\n",
    "Some popular examples of supervised machine learning algorithms are:\n",
    "Linear regression for regression problems.\n",
    "Random forest for classification and regression problems.\n",
    "Support vector machines for classification problems.\n",
    "\n",
    "Strengths: Outputs always have a probabilistic interpretation, and the algorithm can be regularized to avoid overfitting.\n",
    "Weaknesses: Logistic regression may underperform when there are multiple or non-linear decision boundaries. This method is not flexible, so it does not capture more complex relationships.\n",
    "\n",
    "2. Unsupervised Machine Learning\n",
    "Unsupervised learning is a machine learning technique, where you do not need to supervise the model. Instead, you need to allow the model to work on its own to discover information. It mainly deals with the unlabeled data. Algorithms are left to their own devises to discover and present the interesting structure in the data. Unsupervised learning is very useful in exploratory analysis because it can automatically identify structure in data. For example, if an analyst were trying to segment consumers, unsupervised clustering methods would be a great starting point for their analysis. In situations where it is either impossible or impractical for a human to propose trends in the data, unsupervised learning can provide initial insights that can then be used to test individual hypotheses.\n",
    "\n",
    "Unsupervised learning problems can be further grouped into clustering and association problems.\n",
    "Clustering: Clustering is an important concept when it comes to unsupervised learning. It mainly deals with finding a structure or pattern in a collection of uncategorized data. Clustering algorithms will process your data and find natural clusters(groups) if they exist in the data.\n",
    "Association: An association rule learning problem is where you want to discover rules that describe large portions of your data. This unsupervised technique is about discovering exciting relationships between variables in large databases.\n",
    "\n",
    "Some popular examples of unsupervised learning algorithms are:\n",
    "k-means for clustering problems.\n",
    "Apriori algorithm for association rule learning problems.\n",
    "\n",
    "3. Semi-supervised Machine Learning\n",
    "The biggest difference between supervised and unsupervised machine learning is: Supervised machine learning algorithms are trained on datasets that include labels added by a machine learning engineer or data scientist that guide the algorithm to understand which features are important to the problem at hand. This is a very costly process, especially when dealing with large volumes of data.Unsupervised machine learning algorithms, on the other hand, are trained on unlabeled data and must determine feature importance on their own based on inherent patterns in the data, The most basic disadvantage of any Unsupervised Learning is that it’s application spectrum is limited.\n",
    "\n",
    "To counter these disadvantages, the concept of Semi-Supervised Learning was introduced. In this type of learning, the algorithm is trained upon a combination of labeled and unlabeled data. Typically, this combination will contain a very small amount of labeled data and a very large amount of unlabeled data. This is useful for a few reasons. First, the process of labeling massive amounts of data for supervised learning is often prohibitively time-consuming and expensive. What’s more, too much labeling can impose human biases on the model. That means including lots of unlabeled data during the training process actually tends to improve the accuracy of the final model while reducing the time and cost spent building it. You can use unsupervised learning techniques to discover and learn the structure in the input variables. You can also use supervised learning techniques to make best guess predictions for the unlabeled data, feed that data back into the supervised learning algorithm as training data and use the model to make predictions on new unseen data."
   ]
  },
  {
   "cell_type": "code",
   "execution_count": null,
   "id": "9618381e-84f1-4022-8f87-55e7c15670fe",
   "metadata": {},
   "outputs": [],
   "source": []
  },
  {
   "cell_type": "code",
   "execution_count": null,
   "id": "2ecbe864-9958-4b7d-a893-6cc9cf6d9026",
   "metadata": {},
   "outputs": [],
   "source": [
    "Q6- What is train, test and validation split? Explain the importance of each term."
   ]
  },
  {
   "cell_type": "raw",
   "id": "06346c4e-9d15-44f2-a07d-6daf2bc665e3",
   "metadata": {},
   "source": [
    "The Training Set-:\n",
    "It is the set of data that is used to train and make the model learn the hidden features/patterns in the data.\n",
    "\n",
    "In each epoch, the same training data is fed to the neural network architecture repeatedly, and the model continues to learn the features of the data.\n",
    "\n",
    "The training set should have a diversified set of inputs so that the model is trained in all scenarios and can predict any unseen data sample that may appear in the future.\n",
    "\n",
    "The Validation Set-:\n",
    "The validation set is a set of data, separate from the training set, that is used to validate our model performance during training.\n",
    "\n",
    "This validation process gives information that helps us tune the model’s hyperparameters and configurations accordingly. It is like a critic telling us whether the training is moving in the right direction or not.\n",
    "\n",
    "The model is trained on the training set, and, simultaneously, the model evaluation is performed on the validation set after every epoch.\n",
    "\n",
    "The main idea of splitting the dataset into a validation set is to prevent our model from overfitting i.e., the model becomes really good at classifying the samples in the training set but cannot generalize and make accurate classifications on the data it has not seen before. \n",
    "\n",
    "\n",
    "The Test Set-:\n",
    "The test set is a separate set of data used to test the model after completing the training.\n",
    "\n",
    "It provides an unbiased final model performance metric in terms of accuracy, precision, etc. To put it simply, it answers the question of \"How well does the model perform?\""
   ]
  },
  {
   "cell_type": "code",
   "execution_count": null,
   "id": "6662ff1b-d56d-4bd1-97eb-d54609fe0c81",
   "metadata": {},
   "outputs": [],
   "source": []
  },
  {
   "cell_type": "code",
   "execution_count": null,
   "id": "1fb0231e-7c28-4cb6-a773-e5ea595a0e7c",
   "metadata": {},
   "outputs": [],
   "source": [
    "Q7- How can unsupervised learning be used in anomaly detection?"
   ]
  },
  {
   "cell_type": "raw",
   "id": "e3413ae1-0b25-429a-9e90-aadf6cc88c29",
   "metadata": {},
   "source": [
    "Unsupervised learning is a powerful approach for anomaly detection because it does not require labeled training data, making it well-suited for situations where anomalies are rare and difficult to obtain sufficient labeled examples. Here are several ways unsupervised learning can be used for anomaly detection:\n",
    "\n",
    "Clustering Methods:\n",
    "\n",
    "K-Means Clustering: In K-means clustering, normal instances tend to cluster together, while anomalies may end up far from the centroids or in smaller clusters. Identifying instances that deviate significantly from the cluster centroids can be indicative of anomalies.\n",
    "DBSCAN (Density-Based Spatial Clustering of Applications with Noise): DBSCAN can identify dense regions of data points, and instances that are not part of any cluster or are in sparse regions may be considered anomalies.\n",
    "Autoencoders:\n",
    "\n",
    "Autoencoders are neural network models that learn to encode data into a lower-dimensional representation and then decode it back to the original input. Anomalies are detected by comparing the reconstruction error between the input and the reconstructed output. Higher reconstruction errors often indicate anomalous instances.\n",
    "Isolation Forests:\n",
    "\n",
    "Isolation Forests are a tree-based ensemble method designed for anomaly detection. They work by isolating instances in the dataset using a random process. Anomalies are identified as instances that require fewer steps to isolate, as they are different from the majority of the data.\n",
    "One-Class SVM (Support Vector Machine):\n",
    "\n",
    "One-Class SVM is a machine learning algorithm that is trained only on the normal instances, assuming that anomalies are rare. The decision boundary is learned based on the normal data, and instances lying on the other side of the boundary are considered anomalies.\n",
    "Density Estimation:\n",
    "\n",
    "Methods such as Gaussian Mixture Models (GMMs) can be used to estimate the probability density function of the data. Instances with low probability density are considered anomalies."
   ]
  },
  {
   "cell_type": "code",
   "execution_count": null,
   "id": "a413476d-c348-4094-acd6-036609f71cce",
   "metadata": {},
   "outputs": [],
   "source": []
  },
  {
   "cell_type": "code",
   "execution_count": null,
   "id": "9763bc03-b290-4be4-9803-584230bfe64c",
   "metadata": {},
   "outputs": [],
   "source": [
    "Q8- List down some commonly used supervise learning algorithms and unsupervised learning\n",
    "algorithms."
   ]
  },
  {
   "cell_type": "code",
   "execution_count": null,
   "id": "3992fb34-ba00-4c44-b83d-36658ffa1a4a",
   "metadata": {},
   "outputs": [],
   "source": [
    "Supervised Learning Algorithms:\n",
    "Linear Regression:\n",
    "Used for predicting a continuous outcome based on one or more input features.\n",
    "\n",
    "Logistic Regression:\n",
    "Used for binary classification problems, predicting the probability of an instance belonging to a particular class.\n",
    "\n",
    "Decision Trees:\n",
    "Build a tree structure to make decisions based on features, suitable for both classification and regression tasks.\n",
    "\n",
    "Random Forest:\n",
    "Ensemble method that constructs multiple decision trees and combines their predictions for improved accuracy and robustness.\n",
    "Support Vector Machines (SVM):\n",
    "\n",
    "Effective for both classification and regression tasks, aiming to find a hyperplane that best separates data into different classes.\n",
    "Naive Bayes:\n",
    "\n",
    "Based on Bayes' theorem, commonly used for text classification and spam filtering.\n",
    "K-Nearest Neighbors (KNN):\n",
    "\n",
    "Classifies instances based on the majority class of their k-nearest neighbors in feature space.\n",
    "Neural Networks:\n",
    "\n",
    "Deep learning models with multiple layers, suitable for complex tasks such as image recognition, natural language processing, and more.\n",
    "Gradient Boosting Algorithms:\n",
    "\n",
    "Examples include AdaBoost, Gradient Boosting Machines (GBM), and XGBoost, which build a strong model from a series of weak models.\n",
    "Linear Discriminant Analysis (LDA):\n",
    "\n",
    "Used for dimensionality reduction and classification, particularly in the case of multiclass problems.\n",
    "Unsupervised Learning Algorithms:\n",
    "K-Means Clustering:\n",
    "\n",
    "Divides data into k clusters based on similarity, with each cluster represented by its centroid.\n",
    "Hierarchical Clustering:\n",
    "\n",
    "Builds a tree-like hierarchy of clusters, useful for understanding the structure of the data at different levels of granularity.\n",
    "DBSCAN (Density-Based Spatial Clustering of Applications with Noise):\n",
    "\n",
    "Identifies clusters based on the density of data points, distinguishing between dense and sparse regions.\n",
    "Gaussian Mixture Models (GMM):\n",
    "\n",
    "Represents the data as a mixture of Gaussian distributions, useful for density estimation and soft clustering.\n",
    "Principal Component Analysis (PCA):\n",
    "\n",
    "Reduces the dimensionality of data while retaining important information by finding orthogonal principal components.\n",
    "Autoencoders:\n",
    "\n",
    "Neural network models designed for unsupervised learning, particularly used for dimensionality reduction and feature learning.\n",
    "Isolation Forest:\n",
    "\n",
    "An ensemble method designed for anomaly detection by isolating instances in a tree-based structure.\n",
    "One-Class SVM (Support Vector Machine):\n",
    "\n",
    "Trains on normal instances and identifies anomalies as instances lying on the other side of the decision boundary.\n",
    "Locally Linear Embedding (LLE):\n",
    "\n",
    "Nonlinear dimensionality reduction technique preserving local relationships in the data.\n",
    "Association Rule Mining (e.g., Apriori algorithm):\n",
    "\n",
    "Finds interesting relationships and patterns in data, commonly used in market basket analysis."
   ]
  }
 ],
 "metadata": {
  "kernelspec": {
   "display_name": "Python 3 (ipykernel)",
   "language": "python",
   "name": "python3"
  },
  "language_info": {
   "codemirror_mode": {
    "name": "ipython",
    "version": 3
   },
   "file_extension": ".py",
   "mimetype": "text/x-python",
   "name": "python",
   "nbconvert_exporter": "python",
   "pygments_lexer": "ipython3",
   "version": "3.10.8"
  }
 },
 "nbformat": 4,
 "nbformat_minor": 5
}
