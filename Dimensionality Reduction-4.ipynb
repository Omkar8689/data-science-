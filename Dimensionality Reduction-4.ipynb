{
 "cells": [
  {
   "cell_type": "code",
   "execution_count": 34,
   "id": "86bc6783-6732-441d-b922-ef696b5cd197",
   "metadata": {},
   "outputs": [],
   "source": [
    "import pandas as pd\n",
    "import matplotlib.pyplot as plt\n",
    "from sklearn.decomposition import PCA\n",
    "from sklearn import datasets\n",
    "import numpy as np\n"
   ]
  },
  {
   "cell_type": "code",
   "execution_count": 35,
   "id": "0f8e9aa2-5842-4796-9812-6a70bfb630d9",
   "metadata": {},
   "outputs": [],
   "source": [
    "dataset=datasets.load_wine()"
   ]
  },
  {
   "cell_type": "code",
   "execution_count": 36,
   "id": "5ade22fd-92a8-4ff6-8c40-2ae66cfb06d1",
   "metadata": {},
   "outputs": [],
   "source": [
    "X=dataset[\"data\"]\n",
    "y=dataset[\"target\"]"
   ]
  },
  {
   "cell_type": "code",
   "execution_count": null,
   "id": "456dc35e-7f4b-49f6-9c1d-88b4799617f6",
   "metadata": {},
   "outputs": [],
   "source": []
  },
  {
   "cell_type": "code",
   "execution_count": 17,
   "id": "4237aa75-77d7-4773-9de6-295c784737da",
   "metadata": {},
   "outputs": [],
   "source": [
    "from sklearn.model_selection import train_test_split"
   ]
  },
  {
   "cell_type": "code",
   "execution_count": 18,
   "id": "8f1ace96-0432-4dd5-8e0d-4a8b727adc42",
   "metadata": {},
   "outputs": [],
   "source": [
    "X_train,X_test,y_train,y_test=train_test_split(X,y,test_size=0.33,random_state=42)"
   ]
  },
  {
   "cell_type": "code",
   "execution_count": 47,
   "id": "3ee44092-109c-41ce-90a1-07122653eb2b",
   "metadata": {},
   "outputs": [],
   "source": [
    "pca=PCA(n_components=1)\n"
   ]
  },
  {
   "cell_type": "code",
   "execution_count": 48,
   "id": "91bc9a46-a887-437e-ae75-6746065efd87",
   "metadata": {},
   "outputs": [],
   "source": [
    "X_train=pca.fit_transform(X_train)"
   ]
  },
  {
   "cell_type": "code",
   "execution_count": 49,
   "id": "18f838fd-eaff-4e3b-a1d0-9d1c2d93b3ed",
   "metadata": {},
   "outputs": [],
   "source": [
    "components=pca.components_"
   ]
  },
  {
   "cell_type": "code",
   "execution_count": null,
   "id": "d72753d0-69af-44a6-968d-f0260ffce02c",
   "metadata": {},
   "outputs": [],
   "source": []
  },
  {
   "cell_type": "code",
   "execution_count": 50,
   "id": "dbd1af41-6991-44fe-a033-66b12ab9d6b6",
   "metadata": {},
   "outputs": [
    {
     "data": {
      "text/plain": [
       "array([0.9979586])"
      ]
     },
     "execution_count": 50,
     "metadata": {},
     "output_type": "execute_result"
    }
   ],
   "source": [
    "pca.explained_variance_ratio_"
   ]
  },
  {
   "cell_type": "code",
   "execution_count": 51,
   "id": "fff00b34-a37b-402b-8b15-3a93a9598e00",
   "metadata": {},
   "outputs": [
    {
     "ename": "NameError",
     "evalue": "name 'pca_data' is not defined",
     "output_type": "error",
     "traceback": [
      "\u001b[0;31m---------------------------------------------------------------------------\u001b[0m",
      "\u001b[0;31mNameError\u001b[0m                                 Traceback (most recent call last)",
      "Cell \u001b[0;32mIn[51], line 3\u001b[0m\n\u001b[1;32m      1\u001b[0m \u001b[38;5;66;03m# Create the scatter plot\u001b[39;00m\n\u001b[1;32m      2\u001b[0m plt\u001b[38;5;241m.\u001b[39mfigure(figsize\u001b[38;5;241m=\u001b[39m(\u001b[38;5;241m8\u001b[39m, \u001b[38;5;241m6\u001b[39m))\n\u001b[0;32m----> 3\u001b[0m plt\u001b[38;5;241m.\u001b[39mscatter(\u001b[43mpca_data\u001b[49m[features[\u001b[38;5;241m0\u001b[39m]], pca_data[features[\u001b[38;5;241m1\u001b[39m]])\n\u001b[1;32m      5\u001b[0m \u001b[38;5;66;03m# Add labels and title\u001b[39;00m\n\u001b[1;32m      6\u001b[0m plt\u001b[38;5;241m.\u001b[39mxlabel(features[\u001b[38;5;241m0\u001b[39m])\n",
      "\u001b[0;31mNameError\u001b[0m: name 'pca_data' is not defined"
     ]
    },
    {
     "data": {
      "text/plain": [
       "<Figure size 800x600 with 0 Axes>"
      ]
     },
     "metadata": {},
     "output_type": "display_data"
    }
   ],
   "source": [
    "# Create the scatter plot\n",
    "plt.figure(figsize=(8, 6))\n",
    "plt.scatter(pca_data[features[0]], pca_data[features[1]])\n",
    "\n",
    "# Add labels and title\n",
    "plt.xlabel(features[0])\n",
    "plt.ylabel(features[1])\n",
    "if target:  # Add target variable coloring (optional)\n",
    "    plt.scatter(pca_data[features[0]], pca_data[features[1]], c=data[target])\n",
    "    plt.colorbar(label=target)\n",
    "plt.title('PCA Visualization (First 2 Components)')\n",
    "\n",
    "# Show the plot\n",
    "plt.show()"
   ]
  },
  {
   "cell_type": "code",
   "execution_count": null,
   "id": "7e80e9c4-67a4-400e-9eef-922c0b0bec88",
   "metadata": {},
   "outputs": [],
   "source": []
  }
 ],
 "metadata": {
  "kernelspec": {
   "display_name": "Python 3 (ipykernel)",
   "language": "python",
   "name": "python3"
  },
  "language_info": {
   "codemirror_mode": {
    "name": "ipython",
    "version": 3
   },
   "file_extension": ".py",
   "mimetype": "text/x-python",
   "name": "python",
   "nbconvert_exporter": "python",
   "pygments_lexer": "ipython3",
   "version": "3.10.8"
  }
 },
 "nbformat": 4,
 "nbformat_minor": 5
}
