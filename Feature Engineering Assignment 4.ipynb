{
 "cells": [
  {
   "cell_type": "code",
   "execution_count": null,
   "id": "35123ec7-6897-4ffc-9828-328eda540feb",
   "metadata": {},
   "outputs": [],
   "source": [
    "Q1. What is the difference between Ordinal Encoding and Label Encoding? Provide an example of when you\n",
    "might choose one over the other."
   ]
  },
  {
   "cell_type": "code",
   "execution_count": null,
   "id": "c1ee8d2a-0236-4a94-8298-396fddeafe16",
   "metadata": {},
   "outputs": [],
   "source": [
    "Ordinal Encoding:\n",
    "\n",
    "Ordinal encoding is a technique for encoding categorical variables where there is a meaningful order or hierarchy among the categories.\n",
    "It assigns integer values to categories based on their order or rank.\n",
    "The assigned integer values reflect the inherent order of the categories.\n",
    "\n",
    "Label Encoding:\n",
    "Label encoding is a general technique for encoding categorical variables into numerical format.\n",
    "It assigns a unique numerical label to each category, without considering any specific order or rank among them.\n",
    "The encoding is arbitrary, and it doesn't imply any meaningful relationship between the numerical labels\n",
    "\n",
    "When to Choose:\n",
    "\n",
    "Choose Ordinal Encoding when there is a clear order or ranking among the categories,\n",
    "and this order is meaningful for your analysis or machine learning model.\n",
    "\n",
    "Choose Label Encoding when the categories are nominal, and there is no meaningful order among them."
   ]
  },
  {
   "cell_type": "code",
   "execution_count": null,
   "id": "6df3536b-592e-4337-9371-2db9b196a0ab",
   "metadata": {},
   "outputs": [],
   "source": []
  },
  {
   "cell_type": "code",
   "execution_count": null,
   "id": "211ebd6d-6d0e-4639-925c-247a8c084b04",
   "metadata": {},
   "outputs": [],
   "source": [
    "Q2. Explain how Target Guided Ordinal Encoding works and provide an example of when you might use it in\n",
    "a machine learning project."
   ]
  },
  {
   "cell_type": "code",
   "execution_count": null,
   "id": "b23f70cc-0f4f-474b-91a9-874f98ccf64b",
   "metadata": {},
   "outputs": [],
   "source": [
    "Target Guided Ordinal Encoding is a technique used to encode categorical variables based on the target variable. \n",
    "It involves assigning ordinal ranks to categories based on the mean or median of the target variable for each \n",
    "category. This encoding method can be particularly useful when there is an ordinal relationship between the\n",
    "categories and you want to capture the impact of the variable on the target.\n",
    "\n"
   ]
  },
  {
   "cell_type": "code",
   "execution_count": 4,
   "id": "4f43550b-d268-4693-bfa5-9bf68f627453",
   "metadata": {},
   "outputs": [
    {
     "data": {
      "text/html": [
       "<div>\n",
       "<style scoped>\n",
       "    .dataframe tbody tr th:only-of-type {\n",
       "        vertical-align: middle;\n",
       "    }\n",
       "\n",
       "    .dataframe tbody tr th {\n",
       "        vertical-align: top;\n",
       "    }\n",
       "\n",
       "    .dataframe thead th {\n",
       "        text-align: right;\n",
       "    }\n",
       "</style>\n",
       "<table border=\"1\" class=\"dataframe\">\n",
       "  <thead>\n",
       "    <tr style=\"text-align: right;\">\n",
       "      <th></th>\n",
       "      <th>city</th>\n",
       "      <th>price</th>\n",
       "      <th>city_encoded</th>\n",
       "    </tr>\n",
       "  </thead>\n",
       "  <tbody>\n",
       "    <tr>\n",
       "      <th>0</th>\n",
       "      <td>New York</td>\n",
       "      <td>200</td>\n",
       "      <td>190.0</td>\n",
       "    </tr>\n",
       "    <tr>\n",
       "      <th>1</th>\n",
       "      <td>London</td>\n",
       "      <td>150</td>\n",
       "      <td>150.0</td>\n",
       "    </tr>\n",
       "    <tr>\n",
       "      <th>2</th>\n",
       "      <td>paris</td>\n",
       "      <td>300</td>\n",
       "      <td>310.0</td>\n",
       "    </tr>\n",
       "    <tr>\n",
       "      <th>3</th>\n",
       "      <td>Tokyo</td>\n",
       "      <td>250</td>\n",
       "      <td>250.0</td>\n",
       "    </tr>\n",
       "    <tr>\n",
       "      <th>4</th>\n",
       "      <td>New York</td>\n",
       "      <td>180</td>\n",
       "      <td>190.0</td>\n",
       "    </tr>\n",
       "    <tr>\n",
       "      <th>5</th>\n",
       "      <td>paris</td>\n",
       "      <td>320</td>\n",
       "      <td>310.0</td>\n",
       "    </tr>\n",
       "  </tbody>\n",
       "</table>\n",
       "</div>"
      ],
      "text/plain": [
       "       city  price  city_encoded\n",
       "0  New York    200         190.0\n",
       "1    London    150         150.0\n",
       "2     paris    300         310.0\n",
       "3     Tokyo    250         250.0\n",
       "4  New York    180         190.0\n",
       "5     paris    320         310.0"
      ]
     },
     "execution_count": 4,
     "metadata": {},
     "output_type": "execute_result"
    }
   ],
   "source": [
    "import pandas as pd\n",
    "df=pd.DataFrame({\n",
    "    'city':['New York','London','paris','Tokyo','New York','paris'],\n",
    "    'price':[200,150,300,250,180,320]})\n",
    "\n",
    "mean_price=df.groupby('city')['price'].mean().to_dict()\n",
    "df['city_encoded']=df['city'].map(mean_price)\n",
    "\n",
    "df"
   ]
  },
  {
   "cell_type": "code",
   "execution_count": null,
   "id": "21d69690-6238-4549-a514-19682fd0fee2",
   "metadata": {},
   "outputs": [],
   "source": []
  },
  {
   "cell_type": "code",
   "execution_count": null,
   "id": "c438c451-0615-46a2-8570-f9fdfd1a2948",
   "metadata": {},
   "outputs": [],
   "source": [
    "Q3. Define covariance and explain why it is important in statistical analysis. How is covariance calculated?"
   ]
  },
  {
   "cell_type": "code",
   "execution_count": null,
   "id": "ef5c3f07-658e-4b13-ad8b-a3046ef98535",
   "metadata": {},
   "outputs": [],
   "source": [
    "Covariance is a statistical measure that describes the degree to which two variables change together.\n",
    "In other words, it quantifies the degree to which changes in one variable are associated with changes in \n",
    "another variable. Covariance can be used to identify whether the variables tend to increase or decrease together\n",
    "(positive covariance) or move in opposite directions (negative covariance).\n",
    "\n",
    "Importance in Statistical Analysis:\n",
    "\n",
    "Direction of Relationship:\n",
    "Covariance can indicate the direction of the relationship between two variables. \n",
    "A positive covariance suggests a positive relationship (both variables tend to increase or decrease together),\n",
    "while a negative covariance suggests a negative relationship (one variable increases as the other decreases).\n",
    "\n",
    "Strength of Relationship:\n",
    "The magnitude (absolute value) of the covariance provides information about the strength of the \n",
    "relationship between the variables. However, it is not standardized and can be influenced by the scale \n",
    "of the variables, making it challenging to compare covariances directly.\n",
    "\n",
    "Assessing Independence:\n",
    "Covariance can help in assessing the independence of variables. \n",
    "If the covariance is close to zero, it suggests that changes in one variable are not strongly associated \n",
    "with changes in the other, indicating a lack of linear dependence.\n",
    "\n",
    "Used in Portfolio Analysis:\n",
    "In finance, covariance is used in portfolio analysis to understand how the returns of\n",
    "different assets move together. A positive covariance between assets implies that they\n",
    "tend to move in the same direction, while a negative covariance suggests that they move in opposite directions.\n",
    "\n",
    "\n",
    "for the calculation of the covariance you may use the numpy libarary.It has the function for it"
   ]
  },
  {
   "cell_type": "code",
   "execution_count": null,
   "id": "bd8df302-8baa-4baf-a19d-f28993ca74bf",
   "metadata": {},
   "outputs": [],
   "source": []
  },
  {
   "cell_type": "code",
   "execution_count": null,
   "id": "33cabd18-daa5-41ae-95d9-f498170eada9",
   "metadata": {},
   "outputs": [],
   "source": [
    "Q4. For a dataset with the following categorical variables: Color (red, green, blue), Size (small, medium,\n",
    "large), and Material (wood, metal, plastic), perform label encoding using Python's scikit-learn library.\n",
    "Show your code and explain the output."
   ]
  },
  {
   "cell_type": "code",
   "execution_count": 5,
   "id": "dfebc026-c731-42d6-9c57-db15bd0abce9",
   "metadata": {},
   "outputs": [],
   "source": [
    "import pandas as pd\n",
    "from sklearn.preprocessing import OneHotEncoder"
   ]
  },
  {
   "cell_type": "code",
   "execution_count": 8,
   "id": "334cc40c-7e1d-452b-b05d-b941071d58a4",
   "metadata": {},
   "outputs": [
    {
     "name": "stdout",
     "output_type": "stream",
     "text": [
      "   Color  Size  Material\n",
      "0      2     2         2\n",
      "1      1     1         0\n",
      "2      0     0         1\n",
      "3      2     1         2\n",
      "4      1     2         0\n"
     ]
    }
   ],
   "source": [
    "from sklearn.preprocessing import LabelEncoder\n",
    "import pandas as pd\n",
    "\n",
    "\n",
    "data = {\n",
    "    'Color': ['red', 'green', 'blue', 'red', 'green'],\n",
    "    'Size': ['small', 'medium', 'large', 'medium', 'small'],\n",
    "    'Material': ['wood', 'metal', 'plastic', 'wood', 'metal']\n",
    "}\n",
    "\n",
    "df = pd.DataFrame(data)\n",
    "\n",
    "label_encoder = LabelEncoder()\n",
    "\n",
    "\n",
    "df['Color'] = label_encoder.fit_transform(df['Color'])\n",
    "df['Size'] = label_encoder.fit_transform(df['Size'])\n",
    "df['Material'] = label_encoder.fit_transform(df['Material'])\n",
    "\n",
    "print(df)\n"
   ]
  },
  {
   "cell_type": "code",
   "execution_count": null,
   "id": "b3057cd9-226f-41d1-ba2b-6fa5a22596a5",
   "metadata": {},
   "outputs": [],
   "source": []
  },
  {
   "cell_type": "code",
   "execution_count": null,
   "id": "ce4cb79f-3398-4a80-8fe0-8314b7a25a05",
   "metadata": {},
   "outputs": [],
   "source": [
    "Q5. Calculate the covariance matrix for the following variables in a dataset: Age, Income, and Education\n",
    "level. Interpret the results."
   ]
  },
  {
   "cell_type": "code",
   "execution_count": 9,
   "id": "0e9a5f12-d494-42f2-b32f-a4cc5ab037ea",
   "metadata": {},
   "outputs": [
    {
     "name": "stdout",
     "output_type": "stream",
     "text": [
      "Covariance Matrix:\n",
      "[[6.250e+01 1.125e+05 1.000e+01]\n",
      " [1.125e+05 2.550e+08 2.625e+04]\n",
      " [1.000e+01 2.625e+04 5.000e+00]]\n"
     ]
    }
   ],
   "source": [
    "import numpy as np\n",
    "import pandas as pd\n",
    "\n",
    "\n",
    "data = {\n",
    "    'Age': [25, 30, 35, 40, 45],\n",
    "    'Income': [50000, 60000, 75000, 90000, 80000],\n",
    "    'EducationLevel': [12, 16, 14, 18, 15]\n",
    "}\n",
    "\n",
    "df = pd.DataFrame(data)\n",
    "\n",
    "covariance_matrix = np.cov(df, rowvar=False)\n",
    "\n",
    "\n",
    "print(\"Covariance Matrix:\")\n",
    "print(covariance_matrix)\n"
   ]
  },
  {
   "cell_type": "code",
   "execution_count": null,
   "id": "9b8b1ff2-890a-436a-8670-31a973372f6a",
   "metadata": {},
   "outputs": [],
   "source": []
  },
  {
   "cell_type": "code",
   "execution_count": null,
   "id": "36b6587c-11c4-43b3-9c34-655fd469d2d9",
   "metadata": {},
   "outputs": [],
   "source": [
    "Q6. You are working on a machine learning project with a dataset containing several categorical\n",
    "variables, including \"Gender\" (Male/Female), \"Education Level\" (High School/Bachelor's/Master's/PhD),\n",
    "and \"Employment Status\" (Unemployed/Part-Time/Full-Time). Which encoding method would you use for\n",
    "each variable, and why?"
   ]
  },
  {
   "cell_type": "code",
   "execution_count": null,
   "id": "ba5b7630-8bf4-4287-aece-0827418f64d1",
   "metadata": {},
   "outputs": [],
   "source": [
    "Gender (Nominal Encoding):\n",
    "Encoding Method: Nominal encoding or one-hot encoding.\n",
    "Explanation: Gender is typically a nominal variable without a clear ordinal relationship.\n",
    "One-hot encoding, which creates binary columns for each category, is a suitable choice. \n",
    "Each gender category (Male/Female) gets its own binary column.\n",
    "\n",
    "Education Level (Ordinal Encoding):\n",
    "Encoding Method: Ordinal encoding.\n",
    "Explanation: Education level often has a clear ordinal relationship (e.g., 'High School' < 'Bachelor's' < 'Master's' < 'PhD'). Using ordinal encoding preserves this order. Assign integer values corresponding to the order of education levels.\n",
    "Employment Status (Target or Label Encoding):\n",
    "\n",
    "Encoding Method: Target encoding or label encoding.\n",
    "Explanation: Employment status could be nominal, but it might also have an impact on the target variable (e.g., the likelihood of default in a loan prediction model). If there is a meaningful relationship between employment status and the target variable, you might consider target encoding. If not, label encoding (assigning arbitrary numeric labels to categories) is a simpler choice."
   ]
  }
 ],
 "metadata": {
  "kernelspec": {
   "display_name": "Python 3 (ipykernel)",
   "language": "python",
   "name": "python3"
  },
  "language_info": {
   "codemirror_mode": {
    "name": "ipython",
    "version": 3
   },
   "file_extension": ".py",
   "mimetype": "text/x-python",
   "name": "python",
   "nbconvert_exporter": "python",
   "pygments_lexer": "ipython3",
   "version": "3.10.8"
  }
 },
 "nbformat": 4,
 "nbformat_minor": 5
}
