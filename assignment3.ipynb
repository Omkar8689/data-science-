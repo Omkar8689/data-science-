{
 "cells": [
  {
   "cell_type": "raw",
   "id": "2f7d0789-9209-4d1e-a8e6-6b9fd49dd282",
   "metadata": {},
   "source": [
    "Q1. Which keyword is used to create a function? Create a function to return a list of odd numbers in the\n",
    "range of 1 to 25."
   ]
  },
  {
   "cell_type": "raw",
   "id": "b5d6d606-d088-4cb1-a23d-cefcad21b89e",
   "metadata": {},
   "source": [
    "\n",
    "def keyword is used to create a function.\n"
   ]
  },
  {
   "cell_type": "code",
   "execution_count": 9,
   "id": "17462c00-e6c4-4338-81ef-4d9acefb0337",
   "metadata": {},
   "outputs": [
    {
     "name": "stdout",
     "output_type": "stream",
     "text": [
      "[1, 3, 5, 7, 9, 11, 13, 15, 17, 19, 21, 23, 25]\n"
     ]
    }
   ],
   "source": [
    "def odd_numbers():\n",
    "    odd_numbers1 = []\n",
    "    for num in range(1, 26):\n",
    "        if num % 2 != 0:\n",
    "            odd_numbers1.append(num)\n",
    "    return odd_numbers1\n",
    "\n",
    "\n",
    "odd_numbers_list = odd_numbers()\n",
    "print(odd_numbers_list)"
   ]
  },
  {
   "cell_type": "markdown",
   "id": "46e13843-0aee-410e-b435-4a2b859fb57e",
   "metadata": {},
   "source": [
    "Q2. Why *args and **kwargs is used in some functions? Create a function each for *args and **kwargs\n",
    "to demonstrate their use."
   ]
  },
  {
   "cell_type": "raw",
   "id": "7887a1a5-40a7-440e-9ccc-d26cc27f3ccd",
   "metadata": {},
   "source": [
    "When we dont know how much parameters should be given to the function at that time we use the args.It is just like the dynamic allocation of the prameters to the function.\n",
    "  If there is a function in which you need to give the parameters that are not of same data type then we use the kwargs in function.It packs all the arguments in a dictionary and provide it to the function\n",
    "  "
   ]
  },
  {
   "cell_type": "code",
   "execution_count": 23,
   "id": "f2ea2998-39d5-4332-ab55-c9f22633a0e6",
   "metadata": {},
   "outputs": [],
   "source": [
    "def add_num(*args):\n",
    "    total=0\n",
    "    for i in args:\n",
    "        total=total+i\n",
    "        return total\n",
    "    \n",
    "    \n",
    "    a=add_num(1,2,3,4,5)\n",
    "    print(a)"
   ]
  },
  {
   "cell_type": "code",
   "execution_count": 28,
   "id": "851d9fb3-695d-4b8d-997c-00b1b2176e44",
   "metadata": {},
   "outputs": [],
   "source": [
    "def print_items(**kwargs):\n",
    "    for key, value in kwargs.items():\n",
    "        print(f\"{key}: {value}\")\n",
    "        print_items(a=15, i=\"python\", c=\"pause\")\n"
   ]
  },
  {
   "cell_type": "markdown",
   "id": "f4e389fa-8de8-4e91-b11a-ae8e56063355",
   "metadata": {},
   "source": [
    "Q3. What is an iterator in python? Name the method used to initialise the iterator object and the method\n",
    "used for iteration. Use these methods to print the first five elements of the given list [2, 4, 6, 8, 10, 12, 14,\n",
    "16, 18, 20]."
   ]
  },
  {
   "cell_type": "markdown",
   "id": "25c31b0b-40f5-492c-b8d8-0ccf6bbe2371",
   "metadata": {},
   "source": [
    "An iterator is an object that allows you to iterate over a sequence of elements one at a time.\n",
    "     Initialize the iterator object: You can create an iterator object from an iterable (such as a list, tuple, dictionary, etc.) using the built-in iter() function. The iter() function takes the iterable as an argument and returns an iterator object."
   ]
  },
  {
   "cell_type": "code",
   "execution_count": 29,
   "id": "eadc87ce-53c9-4073-b440-dabc5701e127",
   "metadata": {},
   "outputs": [
    {
     "name": "stdout",
     "output_type": "stream",
     "text": [
      "2\n",
      "4\n",
      "6\n",
      "8\n",
      "10\n"
     ]
    }
   ],
   "source": [
    "l = [2, 4, 6, 8, 10, 12, 14, 16, 18, 20]\n",
    "\n",
    "my_iterator = iter(l)\n",
    "\n",
    "\n",
    "for _ in range(5):\n",
    "    element = next(my_iterator)\n",
    "    print(element)"
   ]
  },
  {
   "cell_type": "markdown",
   "id": "ca2c57fb-bc6d-4d7d-aab4-e7a38bae8fe0",
   "metadata": {},
   "source": [
    "Q4. What is a generator function in python? Why yield keyword is used? Give an example of a generator\n",
    "function."
   ]
  },
  {
   "cell_type": "raw",
   "id": "62d9ec1f-7a84-4055-96c2-dc273275170b",
   "metadata": {},
   "source": [
    "A generator function is a special type of function that uses the yield keyword to generate a sequence of values.\n",
    "\n",
    "The yield keyword is used in a generator function to produce a value and temporarily suspend the function's state. "
   ]
  },
  {
   "cell_type": "code",
   "execution_count": 32,
   "id": "a55a54e1-4970-41a6-be04-e3f417d7a187",
   "metadata": {},
   "outputs": [
    {
     "name": "stdout",
     "output_type": "stream",
     "text": [
      "0\n",
      "2\n",
      "4\n",
      "6\n",
      "8\n"
     ]
    }
   ],
   "source": [
    "def simple():  \n",
    "    for i in range(10):  \n",
    "        if(i%2==0):  \n",
    "            yield i  \n",
    "  \n",
    " \n",
    "for i in simple():  \n",
    "    print(i) "
   ]
  },
  {
   "cell_type": "markdown",
   "id": "32b79b97-7285-41f6-988d-8b8f0ab8c8dc",
   "metadata": {},
   "source": [
    "Q5. Create a generator function for prime numbers less than 1000. Use the next() method to print the\n",
    "first 20 prime numbers."
   ]
  },
  {
   "cell_type": "code",
   "execution_count": 34,
   "id": "0e828a65-b3be-49ab-bde9-49dffce2e0eb",
   "metadata": {},
   "outputs": [
    {
     "name": "stdout",
     "output_type": "stream",
     "text": [
      "2 3 5 7 11 13 17 19 23 29 31 37 41 43 47 53 59 61 67 71 "
     ]
    }
   ],
   "source": [
    "def is_prime(number):\n",
    "    if number < 2:\n",
    "        return False\n",
    "    for i in range(2, int(number ** 0.5) + 1):\n",
    "        if number % i == 0:\n",
    "            return False\n",
    "    return True\n",
    "\n",
    "def prime_generator():\n",
    "    number = 2\n",
    "    while number < 1000:\n",
    "        if is_prime(number):\n",
    "            yield number\n",
    "        number += 1\n",
    "\n",
    "gen = prime_generator()\n",
    "\n",
    "\n",
    "for _ in range(20):\n",
    "    prime_number = next(gen)\n",
    "    print(prime_number, end=\" \")\n"
   ]
  },
  {
   "cell_type": "markdown",
   "id": "4420d8c5-6573-4bc7-bc4b-444a232da864",
   "metadata": {},
   "source": [
    "Q6. Write a python program to print the first 10 Fibonacci numbers using a while loop."
   ]
  },
  {
   "cell_type": "code",
   "execution_count": 38,
   "id": "c359a7b1-a61e-42b8-bac0-43218cc35972",
   "metadata": {},
   "outputs": [
    {
     "name": "stdout",
     "output_type": "stream",
     "text": [
      "[0, 1, 1, 2, 3, 5, 8, 13, 21, 34]\n"
     ]
    }
   ],
   "source": [
    "def fibonacci_numbers(count):\n",
    "    a, b = 0, 1\n",
    "    fibonacci_sequence = []\n",
    "    while len(fibonacci_sequence) < count:\n",
    "        fibonacci_sequence.append(a)\n",
    "        a, b = b, a + b\n",
    "    return fibonacci_sequence\n",
    "\n",
    "\n",
    "fibonacci_sequence = fibonacci_numbers(10)\n",
    "print(fibonacci_sequence)"
   ]
  },
  {
   "cell_type": "markdown",
   "id": "5ca3f5cb-c2d2-4804-9e50-b18288193be8",
   "metadata": {},
   "source": [
    "Q7. Write a List Comprehension to iterate through the given string: ‘pwskills’.\n",
    "Expected output: ['p', 'w', 's', 'k', 'i', 'l', 'l', 's']"
   ]
  },
  {
   "cell_type": "markdown",
   "id": "f0ee719f-09a9-49d5-93d8-dd1c35f71286",
   "metadata": {},
   "source": [
    "\n",
    "input_string = 'pwskills'\n",
    "\n",
    "\n",
    "result_list = [ char for char in input_string]\n",
    "\n",
    "\n",
    "print(result_list)"
   ]
  },
  {
   "cell_type": "markdown",
   "id": "46389dc7-b31a-4022-aad8-c6d3c13cc9df",
   "metadata": {},
   "source": [
    "Q8. Write a python program to check whether a given number is Palindrome or not using a while loop."
   ]
  },
  {
   "cell_type": "code",
   "execution_count": 45,
   "id": "677caeef-24e7-462f-b25f-60546df002f1",
   "metadata": {},
   "outputs": [],
   "source": [
    "def check_palindrome(number):\n",
    "    n=str(number)\n",
    "    l=0\n",
    "    e=len(n)-1\n",
    "    while l<e:\n",
    "        if n[l]!=n[e]:\n",
    "            return False\n",
    "        l=l+1\n",
    "        e=e-1\n",
    "        \n",
    "        \n",
    "        return True\n",
    "    "
   ]
  },
  {
   "cell_type": "code",
   "execution_count": 47,
   "id": "22ed49db-8a28-4e25-b1a5-51af3cad6f92",
   "metadata": {},
   "outputs": [
    {
     "data": {
      "text/plain": [
       "True"
      ]
     },
     "execution_count": 47,
     "metadata": {},
     "output_type": "execute_result"
    }
   ],
   "source": [
    "check_palindrome(121)"
   ]
  },
  {
   "cell_type": "code",
   "execution_count": 48,
   "id": "923f44a6-6947-4abd-80fc-cbfdd5de0c26",
   "metadata": {},
   "outputs": [
    {
     "data": {
      "text/plain": [
       "False"
      ]
     },
     "execution_count": 48,
     "metadata": {},
     "output_type": "execute_result"
    }
   ],
   "source": [
    "check_palindrome(1256)"
   ]
  },
  {
   "cell_type": "code",
   "execution_count": null,
   "id": "4a5270c0-cd44-4807-84cd-b3bf20b33189",
   "metadata": {},
   "outputs": [],
   "source": []
  }
 ],
 "metadata": {
  "kernelspec": {
   "display_name": "Python 3 (ipykernel)",
   "language": "python",
   "name": "python3"
  },
  "language_info": {
   "codemirror_mode": {
    "name": "ipython",
    "version": 3
   },
   "file_extension": ".py",
   "mimetype": "text/x-python",
   "name": "python",
   "nbconvert_exporter": "python",
   "pygments_lexer": "ipython3",
   "version": "3.10.8"
  }
 },
 "nbformat": 4,
 "nbformat_minor": 5
}
