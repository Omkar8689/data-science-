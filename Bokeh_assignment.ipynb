{
  "nbformat": 4,
  "nbformat_minor": 0,
  "metadata": {
    "colab": {
      "provenance": []
    },
    "kernelspec": {
      "name": "python3",
      "display_name": "Python 3"
    },
    "language_info": {
      "name": "python"
    }
  },
  "cells": [
    {
      "cell_type": "code",
      "execution_count": null,
      "metadata": {
        "id": "OwTZQyh3ff-5"
      },
      "outputs": [],
      "source": [
        "Q1. How can you create a Bokeh plot using Python code?"
      ]
    },
    {
      "cell_type": "code",
      "source": [
        "We can use the Bokeh by import of the Bokeh and its corresponding libraries and functions\n",
        "Following is the way by which we can use it-\n",
        "from bokeh.plotting import figure as fig.\n",
        "from bokeh.plotting import output_notebook as ON.\n",
        "from bokeh.plotting import show()\n",
        "\n",
        "plot1 = fig(plot_width = 500, plot_height = 500, title = \"Scatter Markers\")"
      ],
      "metadata": {
        "id": "6x3dw8NQggj9"
      },
      "execution_count": null,
      "outputs": []
    },
    {
      "cell_type": "code",
      "source": [
        "Q2. What are glyphs in Bokeh, and how can you add them to a Bokeh plot? Explain with an example."
      ],
      "metadata": {
        "id": "5KoEuNm_g8Xr"
      },
      "execution_count": null,
      "outputs": []
    },
    {
      "cell_type": "code",
      "source": [
        "In Bokeh, glyphs are the fundamental building blocks for creating visualizations in plots.\n",
        " Glyphs are geometric shapes or markers that represent data points in a plot.\n",
        " Bokeh provides a wide variety of glyphs that you can use to visualize your data, including circles, squares, lines, bars, and more.\n",
        " Glyphs are added to a Bokeh plot to display data points and pattern"
      ],
      "metadata": {
        "id": "-MO5RSlnhdTx"
      },
      "execution_count": null,
      "outputs": []
    },
    {
      "cell_type": "code",
      "source": [
        "Q3. How can you customize the appearance of a Bokeh plot, including the axes, title, and legend?"
      ],
      "metadata": {
        "id": "-JF6KYamhiiW"
      },
      "execution_count": null,
      "outputs": []
    },
    {
      "cell_type": "code",
      "source": [
        "You can customize the appearance of a Bokeh plot, including the axes, title, and legend, by using various attributes and functions provided by the Bokeh library. Here's a breakdown of how you can customize these elements:\n",
        "\n",
        "Title:\n",
        "\n",
        "You can set the title of your Bokeh plot using the title attribute of the figure object:\n",
        "\n",
        "python\n",
        "\n",
        "p = figure(title=\"Customized Title\")\n",
        "You can further customize the title's appearance by modifying its text properties, such as font size, font style, and alignment:\n",
        "\n",
        "\n",
        "p.title.text_font_size = \"16pt\"\n",
        "p.title.text_font_style = \"italic\"\n",
        "p.title.align = \"center\"\n",
        "Axes:\n",
        "\n",
        "Bokeh allows you to customize both the X-axis and Y-axis in various ways.\n",
        "Here are some common customizations:\n",
        "\n",
        "Axis Labels:\n",
        "\n",
        "You can set labels for the X and Y axes using the xaxis.axis_label and yaxis.axis_label attributes:\n",
        "\n",
        "p.xaxis.axis_label = \"Custom X-axis Label\"\n",
        "p.yaxis.axis_label = \"Custom Y-axis Label\"\n",
        "Axis Ticks and Labels:\n",
        "\n",
        "You can control the appearance of axis ticks and labels using attributes\n",
        "like major_label_text_font_size, major_label_text_font_style, and major_tick_line_color:\n",
        "\n",
        "p.xaxis.major_label_text_font_size = \"12pt\"\n",
        "p.xaxis.major_label_text_font_style = \"bold\"\n",
        "p.yaxis.major_tick_line_color = \"red\"\n",
        "Axis Ranges:\n",
        "\n",
        "You can set the range of values displayed on the axes using the x_range and y_range attributes.\n",
        "For example, to set a custom range for the X-axis:\n",
        "\n",
        "\n",
        "p.x_range = Range1d(0, 10)  # Set X-axis range from 0 to 10\n",
        "Legend:\n",
        "\n",
        "You can customize the legend that appears in your Bokeh plot when you have multiple glyphs with labels.\n",
        "Here are some legend customizations:\n",
        "\n",
        "Legend Title:\n",
        "\n",
        "You can set a title for the legend using the legend.title attribute:\n",
        "\n",
        "p.legend.title = \"My Legend\"\n",
        "Legend Position:\n",
        "\n",
        "You can control the position of the legend using the legend.location attribute.\n",
        "Common values include \"top_left\", \"top_right\", \"bottom_left\", \"bottom_right\", and more:\n",
        "\n",
        "\n",
        "p.legend.location = \"top_right\"\n",
        "Legend Background and Border:\n",
        "\n",
        "You can customize the legend's background and border properties:\n",
        "\n",
        "\n",
        "p.legend.background_fill_color = \"lightgray\"\n",
        "p.legend.border_line_color = \"black\"\n",
        "These are just some of the ways you can customize the appearance of a Bokeh plot.\n",
        "Bokeh provides a wide range of customization options, allowing you to create visually appealing and\n",
        "informative visualizations tailored to your specific needs. You can explore the Bokeh documentation for\n",
        " more details on available customization options and styling."
      ],
      "metadata": {
        "id": "WBDuKOeMhnh6"
      },
      "execution_count": null,
      "outputs": []
    },
    {
      "cell_type": "code",
      "source": [
        "Q4. What is a Bokeh server, and how can you use it to create interactive plots that can be updated in\n",
        "real time?"
      ],
      "metadata": {
        "id": "AQZBYQ5QicU-"
      },
      "execution_count": null,
      "outputs": []
    },
    {
      "cell_type": "code",
      "source": [],
      "metadata": {
        "id": "w3e6Mg4WihdY"
      },
      "execution_count": null,
      "outputs": []
    },
    {
      "cell_type": "code",
      "source": [
        "A Bokeh server is a component of the Bokeh library that allows you to create and serve\n",
        "interactive data visualizations that can be updated in real-time. It enables the creation of\n",
        " dynamic and interactive web applications that respond to user interactions or external data changes. Bokeh server applications are typically built using Python and can be\n",
        "deployed as standalone web applications or integrated into larger web frameworks."
      ],
      "metadata": {
        "id": "j8y-QjhyiT_l"
      },
      "execution_count": null,
      "outputs": []
    },
    {
      "cell_type": "code",
      "source": [
        "Q5. How can you embed a Bokeh plot into a web page or dashboard using Flask or Django?"
      ],
      "metadata": {
        "id": "3Q5ZfYsNiiRc"
      },
      "execution_count": null,
      "outputs": []
    },
    {
      "cell_type": "code",
      "source": [
        "Embedding a Bokeh plot into a web page or dashboard using Flask or Django involves creating a web application and integrating Bokeh components into it. Here, I'll provide a high-level overview of how to achieve this with both Flask and Django frameworks:\n",
        "\n",
        "Embedding a Bokeh Plot with Flask:\n",
        "1. Install Flask and Bokeh:\n",
        "\n",
        "Before you begin, make sure you have Flask and Bokeh installed:\n",
        "\n",
        "pip install Flask bokeh\n",
        "2. Create a Flask Application:\n",
        "\n",
        "Create a Flask web application by defining routes and views. You can create a new Flask application or integrate Bokeh into an existing one.\n",
        "\n",
        "\n",
        "from flask import Flask, render_template\n",
        "from bokeh.plotting import figure\n",
        "from bokeh.embed import components\n",
        "\n",
        "app = Flask(__name__)\n",
        "\n",
        "# Define a route for your Bokeh plot\n",
        "@app.route('/bokeh_plot')\n",
        "def bokeh_plot():\n",
        "    # Create a Bokeh figure and plot\n",
        "    p = figure(plot_width=400, plot_height=400)\n",
        "    p.circle([1, 2, 3], [4, 5, 6])\n",
        "\n",
        "    # Embed the Bokeh plot into the HTML template\n",
        "    script, div = components(p)\n",
        "\n",
        "    return render_template('bokeh_plot.html', script=script, div=div)\n",
        "\n",
        "if __name__ == '__main__':\n",
        "    app.run()\n",
        "3. Create an HTML Template:\n",
        "\n",
        "Create an HTML template (e.g., bokeh_plot.html) that includes placeholders for the Bokeh plot components:\n",
        "\n",
        "<!DOCTYPE html>\n",
        "<html>\n",
        "<head>\n",
        "    <title>Bokeh Plot</title>\n",
        "    <!-- Include Bokeh resources (CSS and JavaScript) -->\n",
        "    {{ script|safe }}\n",
        "</head>\n",
        "<body>\n",
        "    <!-- Embed the Bokeh plot div -->\n",
        "    {{ div|safe }}\n",
        "</body>\n",
        "</html>\n",
        "4. Run the Flask Application:\n",
        "\n",
        "Start your Flask application using flask run or your preferred method. The Bokeh plot will be accessible at the specified route, e.g., http://localhost:5000/bokeh_plot.\n",
        "\n",
        "Embedding a Bokeh Plot with Django:\n",
        "1. Install Django and Bokeh:\n",
        "\n",
        "Make sure you have Django and Bokeh installed:\n",
        "\n",
        "bash\n",
        "\n",
        "pip install Django bokeh\n",
        "2. Create a Django Project and App:\n",
        "\n",
        "Create a new Django project and app (or use an existing one):\n",
        "\n",
        "bash\n",
        "\n",
        "django-admin startproject myproject\n",
        "cd myproject\n",
        "python manage.py startapp myapp\n",
        "3. Define Views and Templates:\n",
        "\n",
        "In your Django app, define views and templates to embed the Bokeh plot.\n",
        "\n",
        "# myapp/views.py\n",
        "from django.shortcuts import render\n",
        "from bokeh.plotting import figure\n",
        "from bokeh.embed import components\n",
        "\n",
        "def bokeh_plot(request):\n",
        "    # Create a Bokeh figure and plot\n",
        "    p = figure(plot_width=400, plot_height=400)\n",
        "    p.circle([1, 2, 3], [4, 5, 6])\n",
        "\n",
        "    # Embed the Bokeh plot into the template\n",
        "    script, div = components(p)\n",
        "\n",
        "    return render(request, 'bokeh_plot.html', {'script': script, 'div': div})\n",
        "4. Create an HTML Template:\n",
        "\n",
        "Create an HTML template (e.g., bokeh_plot.html) within your app's templates folder:\n",
        "\n",
        "html\n",
        "\n",
        "<!DOCTYPE html>\n",
        "<html>\n",
        "<head>\n",
        "    <title>Bokeh Plot</title>\n",
        "    <!-- Include Bokeh resources (CSS and JavaScript) -->\n",
        "    {{ script|safe }}\n",
        "</head>\n",
        "<body>\n",
        "    <!-- Embed the Bokeh plot div -->\n",
        "    {{ div|safe }}\n",
        "</body>\n",
        "</html>\n",
        "5. Define URLs:\n",
        "\n",
        "Configure the URLs for your Django app to map to the bokeh_plot view:\n",
        "\n",
        "\n",
        "# myapp/urls.py\n",
        "from django.urls import path\n",
        "from . import views\n",
        "\n",
        "urlpatterns = [\n",
        "    path('bokeh_plot/', views.bokeh_plot, name='bokeh_plot'),\n",
        "]\n",
        "6. Include App URLs:\n",
        "\n",
        "Include the app's URLs in your project's urls.py:\n",
        "\n",
        "\n",
        "# myproject/urls.py\n",
        "from django.contrib import admin\n",
        "from django.urls import path, include\n",
        "\n",
        "urlpatterns = [\n",
        "    path('admin/', admin.site.urls),\n",
        "    path('myapp/', include('myapp.urls')),\n",
        "]\n",
        "\n",
        "\n",
        "\n",
        "7. Run the Django Application:\n",
        "Start your Django development server using python manage.py runserver.\n",
        "The Bokeh plot will be accessible at the specified URL, e.g., http://localhost:8000/myapp/bokeh_plot.\n",
        "\n",
        "Both Flask and Django provide the necessary infrastructure to embed\n",
        "Bokeh plots into web pages or dashboards, making it easier to create interactive data visualizations as part of your web applications.\n",
        " The specific implementation details may vary depending on your project's structure and requirements."
      ],
      "metadata": {
        "id": "pkJr_FDui4DV"
      },
      "execution_count": null,
      "outputs": []
    }
  ]
}