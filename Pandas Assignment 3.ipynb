{
 "cells": [
  {
   "cell_type": "code",
   "execution_count": 1,
   "id": "5726111e-87ed-4237-b727-e33ba33e21ed",
   "metadata": {},
   "outputs": [],
   "source": [
    "import pandas as pd"
   ]
  },
  {
   "cell_type": "code",
   "execution_count": 2,
   "id": "c68ee111-e7ad-4494-aa2a-c6d39f44127a",
   "metadata": {},
   "outputs": [
    {
     "name": "stdout",
     "output_type": "stream",
     "text": [
      "Requirement already satisfied: pandas in /opt/conda/lib/python3.10/site-packages (1.5.2)\n",
      "Requirement already satisfied: python-dateutil>=2.8.1 in /opt/conda/lib/python3.10/site-packages (from pandas) (2.8.2)\n",
      "Requirement already satisfied: pytz>=2020.1 in /opt/conda/lib/python3.10/site-packages (from pandas) (2022.6)\n",
      "Requirement already satisfied: numpy>=1.21.0 in /opt/conda/lib/python3.10/site-packages (from pandas) (1.23.5)\n",
      "Requirement already satisfied: six>=1.5 in /opt/conda/lib/python3.10/site-packages (from python-dateutil>=2.8.1->pandas) (1.16.0)\n",
      "Note: you may need to restart the kernel to use updated packages.\n"
     ]
    }
   ],
   "source": [
    "pip install pandas"
   ]
  },
  {
   "cell_type": "code",
   "execution_count": null,
   "id": "173aa41e-b904-4362-80cd-c4a5fd3cf876",
   "metadata": {},
   "outputs": [],
   "source": []
  },
  {
   "cell_type": "code",
   "execution_count": 3,
   "id": "8bda01af-8683-423d-8024-d980d3c2374e",
   "metadata": {},
   "outputs": [],
   "source": [
    "#Consider following code to answer further questions:\n",
    "import pandas as pd\n",
    "course_name = ['Data Science', 'Machine Learning', 'Big Data', 'Data Engineer']\n",
    "duration = [2,3,6,4]\n",
    "df1 = pd.DataFrame(data = {'course_name' : course_name, 'duration' : duration})"
   ]
  },
  {
   "cell_type": "raw",
   "id": "d6d0cf79-b99c-4f1e-82f8-67c77adcc417",
   "metadata": {},
   "source": [
    "Q1. Write a code to print the data present in the second row of the dataframe, df."
   ]
  },
  {
   "cell_type": "code",
   "execution_count": 4,
   "id": "26a97eec-b5f6-4ee8-8058-2ae4d273c4df",
   "metadata": {},
   "outputs": [
    {
     "data": {
      "text/plain": [
       "0        Data Science\n",
       "1    Machine Learning\n",
       "2            Big Data\n",
       "3       Data Engineer\n",
       "Name: course_name, dtype: object"
      ]
     },
     "execution_count": 4,
     "metadata": {},
     "output_type": "execute_result"
    }
   ],
   "source": [
    "df1['course_name']"
   ]
  },
  {
   "cell_type": "code",
   "execution_count": 5,
   "id": "8ea28118-517e-4374-aae9-2b6e0c9b8445",
   "metadata": {},
   "outputs": [
    {
     "data": {
      "text/html": [
       "<div>\n",
       "<style scoped>\n",
       "    .dataframe tbody tr th:only-of-type {\n",
       "        vertical-align: middle;\n",
       "    }\n",
       "\n",
       "    .dataframe tbody tr th {\n",
       "        vertical-align: top;\n",
       "    }\n",
       "\n",
       "    .dataframe thead th {\n",
       "        text-align: right;\n",
       "    }\n",
       "</style>\n",
       "<table border=\"1\" class=\"dataframe\">\n",
       "  <thead>\n",
       "    <tr style=\"text-align: right;\">\n",
       "      <th></th>\n",
       "      <th>course_name</th>\n",
       "      <th>duration</th>\n",
       "    </tr>\n",
       "  </thead>\n",
       "  <tbody>\n",
       "    <tr>\n",
       "      <th>0</th>\n",
       "      <td>Data Science</td>\n",
       "      <td>2</td>\n",
       "    </tr>\n",
       "    <tr>\n",
       "      <th>1</th>\n",
       "      <td>Machine Learning</td>\n",
       "      <td>3</td>\n",
       "    </tr>\n",
       "    <tr>\n",
       "      <th>2</th>\n",
       "      <td>Big Data</td>\n",
       "      <td>6</td>\n",
       "    </tr>\n",
       "    <tr>\n",
       "      <th>3</th>\n",
       "      <td>Data Engineer</td>\n",
       "      <td>4</td>\n",
       "    </tr>\n",
       "  </tbody>\n",
       "</table>\n",
       "</div>"
      ],
      "text/plain": [
       "        course_name  duration\n",
       "0      Data Science         2\n",
       "1  Machine Learning         3\n",
       "2          Big Data         6\n",
       "3     Data Engineer         4"
      ]
     },
     "execution_count": 5,
     "metadata": {},
     "output_type": "execute_result"
    }
   ],
   "source": [
    "df1"
   ]
  },
  {
   "cell_type": "code",
   "execution_count": 6,
   "id": "18b6d850-fdfc-43ae-af14-bc34484e8cae",
   "metadata": {},
   "outputs": [
    {
     "data": {
      "text/plain": [
       "'Machine Learning'"
      ]
     },
     "execution_count": 6,
     "metadata": {},
     "output_type": "execute_result"
    }
   ],
   "source": [
    "df1['course_name'].iloc[1]"
   ]
  },
  {
   "cell_type": "code",
   "execution_count": 7,
   "id": "779900ba-c45f-4f31-af4e-bc0b3e4faa79",
   "metadata": {},
   "outputs": [
    {
     "data": {
      "text/plain": [
       "3"
      ]
     },
     "execution_count": 7,
     "metadata": {},
     "output_type": "execute_result"
    }
   ],
   "source": [
    "df1['duration'].iloc[1]"
   ]
  },
  {
   "cell_type": "code",
   "execution_count": null,
   "id": "168a205c-8e1c-429f-bfc3-06636cc4cdba",
   "metadata": {},
   "outputs": [],
   "source": []
  },
  {
   "cell_type": "raw",
   "id": "f51827fe-0157-4a3f-8cc2-71754b0522d3",
   "metadata": {},
   "source": [
    "Q2. What is the difference between the functions loc and iloc in pandas.DataFrame?"
   ]
  },
  {
   "cell_type": "raw",
   "id": "31501907-dbed-4fcc-a7da-3dcb7081a2b1",
   "metadata": {},
   "source": [
    "loc (label-based indexing):\n",
    "loc is primarily used for selection by label/index. It accepts labels as arguments.\n",
    "When using loc, both the row and column indices are specified using labels (names).\n",
    "It includes the end label in the range when slicing.\n",
    "\n",
    "\n",
    "\n",
    "iloc (integer-based indexing):\n",
    "iloc is used for selection by integer position. It accepts integer values as arguments.\n",
    "When using iloc, both the row and column positions are specified using integers (zero-based).\n",
    "It does not include the end position in the range when slicing"
   ]
  },
  {
   "cell_type": "code",
   "execution_count": null,
   "id": "00a0e300-438e-4aa9-88c1-8f06e1bfc757",
   "metadata": {},
   "outputs": [],
   "source": []
  },
  {
   "cell_type": "raw",
   "id": "008c2969-e0ea-436b-af0b-aa5825fa0a51",
   "metadata": {},
   "source": [
    "Q3. Reindex the given dataframe using a variable, reindex = [3,0,1,2] and store it in the variable, new_df\n",
    "then find the output for both new_df.loc[2] and new_df.iloc[2].\n",
    "Did you observe any difference in both the outputs? If so then explain it."
   ]
  },
  {
   "cell_type": "code",
   "execution_count": 8,
   "id": "2576b662-cb8f-4fef-8ee8-1d96f5771f99",
   "metadata": {},
   "outputs": [],
   "source": [
    "\n",
    "New_column=['3','0','1','2']\n",
    "\n",
    "df2=df1.reindex(columns=New_column)"
   ]
  },
  {
   "cell_type": "code",
   "execution_count": 9,
   "id": "e7bb0540-439e-47ce-8308-71b98fa11597",
   "metadata": {},
   "outputs": [
    {
     "data": {
      "text/html": [
       "<div>\n",
       "<style scoped>\n",
       "    .dataframe tbody tr th:only-of-type {\n",
       "        vertical-align: middle;\n",
       "    }\n",
       "\n",
       "    .dataframe tbody tr th {\n",
       "        vertical-align: top;\n",
       "    }\n",
       "\n",
       "    .dataframe thead th {\n",
       "        text-align: right;\n",
       "    }\n",
       "</style>\n",
       "<table border=\"1\" class=\"dataframe\">\n",
       "  <thead>\n",
       "    <tr style=\"text-align: right;\">\n",
       "      <th></th>\n",
       "      <th>course_name</th>\n",
       "      <th>duration</th>\n",
       "    </tr>\n",
       "  </thead>\n",
       "  <tbody>\n",
       "    <tr>\n",
       "      <th>0</th>\n",
       "      <td>Data Science</td>\n",
       "      <td>2</td>\n",
       "    </tr>\n",
       "    <tr>\n",
       "      <th>1</th>\n",
       "      <td>Machine Learning</td>\n",
       "      <td>3</td>\n",
       "    </tr>\n",
       "    <tr>\n",
       "      <th>2</th>\n",
       "      <td>Big Data</td>\n",
       "      <td>6</td>\n",
       "    </tr>\n",
       "    <tr>\n",
       "      <th>3</th>\n",
       "      <td>Data Engineer</td>\n",
       "      <td>4</td>\n",
       "    </tr>\n",
       "  </tbody>\n",
       "</table>\n",
       "</div>"
      ],
      "text/plain": [
       "        course_name  duration\n",
       "0      Data Science         2\n",
       "1  Machine Learning         3\n",
       "2          Big Data         6\n",
       "3     Data Engineer         4"
      ]
     },
     "execution_count": 9,
     "metadata": {},
     "output_type": "execute_result"
    }
   ],
   "source": [
    "df1\n"
   ]
  },
  {
   "cell_type": "code",
   "execution_count": 10,
   "id": "bbd7dcd0-09f9-4a58-a792-e9bc3ee79edc",
   "metadata": {},
   "outputs": [],
   "source": [
    "import pandas as pd\n",
    "import numpy as np\n",
    "columns = ['column_1', 'column_2', 'column_3', 'column_4', 'column_5', 'column_6']\n",
    "indices = [1,2,3,4,5,6]\n",
    "#Creating a dataframe:\n",
    "df1 = pd.DataFrame(np.random.rand(6,6), columns = columns, index = indices)"
   ]
  },
  {
   "cell_type": "raw",
   "id": "c5d6be0d-1819-4e8d-962c-c5852b94ad0a",
   "metadata": {},
   "source": [
    "Q4. Write a code to find the following statistical measurements for the above dataframe df1:\n",
    "(i) mean of each and every column present in the dataframe.\n",
    "(ii) standard deviation of column, ‘column_2’"
   ]
  },
  {
   "cell_type": "code",
   "execution_count": 11,
   "id": "06957ac6-bf09-4068-9247-8668f5fcaf89",
   "metadata": {},
   "outputs": [
    {
     "data": {
      "text/html": [
       "<div>\n",
       "<style scoped>\n",
       "    .dataframe tbody tr th:only-of-type {\n",
       "        vertical-align: middle;\n",
       "    }\n",
       "\n",
       "    .dataframe tbody tr th {\n",
       "        vertical-align: top;\n",
       "    }\n",
       "\n",
       "    .dataframe thead th {\n",
       "        text-align: right;\n",
       "    }\n",
       "</style>\n",
       "<table border=\"1\" class=\"dataframe\">\n",
       "  <thead>\n",
       "    <tr style=\"text-align: right;\">\n",
       "      <th></th>\n",
       "      <th>column_1</th>\n",
       "      <th>column_2</th>\n",
       "      <th>column_3</th>\n",
       "      <th>column_4</th>\n",
       "      <th>column_5</th>\n",
       "      <th>column_6</th>\n",
       "    </tr>\n",
       "  </thead>\n",
       "  <tbody>\n",
       "    <tr>\n",
       "      <th>1</th>\n",
       "      <td>0.831477</td>\n",
       "      <td>0.400030</td>\n",
       "      <td>0.084574</td>\n",
       "      <td>0.707980</td>\n",
       "      <td>0.631247</td>\n",
       "      <td>0.521126</td>\n",
       "    </tr>\n",
       "    <tr>\n",
       "      <th>2</th>\n",
       "      <td>0.203050</td>\n",
       "      <td>0.858109</td>\n",
       "      <td>0.439812</td>\n",
       "      <td>0.512761</td>\n",
       "      <td>0.459447</td>\n",
       "      <td>0.327844</td>\n",
       "    </tr>\n",
       "    <tr>\n",
       "      <th>3</th>\n",
       "      <td>0.016241</td>\n",
       "      <td>0.033071</td>\n",
       "      <td>0.828865</td>\n",
       "      <td>0.176676</td>\n",
       "      <td>0.206874</td>\n",
       "      <td>0.903317</td>\n",
       "    </tr>\n",
       "    <tr>\n",
       "      <th>4</th>\n",
       "      <td>0.246417</td>\n",
       "      <td>0.409299</td>\n",
       "      <td>0.863050</td>\n",
       "      <td>0.534691</td>\n",
       "      <td>0.456946</td>\n",
       "      <td>0.703894</td>\n",
       "    </tr>\n",
       "    <tr>\n",
       "      <th>5</th>\n",
       "      <td>0.769443</td>\n",
       "      <td>0.894462</td>\n",
       "      <td>0.009631</td>\n",
       "      <td>0.606403</td>\n",
       "      <td>0.196416</td>\n",
       "      <td>0.288757</td>\n",
       "    </tr>\n",
       "    <tr>\n",
       "      <th>6</th>\n",
       "      <td>0.855389</td>\n",
       "      <td>0.978723</td>\n",
       "      <td>0.611358</td>\n",
       "      <td>0.631599</td>\n",
       "      <td>0.516058</td>\n",
       "      <td>0.383888</td>\n",
       "    </tr>\n",
       "  </tbody>\n",
       "</table>\n",
       "</div>"
      ],
      "text/plain": [
       "   column_1  column_2  column_3  column_4  column_5  column_6\n",
       "1  0.831477  0.400030  0.084574  0.707980  0.631247  0.521126\n",
       "2  0.203050  0.858109  0.439812  0.512761  0.459447  0.327844\n",
       "3  0.016241  0.033071  0.828865  0.176676  0.206874  0.903317\n",
       "4  0.246417  0.409299  0.863050  0.534691  0.456946  0.703894\n",
       "5  0.769443  0.894462  0.009631  0.606403  0.196416  0.288757\n",
       "6  0.855389  0.978723  0.611358  0.631599  0.516058  0.383888"
      ]
     },
     "execution_count": 11,
     "metadata": {},
     "output_type": "execute_result"
    }
   ],
   "source": [
    "df1"
   ]
  },
  {
   "cell_type": "code",
   "execution_count": 12,
   "id": "e97fa14b-163d-47a5-bca4-1fb0056eb240",
   "metadata": {},
   "outputs": [
    {
     "data": {
      "text/plain": [
       "column_1    0.487003\n",
       "column_2    0.595616\n",
       "column_3    0.472882\n",
       "column_4    0.528352\n",
       "column_5    0.411165\n",
       "column_6    0.521471\n",
       "dtype: float64"
      ]
     },
     "execution_count": 12,
     "metadata": {},
     "output_type": "execute_result"
    }
   ],
   "source": [
    "df1.mean()"
   ]
  },
  {
   "cell_type": "code",
   "execution_count": 13,
   "id": "8a26d223-8c17-4c02-a5e2-ff834da0b0a2",
   "metadata": {},
   "outputs": [
    {
     "data": {
      "text/plain": [
       "0.37266800263829436"
      ]
     },
     "execution_count": 13,
     "metadata": {},
     "output_type": "execute_result"
    }
   ],
   "source": [
    "df1['column_2'].std()"
   ]
  },
  {
   "cell_type": "raw",
   "id": "4bad1cfb-794a-4564-95c3-ebd241939f4d",
   "metadata": {},
   "source": [
    "Q5. Replace the data present in the second row of column, ‘column_2’ by a string variable then find the\n",
    "mean of column, column_2.\n",
    "If you are getting errors in executing it then explain why.\n",
    "[Hint: To replace the data use df1.loc[] and equate this to string data of your choice.]"
   ]
  },
  {
   "cell_type": "code",
   "execution_count": 14,
   "id": "93f12fc7-b9ac-4bc6-a139-41b246fdcb92",
   "metadata": {},
   "outputs": [],
   "source": [
    "l=('a','b','c','d','e','f')\n",
    "df1['column_2'][2]=['a','b','c','d','e','f']"
   ]
  },
  {
   "cell_type": "code",
   "execution_count": 15,
   "id": "dd03940c-a5e4-493c-9807-3eadeec54810",
   "metadata": {},
   "outputs": [
    {
     "name": "stderr",
     "output_type": "stream",
     "text": [
      "/tmp/ipykernel_77/2053335143.py:1: FutureWarning: The default value of numeric_only in DataFrame.mean is deprecated. In a future version, it will default to False. In addition, specifying 'numeric_only=None' is deprecated. Select only valid columns or specify the value of numeric_only to silence this warning.\n",
      "  df1.mean()\n"
     ]
    },
    {
     "data": {
      "text/plain": [
       "column_1    0.487003\n",
       "column_3    0.472882\n",
       "column_4    0.528352\n",
       "column_5    0.411165\n",
       "column_6    0.521471\n",
       "dtype: float64"
      ]
     },
     "execution_count": 15,
     "metadata": {},
     "output_type": "execute_result"
    }
   ],
   "source": [
    "df1.mean()"
   ]
  },
  {
   "cell_type": "code",
   "execution_count": null,
   "id": "c19ff44f-f2f3-41e6-ac90-3a9a1e41f735",
   "metadata": {},
   "outputs": [],
   "source": []
  },
  {
   "cell_type": "markdown",
   "id": "1fd91084-e845-495b-8068-fd4da409173a",
   "metadata": {},
   "source": [
    "Q6. What do you understand about the windows function in pandas and list the types of windows\n",
    "functions?"
   ]
  },
  {
   "cell_type": "raw",
   "id": "23969487-f926-480f-9c70-1da6b51e5647",
   "metadata": {},
   "source": [
    "In pandas, the term \"window functions\" refers to a group of functions and methods that are used for performing operations on a \"window\" of data within a DataFrame. \n",
    "\n",
    "1.Rolling Functions\n",
    "2.Expanding Functions\n",
    "3.Window Apply Functions\n",
    "4.Window Aggregations:"
   ]
  },
  {
   "cell_type": "raw",
   "id": "6db143da-d5b9-4e45-9b6f-570b0482bbf6",
   "metadata": {},
   "source": [
    "Q7. Write a code to print only the current month and year at the time of answering this question.\n",
    "[Hint: Use pandas.datetime function]"
   ]
  },
  {
   "cell_type": "code",
   "execution_count": 16,
   "id": "c8649c85-4282-4be9-985f-02703a9d65eb",
   "metadata": {},
   "outputs": [
    {
     "name": "stderr",
     "output_type": "stream",
     "text": [
      "/tmp/ipykernel_77/3387385563.py:1: FutureWarning: The pandas.datetime class is deprecated and will be removed from pandas in a future version. Import from datetime module instead.\n",
      "  pd.datetime(year=2023,month=9,day=1)\n"
     ]
    },
    {
     "data": {
      "text/plain": [
       "datetime.datetime(2023, 9, 1, 0, 0)"
      ]
     },
     "execution_count": 16,
     "metadata": {},
     "output_type": "execute_result"
    }
   ],
   "source": [
    "pd.datetime(year=2023,month=9,day=1)"
   ]
  },
  {
   "cell_type": "markdown",
   "id": "24dbebb5-e0e6-49f6-a611-d6c0319e124b",
   "metadata": {},
   "source": [
    "Q8. Write a Python program that takes in two dates as input (in the format YYYY-MM-DD) and\n",
    "calculates the difference between them in days, hours, and minutes using Pandas time delta. The\n",
    "program should prompt the user to enter the dates and display the result."
   ]
  },
  {
   "cell_type": "code",
   "execution_count": 17,
   "id": "c3f5be05-4a78-405f-ab80-31830ac825fa",
   "metadata": {},
   "outputs": [
    {
     "name": "stdin",
     "output_type": "stream",
     "text": [
      "Enter the first date (YYYY-MM-DD):  2023-3-2\n",
      "Enter the second date (YYYY-MM-DD):  2023-3-2\n"
     ]
    },
    {
     "name": "stdout",
     "output_type": "stream",
     "text": [
      "Difference between the two dates: 0 days, 0 hours, 0 minutes\n"
     ]
    }
   ],
   "source": [
    " date1 = input(\"Enter the first date (YYYY-MM-DD): \")\n",
    "date2 = input(\"Enter the second date (YYYY-MM-DD): \")\n",
    "\n",
    "date1 = pd.to_datetime(date1)\n",
    "date2 = pd.to_datetime(date2)\n",
    "\n",
    "time_difference = date2 - date1\n",
    "\n",
    "\n",
    "days = time_difference.days\n",
    "hours, remainder = divmod(time_difference.seconds, 3600)\n",
    "minutes = remainder // 60\n",
    "\n",
    "\n",
    "print(f\"Difference between the two dates: {days} days, {hours} hours, {minutes} minutes\")"
   ]
  },
  {
   "cell_type": "code",
   "execution_count": null,
   "id": "e747c7ca-9b2e-4212-94c3-56e6ca1e17ba",
   "metadata": {},
   "outputs": [],
   "source": []
  },
  {
   "cell_type": "raw",
   "id": "8d96c2ee-1b18-442b-b2af-37c50bdc266a",
   "metadata": {},
   "source": [
    "Q9. Write a Python program that reads a CSV file containing categorical data and converts a specified\n",
    "column to a categorical data type. The program should prompt the user to enter the file path, column\n",
    "name, and category order, and then display the sorted data."
   ]
  },
  {
   "cell_type": "code",
   "execution_count": 21,
   "id": "98d8df4e-6444-4c26-8d07-a72a4e4a8538",
   "metadata": {},
   "outputs": [
    {
     "name": "stdin",
     "output_type": "stream",
     "text": [
      "Enter the file path of the CSV file:  gierf\n"
     ]
    },
    {
     "name": "stdout",
     "output_type": "stream",
     "text": [
      "File not found: gierf\n"
     ]
    }
   ],
   "source": [
    "import pandas as pd\n",
    "\n",
    "\n",
    "def process_csv_file():\n",
    "\n",
    "    file_path = input(\"Enter the file path of the CSV file: \")\n",
    "\n",
    "    try:\n",
    "       \n",
    "        df = pd.read_csv(file_path)\n",
    "        \n",
    "        print(\"Columns in the CSV file:\")\n",
    "        print(df.columns)\n",
    "        \n",
    "       \n",
    "        column_name = input(\"Enter the name of the column to convert to categorical: \")\n",
    "        \n",
    "        \n",
    "        if column_name in df.columns:\n",
    "           \n",
    "            category_order = input(\"Enter the category order (comma-separated values): \")\n",
    "            \n",
    "            \n",
    "            category_order = [x.strip() for x in category_order.split(',')]\n",
    "            df[column_name] = pd.Categorical(df[column_name], categories=category_order, ordered=True)\n",
    "            \n",
    "            \n",
    "            sorted_df = df.sort_values(by=column_name)\n",
    "            \n",
    "           \n",
    "            print(\"\\nSorted Data:\")\n",
    "            print(sorted_df)\n",
    "        else:\n",
    "            print(f\"Column '{column_name}' not found in the CSV file.\")\n",
    "    except FileNotFoundError:\n",
    "        print(f\"File not found: {file_path}\")\n",
    "    except Exception as e:\n",
    "        print(f\"An error occurred: {str(e)}\")\n",
    "\n",
    "if __name__ == \"__main__\":\n",
    "    process_csv_file()\n"
   ]
  },
  {
   "cell_type": "raw",
   "id": "8cc30b6f-d3d1-409b-9957-6405bfde166c",
   "metadata": {},
   "source": [
    "Q10. Write a Python program that reads a CSV file containing sales data for different products and\n",
    "visualizes the data using a stacked bar chart to show the sales of each product category over time. The\n",
    "program should prompt the user to enter the file path and display the chart."
   ]
  },
  {
   "cell_type": "code",
   "execution_count": null,
   "id": "7fafc6b3-1308-4978-bf3c-dee668fc6f97",
   "metadata": {},
   "outputs": [],
   "source": [
    "import pandas as pd\n",
    "import matplotlib.pyplot as plt\n",
    "\n",
    "\n",
    "def visualize_sales_data():\n",
    "  \n",
    "    file_path = input(\"Enter the file path of the CSV file: \")\n",
    "\n",
    "    try:\n",
    "       \n",
    "        df = pd.read_csv(file_path)\n",
    "        \n",
    "       \n",
    "        if 'Date' in df.columns and 'Category' in df.columns and 'Sales' in df.columns:\n",
    "           \n",
    "            df['Date'] = pd.to_datetime(df['Date'])\n",
    "            \n",
    "           \n",
    "            grouped_df = df.groupby(['Date', 'Category'])['Sales'].sum().unstack(fill_value=0)\n",
    "            \n",
    "           \n",
    "            plt.figure(figsize=(12, 6))\n",
    "            stacked_data = grouped_df.plot(kind='bar', stacked=True, colormap='tab20', width=0.8)\n",
    "            \n",
    "           \n",
    "            plt.xlabel('Date')\n",
    "            plt.ylabel('Sales')\n",
    "            plt.title('Stacked Bar Chart of Sales by Product Category Over Time')\n",
    "            \n",
    "            \n",
    "            plt.legend(loc='upper right', bbox_to_anchor=(1.15, 1))\n",
    "            \n",
    "         \n",
    "            plt.show()\n",
    "        else:\n",
    "            print(\"The CSV file should contain 'Date', 'Category', and 'Sales' columns.\")\n",
    "    except FileNotFoundError:\n",
    "        print(f\"File not found: {file_path}\")\n",
    "    except Exception as e:\n",
    "        print(f\"An error occurred: {str(e)}\")\n",
    "\n",
    "\n",
    "if __name__ == \"__main__\":\n",
    "    visualize_sales_data()\n"
   ]
  },
  {
   "cell_type": "raw",
   "id": "1825b246-c1be-4ea8-8939-f3942fe30926",
   "metadata": {},
   "source": [
    "Q11. You are given a CSV file containing student data that includes the student ID and their test score. Write\n",
    "a Python program that reads the CSV file, calculates the mean, median, and mode of the test scores, and\n",
    "displays the results in a table.\n",
    "The program should do the followingM\n",
    "I Prompt the user to enter the file path of the CSV file containing the student dataR\n",
    "I Read the CSV file into a Pandas DataFrameR\n",
    "I Calculate the mean, median, and mode of the test scores using Pandas toolsR\n",
    "I Display the mean, median, and mode in a table.\n",
    "Assume the CSV file contains the following columnsM\n",
    "I Student ID: The ID of the studentR\n",
    "I Test Score: The score of the student's test.\n",
    "Example usage of the program:\n",
    "Enter the file path of the CSV file containing the student data: student_data.csv\n",
    "+-----------+--------+\n",
    "| Statistic | Value |\n",
    "+-----------+--------+\n",
    "| Mean | 79.6 |\n",
    "| Median | 82 |\n",
    "| Mode | 85, 90 |\n",
    "+-----------+--------+\n",
    "Assume that the CSV file student_data.csv contains the following data:\n",
    "Student ID,Test Score\n",
    "1,85\n",
    "2,90\n",
    "3,80\n",
    "4,75\n",
    "5,85\n",
    "6,82\n",
    "7,78\n",
    "8,85\n",
    "9,90\n",
    "10,85\n",
    "The program should calculate the mean, median, and mode of the test scores and display the results\n",
    "in a table."
   ]
  },
  {
   "cell_type": "code",
   "execution_count": null,
   "id": "d0db757b-0786-4537-8abe-0c59a4c33beb",
   "metadata": {},
   "outputs": [],
   "source": [
    "import pandas as pd\n",
    "\n",
    "\n",
    "def calculate_and_display_statistics():\n",
    "    \n",
    "    file_path = input(\"Enter the file path of the CSV file containing student data: \")\n",
    "\n",
    "    try:\n",
    "        \n",
    "        df = pd.read_csv(file_path)\n",
    "        \n",
    "       \n",
    "        if 'Test Score' in df.columns:\n",
    "            \n",
    "            mean_score = df['Test Score'].mean()\n",
    "            median_score = df['Test Score'].median()\n",
    "            mode_scores = df['Test Score'].mode()\n",
    "            \n",
    "           \n",
    "            statistics_df = pd.DataFrame({\n",
    "                'Statistic': ['Mean', 'Median', 'Mode'],\n",
    "                'Value': [mean_score, median_score, ', '.join(map(str, mode_scores))]\n",
    "            })\n",
    "            \n",
    "           \n",
    "            print(statistics_df.to_string(index=False))\n",
    "        else:\n",
    "            print(\"The CSV file should contain a 'Test Score' column.\")\n",
    "    except FileNotFoundError:\n",
    "        print(f\"File not found: {file_path}\")\n",
    "    except Exception as e:\n",
    "        print(f\"An error occurred: {str(e)}\")\n",
    "\n",
    "\n",
    "if __name__ == \"__main__\":\n",
    "    calculate_and_display_statistics()\n"
   ]
  }
 ],
 "metadata": {
  "kernelspec": {
   "display_name": "Python 3 (ipykernel)",
   "language": "python",
   "name": "python3"
  },
  "language_info": {
   "codemirror_mode": {
    "name": "ipython",
    "version": 3
   },
   "file_extension": ".py",
   "mimetype": "text/x-python",
   "name": "python",
   "nbconvert_exporter": "python",
   "pygments_lexer": "ipython3",
   "version": "3.10.8"
  }
 },
 "nbformat": 4,
 "nbformat_minor": 5
}
