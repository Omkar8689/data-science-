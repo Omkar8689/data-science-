{
 "cells": [
  {
   "cell_type": "code",
   "execution_count": null,
   "id": "51cd26fe-f79c-4f0c-a9eb-b0fbac8cdc6d",
   "metadata": {},
   "outputs": [],
   "source": [
    "\n",
    "Q9. How does PCA handle data with high variance in some dimensions but low variance in others?"
   ]
  },
  {
   "cell_type": "code",
   "execution_count": null,
   "id": "32f30e60-5f6e-4c6e-8b24-fd46a7da1c5a",
   "metadata": {},
   "outputs": [],
   "source": [
    "Q1. What is a projection and how is it used in PCA?"
   ]
  },
  {
   "cell_type": "code",
   "execution_count": null,
   "id": "71518755-e15e-4c18-8ee9-2825185333cc",
   "metadata": {},
   "outputs": [],
   "source": [
    "In PCA, a projection refers to the transformation of your high-dimensional data points onto a new set of axes (principal components) \n",
    "that capture the most significant variations in the data. Imagine projecting a 3D object onto a flat surface - you lose \n",
    "some information but retain the essential shape. \n",
    "PCA uses projections to create a lower-dimensional representation of your data while preserving important patterns."
   ]
  },
  {
   "cell_type": "code",
   "execution_count": null,
   "id": "bf0cc12a-2778-452b-9cfa-b9164b17ee7c",
   "metadata": {},
   "outputs": [],
   "source": []
  },
  {
   "cell_type": "code",
   "execution_count": null,
   "id": "8a0c7d3c-088e-4042-842a-68d564cc961b",
   "metadata": {},
   "outputs": [],
   "source": [
    "\n",
    "Q2. How does the optimization problem in PCA work, and what is it trying to achieve?"
   ]
  },
  {
   "cell_type": "code",
   "execution_count": null,
   "id": "4f0a14c5-925d-4c36-a3f1-20cb4d2e399e",
   "metadata": {},
   "outputs": [],
   "source": [
    "PCA works by solving an optimization problem. It aims to find a set of uncorrelated directions (principal components) that maximize the \n",
    "variance captured by projecting the data points onto these directions. In simpler terms, it identifies the directions where the data \n",
    "spreads out the most. \n",
    "This allows you to represent the data with fewer dimensions while retaining the most informative parts."
   ]
  },
  {
   "cell_type": "code",
   "execution_count": null,
   "id": "6c48b3cd-6065-49b1-bad0-59eebe9c5a11",
   "metadata": {},
   "outputs": [],
   "source": []
  },
  {
   "cell_type": "code",
   "execution_count": null,
   "id": "cc115854-d4ad-404b-86e4-9df475fcb248",
   "metadata": {},
   "outputs": [],
   "source": []
  },
  {
   "cell_type": "code",
   "execution_count": null,
   "id": "dbb80019-1bd3-487f-9b76-8b8161bbb550",
   "metadata": {},
   "outputs": [],
   "source": [
    "Q3. What is the relationship between covariance matrices and PCA?"
   ]
  },
  {
   "cell_type": "code",
   "execution_count": null,
   "id": "f12da9ed-0941-4bfa-a605-ec37513cd239",
   "metadata": {},
   "outputs": [],
   "source": [
    "The covariance matrix helps PCA understand the relationships between the original features. \n",
    "It captures how much two features tend to vary together. PCA uses the eigenvalues and eigenvectors of the covariance \n",
    "matrix to determine the principal components.\n",
    "Eigenvectors represent the directions of maximum variance, and eigenvalues correspond to the amount of variance explained by each direction."
   ]
  },
  {
   "cell_type": "code",
   "execution_count": null,
   "id": "6cb89431-661c-4629-bead-07dced9c1558",
   "metadata": {},
   "outputs": [],
   "source": []
  },
  {
   "cell_type": "code",
   "execution_count": null,
   "id": "1ca7f85c-fa2b-462f-a5b8-186c2217a6cb",
   "metadata": {},
   "outputs": [],
   "source": [
    "\n",
    "Q4. How does the choice of number of principal components impact the performance of PCA?"
   ]
  },
  {
   "cell_type": "code",
   "execution_count": null,
   "id": "7bd6c78b-8751-4706-b7b0-89c1ff40ba89",
   "metadata": {},
   "outputs": [],
   "source": [
    "The number of principal components you choose impacts the trade-off between dimensionality reduction and information loss. \n",
    "Using too few components might discard important details, while using too many might reintroduce noise. Choosing the optimal number \n",
    "often involves analyzing the explained variance ratio - the percentage of variance explained by each component. \n",
    "A common approach is to keep components that cumulatively explain a certain percentage (e.g., 90%) of the variance."
   ]
  },
  {
   "cell_type": "code",
   "execution_count": null,
   "id": "9968fc22-8e2e-46f8-842e-ec2a47591da7",
   "metadata": {},
   "outputs": [],
   "source": []
  },
  {
   "cell_type": "code",
   "execution_count": null,
   "id": "d6faf0a9-856f-41d2-a2fe-743c72308bf4",
   "metadata": {},
   "outputs": [],
   "source": [
    "Q5. How can PCA be used in feature selection, and what are the benefits of using it for this purpose?"
   ]
  },
  {
   "cell_type": "code",
   "execution_count": null,
   "id": "5356826b-8e3e-4424-bf7c-8e9834ea9300",
   "metadata": {},
   "outputs": [],
   "source": [
    "It is always important to the ml engineers to find the most important features in the data so that the ml model can easily work on it and\n",
    "give the maximum accuracy.But sometimes the extra features that are less important are also taken while feature section.These Unwanted features \n",
    "decreases the mdoels accuracy.Sometimes as we remove some features the valuable insights of that data also get lossed. To avoid this we do the PCA.\n",
    "This technique involves the reduction of the reduction of the features dimentionality,so that the valuable insights of the data are remain same and \n",
    "model get maximum accuracy"
   ]
  },
  {
   "cell_type": "code",
   "execution_count": null,
   "id": "654c5f61-5adc-4dc9-ab66-9ba68ce7514c",
   "metadata": {},
   "outputs": [],
   "source": []
  },
  {
   "cell_type": "code",
   "execution_count": null,
   "id": "0db1222a-c5ec-409a-9906-df2bf20215bc",
   "metadata": {},
   "outputs": [],
   "source": [
    "Q6. What are some common applications of PCA in data science and machine learning?"
   ]
  },
  {
   "cell_type": "code",
   "execution_count": null,
   "id": "d21e4137-368b-436a-bcd1-fb1df1175819",
   "metadata": {},
   "outputs": [],
   "source": [
    "PCA is mainly used to reduce the dimentionality of the data or features.Also it helps to find the valuable insights from the data as well as it\n",
    "helps to find the features that have the maximum relation with the target variable.So in ML it is always beneficial to get the valuable insights \n",
    "from the data and also to select the important features from the data"
   ]
  },
  {
   "cell_type": "code",
   "execution_count": null,
   "id": "0602943a-ea00-42db-88ed-eff98abb4d96",
   "metadata": {},
   "outputs": [],
   "source": []
  },
  {
   "cell_type": "code",
   "execution_count": null,
   "id": "e519df8e-0e38-4e79-a9a5-a915222b6e0e",
   "metadata": {},
   "outputs": [],
   "source": [
    "Q7.What is the relationship between spread and variance in PCA?"
   ]
  },
  {
   "cell_type": "code",
   "execution_count": null,
   "id": "1f52e5b2-139b-4e7f-a6dc-1156ee08f84f",
   "metadata": {},
   "outputs": [],
   "source": [
    "Spread (or dispersion) and variance are closely related.\n",
    "Variance is a statistical measure that quantifies how spread out the data points are from the mean. \n",
    "In PCA, we focus on maximizing the variance captured in the principal components.\n",
    "By identifying directions of high variance, PCA finds where the data points are most spread out."
   ]
  },
  {
   "cell_type": "code",
   "execution_count": null,
   "id": "bea4c150-f6cb-4870-a708-8d4dddb3631d",
   "metadata": {},
   "outputs": [],
   "source": []
  },
  {
   "cell_type": "code",
   "execution_count": null,
   "id": "63030b06-9836-4366-b215-be77f9bce351",
   "metadata": {},
   "outputs": [],
   "source": []
  },
  {
   "cell_type": "code",
   "execution_count": null,
   "id": "7c6b4bd0-9e9b-48b3-9fec-03371ebb748c",
   "metadata": {},
   "outputs": [],
   "source": [
    "\n",
    "Q8. How does PCA use the spread and variance of the data to identify principal components?"
   ]
  },
  {
   "cell_type": "code",
   "execution_count": null,
   "id": "a545f87f-c697-4f69-b0eb-61450fcbd99a",
   "metadata": {},
   "outputs": [],
   "source": [
    "PCA leverages the concept of variance to identify principal components through the following steps:\n",
    "\n",
    "Covariance Matrix: It starts by calculating the covariance matrix of the data.\n",
    "This matrix captures the relationships between features, indicating how much two features tend to vary together.\n",
    "\n",
    "Eigenvalue Decomposition: PCA performs eigenvalue decomposition on the covariance matrix.\n",
    "This mathematical operation reveals two key pieces of information:\n",
    "\n",
    "Eigenvectors: These represent the directions of greatest variance in the data. \n",
    "Imagine them as lines drawn through the high-dimensional data cloud, along which the data points are most spread out.\n",
    "\n",
    "Eigenvalues: These correspond to the magnitude of variance explained by each eigenvector.\n",
    "A higher eigenvalue signifies a direction with a larger spread of data points.\n",
    "\n",
    "Identifying Principal Components: PCA sorts the eigenvectors based on their corresponding eigenvalues,\n",
    "with the highest eigenvalue (most variance) getting ranked first. These top-ranked eigenvectors become the principal components. \n",
    "They represent the directions that capture the most significant spread (variance) in the data."
   ]
  },
  {
   "cell_type": "code",
   "execution_count": null,
   "id": "54354b62-7f96-49c7-b4c6-b12865f25f7d",
   "metadata": {},
   "outputs": [],
   "source": []
  },
  {
   "cell_type": "code",
   "execution_count": null,
   "id": "82f3d71a-b903-4590-a3d1-4b3c32862da0",
   "metadata": {},
   "outputs": [],
   "source": []
  }
 ],
 "metadata": {
  "kernelspec": {
   "display_name": "Python 3 (ipykernel)",
   "language": "python",
   "name": "python3"
  },
  "language_info": {
   "codemirror_mode": {
    "name": "ipython",
    "version": 3
   },
   "file_extension": ".py",
   "mimetype": "text/x-python",
   "name": "python",
   "nbconvert_exporter": "python",
   "pygments_lexer": "ipython3",
   "version": "3.10.8"
  }
 },
 "nbformat": 4,
 "nbformat_minor": 5
}
