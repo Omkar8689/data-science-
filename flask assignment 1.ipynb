{
 "cells": [
  {
   "cell_type": "markdown",
   "id": "548afb4b-a43b-402a-9e19-24253b4cb34e",
   "metadata": {},
   "source": [
    "Q1. What is Flask Framework? What are the advantages of Flask Framework?"
   ]
  },
  {
   "cell_type": "raw",
   "id": "63fc0a9c-7e90-44cc-ae3b-4bc5edc0f78f",
   "metadata": {},
   "source": [
    "Flask is a lightweight and popular web framework for Python. It is designed to be simple, flexible, and easy to use, making it an excellent choice for developing web applications and APIs. \n",
    "\n",
    "Advantages of Flask Framework:\n",
    "\n",
    "Lightweight: Flask is minimalistic and has a small codebase, which means it does not impose unnecessary overhead on your application. This makes it fast and efficient, particularly for small to medium-sized projects.\n",
    "\n",
    "Flexibility: Flask allows developers to choose the components they need, rather than providing a rigid structure. You can use different libraries and extensions based on your specific requirements, giving you more control over your project's architecture.\n",
    "\n",
    "Easy to Learn: Flask's simplicity and minimalism make it easy for beginners to learn and get started quickly. It has a straightforward API, making it a good choice for those new to web development.\n",
    "\n",
    "Extensibility: Flask provides a wide range of extensions to add additional functionality, such as database integration, authentication, and form validation. These extensions are well-documented and can significantly speed up the development process.\n",
    "\n",
    "Great for Prototyping: Due to its simplicity, Flask is an excellent choice for prototyping and building proof-of-concept applications. It allows developers to iterate quickly and test ideas without being encumbered by complex setup or boilerplate code.\n",
    "\n",
    "Large Community and Ecosystem: Flask has a large and active community, which means you can find plenty of tutorials, documentation, and third-party extensions. This vibrant ecosystem can help you solve problems and accelerate your development process.\n",
    "\n",
    "Compatibility: Flask works well with other Python libraries and tools, making it easy to integrate into your existing Python projects.\n"
   ]
  },
  {
   "cell_type": "code",
   "execution_count": null,
   "id": "b221e4f2-ae4c-4fa7-9615-d88abff69137",
   "metadata": {},
   "outputs": [],
   "source": []
  },
  {
   "cell_type": "markdown",
   "id": "71998fe3-e9c1-4700-aba4-8b5b3ccad66e",
   "metadata": {},
   "source": [
    "Q2. Create a simple Flask application to display ‘Hello World!!’. Attach the screenshot of the output in\n",
    "Jupyter Notebook."
   ]
  },
  {
   "cell_type": "code",
   "execution_count": null,
   "id": "8a5447ce-441c-4df3-92c8-2dae11429332",
   "metadata": {},
   "outputs": [],
   "source": [
    "from flask import Flask\n",
    "from flask import Request\n",
    "\n",
    "app = Flask(__name__)\n",
    "\n",
    "@app.route(\"/\")\n",
    "def hello_world():\n",
    "    return \"<h1>Hello World!</h1>\"\n",
    "\n",
    "    \n",
    "if __name__==\"__main__\":\n",
    "    app.run(host=\"0.0.0.0\")"
   ]
  },
  {
   "cell_type": "code",
   "execution_count": null,
   "id": "1c99c259-3d2e-4dee-8ea4-d061bd9ab31a",
   "metadata": {},
   "outputs": [],
   "source": []
  },
  {
   "cell_type": "raw",
   "id": "ccf46bab-d953-4062-9382-220a2434d638",
   "metadata": {},
   "source": [
    "Q3. What is App routing in Flask? Why do we use app routes?"
   ]
  },
  {
   "cell_type": "raw",
   "id": "13d074bd-f1da-4467-ba7a-f557a55361bc",
   "metadata": {},
   "source": [
    "In Flask, app routing refers to the process of defining URL routes and associating them with specific view functions. When a user makes an HTTP request to a particular URL, Flask uses the defined routes to determine which view function should handle the request and generate the appropriate response.\n",
    "\n",
    "Routes are the core building blocks of web applications in Flask, and they are defined using the @app.route decorator. The @app.route decorator specifies the URL pattern for which the view function should be invoked."
   ]
  },
  {
   "cell_type": "code",
   "execution_count": null,
   "id": "15f85108-5ec3-42f6-aff9-ee2f84b1575e",
   "metadata": {},
   "outputs": [],
   "source": []
  },
  {
   "cell_type": "raw",
   "id": "af576449-4b9c-4379-a0bb-e8cd3844efd3",
   "metadata": {},
   "source": [
    "Q4. Create a “/welcome” route to display the welcome message “Welcome to ABC Corporation” and a “/”\n",
    "route to show the following details:\n",
    "Company Name: ABC Corporation\n",
    "Location: India\n",
    "Contact Detail: 999-999-9999"
   ]
  },
  {
   "cell_type": "code",
   "execution_count": null,
   "id": "57762234-6744-49c0-9e7d-976a800a4a2f",
   "metadata": {},
   "outputs": [],
   "source": [
    "from flask import Flask\n",
    "from flask import Request\n",
    "\n",
    "app = Flask(__name__)\n",
    "\n",
    "@app.route(\"/welcome\")\n",
    "def Welcome():\n",
    "    return \"<h1>“Welcome to ABC Corporation”h1>\",\"<h1>“Company Name: ABC Corporation”h1>\",\n",
    "\"<h1>“Location: India”h1>\",\"<h1>“Contact Detail: 999-999-9999”h1>\"\n",
    "\n",
    "    \n",
    "if __name__==\"__main__\":\n",
    "    app.run(host=\"0.0.0.0\")"
   ]
  },
  {
   "cell_type": "code",
   "execution_count": null,
   "id": "310d30a6-a00e-4b0c-b5a6-a8754ff72157",
   "metadata": {},
   "outputs": [],
   "source": []
  },
  {
   "cell_type": "raw",
   "id": "163655dd-a16a-49c8-8c80-63fbc75272ce",
   "metadata": {},
   "source": [
    "Q4. Create a “/welcome” route to display the welcome message “Welcome to ABC Corporation” and a “/”\n",
    "route to show the following details:\n",
    "Company Name: ABC Corporation\n",
    "Location: India\n",
    "Contact Detail: 999-999-9999"
   ]
  },
  {
   "cell_type": "code",
   "execution_count": null,
   "id": "65848259-1ca2-4eb5-aab9-d1d0d1d153a7",
   "metadata": {},
   "outputs": [],
   "source": [
    "@app.route(\"/welcome\")\n",
    "def Welcome():\n",
    "    return \"<h1>“Welcome to ABC Corporation”h1>\",\"<h1>“Company Name: ABC Corporation”h1>\",\n",
    "    \"<h1>“Location: India”h1>\",\"<h1>“Contact Detail: 999-999-9999”h1>\""
   ]
  },
  {
   "cell_type": "code",
   "execution_count": null,
   "id": "03dc7b3a-8f12-447d-b51a-4567a2a803fa",
   "metadata": {},
   "outputs": [],
   "source": []
  },
  {
   "cell_type": "markdown",
   "id": "18d1dd40-a987-42e9-b210-6339b7985b46",
   "metadata": {},
   "source": [
    "Q5. What function is used in Flask for URL Building? Write a Python code to demonstrate the working of the\n",
    "url_for() function."
   ]
  },
  {
   "cell_type": "raw",
   "id": "d2ab3c6e-94e1-4349-a9d8-e615cb27a606",
   "metadata": {},
   "source": [
    "In Flask, the url_for() function is used for URL building. It allows you to generate URLs for specific routes defined in your application. Instead of hardcoding URLs in your templates or views, you can use url_for() to dynamically create URLs based on the route names.\n",
    "\n",
    "The url_for() function takes the name of the view function as an argument and returns the URL for that function. It is especially useful when you want to change the URL patterns in the future without having to update every occurrence of the URL manually."
   ]
  },
  {
   "cell_type": "code",
   "execution_count": null,
   "id": "3fc08313-4960-4b3b-90d0-1a9de9946aa6",
   "metadata": {},
   "outputs": [],
   "source": []
  }
 ],
 "metadata": {
  "kernelspec": {
   "display_name": "Python 3 (ipykernel)",
   "language": "python",
   "name": "python3"
  },
  "language_info": {
   "codemirror_mode": {
    "name": "ipython",
    "version": 3
   },
   "file_extension": ".py",
   "mimetype": "text/x-python",
   "name": "python",
   "nbconvert_exporter": "python",
   "pygments_lexer": "ipython3",
   "version": "3.10.8"
  }
 },
 "nbformat": 4,
 "nbformat_minor": 5
}
