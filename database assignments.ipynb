{
 "cells": [
  {
   "cell_type": "markdown",
   "id": "968e4aff-2693-45d0-9927-e3752e310111",
   "metadata": {},
   "source": [
    "Q1. What is a database? Differentiate between SQL and NoSQL databases."
   ]
  },
  {
   "cell_type": "raw",
   "id": "892c1d5f-4978-4c48-8f18-d997abb00b2a",
   "metadata": {},
   "source": [
    "A database is a structured collection of data that is organized \n",
    "and stored in a way that allows efficient retrieval,manipulation,\n",
    "and management of information. Databases are used to store and manage \n",
    "data for various applications,ranging from small personal projects to large-scale enterprise systems.\n",
    "\n",
    "Comparison of SQL vs NoSQL\n",
    "\n",
    "SQL\t                                                                        NoSQL\n",
    "Stands for Structured Query Language\t                             Stands for Not Only SQL\n",
    "Relational database management system (RDBMS)\t                     Non-relational database management system\n",
    "Examples: MySQL, PostgreSQL, Oracle, SQL Server, \n",
    "Microsoft SQL Server\t                                            Examples: MongoDB, Cassandra, Couchbase, Amazon "
   ]
  },
  {
   "cell_type": "code",
   "execution_count": null,
   "id": "225d180d-4034-4f34-9fcc-af2561c7077d",
   "metadata": {},
   "outputs": [],
   "source": []
  },
  {
   "cell_type": "raw",
   "id": "c94024e6-4870-45e5-8205-d138f0aa270c",
   "metadata": {},
   "source": [
    "Q2. What is DDL? Explain why CREATE, DROP, ALTER, and TRUNCATE are used with an example."
   ]
  },
  {
   "cell_type": "markdown",
   "id": "50a161a2-d63a-470f-be9c-d33bc5728bbd",
   "metadata": {},
   "source": [
    "DDL stands for Data Definition Language. It is a subset of SQL (Structured Query Language) \n",
    "that deals with defining and managing the structure of a database. DDL commands are used to\n",
    "create, modify, and delete database objects such as tables, indexes, views, and schemas.\n",
    "\n",
    "CREATE:\n",
    "The CREATE command is used to create new database objects, such as tables,\n",
    "indexes, or views. \n",
    "DROP:\n",
    "The DROP command is used to remove database objects from the database. \n",
    "ALTER:\n",
    "The ALTER command is used to modify the structure of an existing database object, \n",
    "such as adding or dropping columns from a table, modifying column definitions, or changing table constraints\n",
    "TRUNCATE:\n",
    "The TRUNCATE command is used to remove all the data from a table, but the table's structure remains intact. "
   ]
  },
  {
   "cell_type": "code",
   "execution_count": null,
   "id": "0bde7cb9-559c-4d8b-afe5-0e68a4453e98",
   "metadata": {},
   "outputs": [],
   "source": [
    "#create\n",
    "CREATE TABLE employees (\n",
    "    emp_name VARCHAR(50),\n",
    "    emp_salary DECIMAL(10, 2),\n",
    "    emp_dept VARCHAR(30)\n",
    ");\n",
    "#Drop\n",
    "DROP TABLE employees;\n",
    "\n",
    "#alter\n",
    "ALTER TABLE employees\n",
    "ADD emp_email VARCHAR(100);\n",
    "\n",
    "#truncate\n",
    "TRUNCATE TABLE employees;\n"
   ]
  },
  {
   "cell_type": "raw",
   "id": "d21e77e3-0b44-4084-9775-f1aef2511c6f",
   "metadata": {},
   "source": [
    "Q3. What is DML? Explain INSERT, UPDATE, and DELETE with an example."
   ]
  },
  {
   "cell_type": "raw",
   "id": "02cef6fb-d7dd-4601-aed4-1e1923b04df0",
   "metadata": {},
   "source": [
    "DML stands for Data Manipulation Language. It is a subset of SQL (Structured Query Language)\n",
    "used to interact with the data stored in a database. DML commands are responsible \n",
    "for inserting, updating, and deleting data within the database tables.\n",
    "INSERT-Used to insert the data in the table\n",
    "UPDATE-Used to update the values in the table\n",
    "DELETE-Used to delete the values in the tables\n"
   ]
  },
  {
   "cell_type": "code",
   "execution_count": null,
   "id": "041e5586-21c5-4554-9f35-d211b35ac643",
   "metadata": {},
   "outputs": [],
   "source": []
  },
  {
   "cell_type": "raw",
   "id": "19f33d79-dd7c-4956-83ce-2d07a7c76848",
   "metadata": {},
   "source": [
    "Q4. What is DQL? Explain SELECT with an example."
   ]
  },
  {
   "cell_type": "raw",
   "id": "e8d6be33-fb46-400b-9a03-e6d4d856ab0f",
   "metadata": {},
   "source": [
    "DQL stands for Data Query Language. It is a subset of SQL (Structured Query Language) \n",
    "that is used to retrieve and query data from a database. \n",
    "\n",
    "Consider a table named \"students\" that stores information about students:\n",
    "\n"
   ]
  },
  {
   "cell_type": "markdown",
   "id": "c6215c63-743c-4649-9bac-209666621b57",
   "metadata": {},
   "source": [
    "Consider a table named \"students\" that stores information about students:\n",
    "\n",
    "student_id\tstudent_name\t   age\t        grade\n",
    "1\t             RAM            20         \t   A\n",
    "2\t             RAJ      \t    26      \t   B\n",
    "3\t             SHUSHUBHAM \t21\t           A\n",
    "\n"
   ]
  },
  {
   "cell_type": "code",
   "execution_count": null,
   "id": "89229fb9-788a-46e8-928d-0a5b0b679f23",
   "metadata": {},
   "outputs": [],
   "source": [
    "\n",
    "SELECT * FROM students;"
   ]
  },
  {
   "cell_type": "code",
   "execution_count": null,
   "id": "99e128b5-8306-4cc1-afba-677efed781e9",
   "metadata": {},
   "outputs": [],
   "source": []
  },
  {
   "cell_type": "markdown",
   "id": "351210e1-1225-40cb-8c03-26fd18aa1e33",
   "metadata": {},
   "source": [
    "Q5. Explain Primary Key and Foreign Key."
   ]
  },
  {
   "cell_type": "markdown",
   "id": "d67ea291-770e-41ec-8aa3-edd47ad38a07",
   "metadata": {},
   "source": [
    "Primary Key:\n",
    "A Primary Key is a unique identifier for each row in a table.\n",
    "It ensures that each record in the table can be uniquely identified and distinguishes it from all other records.\n",
    "A primary key constraint helps maintain data integrity by preventing \n",
    "duplicate and null values in the column(s) that compose the primary key.\n",
    "\n",
    "Foreign Key:\n",
    "A Foreign Key is a column or a set of columns in a table that refers to the Primary Key of another table.\n",
    "It establishes a relationship between two tables, enforcing referential integrity and maintaining consistency in the data.\n",
    "The foreign key constraint ensures that values in the foreign key column(s) of one table must exist \n",
    "in the referenced primary key column(s) of another table or be NULL."
   ]
  },
  {
   "cell_type": "code",
   "execution_count": null,
   "id": "874ba7f0-4cdc-497c-8bc5-d60e60593f8a",
   "metadata": {},
   "outputs": [],
   "source": []
  },
  {
   "cell_type": "raw",
   "id": "78215453-58d8-45b8-bf2e-a1e3014eada4",
   "metadata": {},
   "source": [
    "Q6. Write a python code to connect MySQL to python. Explain the cursor() and execute() method."
   ]
  }
 ],
 "metadata": {
  "kernelspec": {
   "display_name": "Python 3 (ipykernel)",
   "language": "python",
   "name": "python3"
  },
  "language_info": {
   "codemirror_mode": {
    "name": "ipython",
    "version": 3
   },
   "file_extension": ".py",
   "mimetype": "text/x-python",
   "name": "python",
   "nbconvert_exporter": "python",
   "pygments_lexer": "ipython3",
   "version": "3.10.8"
  }
 },
 "nbformat": 4,
 "nbformat_minor": 5
}
