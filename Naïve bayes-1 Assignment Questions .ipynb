{
 "cells": [
  {
   "cell_type": "code",
   "execution_count": null,
   "id": "be8f0765-8f67-45f1-aff7-971e00cbcd47",
   "metadata": {},
   "outputs": [],
   "source": []
  },
  {
   "cell_type": "code",
   "execution_count": null,
   "id": "8ec4d96c-302d-4917-9436-294db2c8ae7a",
   "metadata": {},
   "outputs": [],
   "source": [
    "Q1. What is Bayes' theorem?"
   ]
  },
  {
   "cell_type": "code",
   "execution_count": null,
   "id": "61ed2cfa-98a0-4868-91d8-e8236a07cbd3",
   "metadata": {},
   "outputs": [],
   "source": [
    "Bayes' theorem is a fundamental principle in probability theory that allows you to calculate the posterior probability,\n",
    "which is the probability of an event (hypothesis) being true given that some other related event (evidence) has already occurred. \n",
    "It essentially helps you update your beliefs about a hypothesis based on new evidence."
   ]
  },
  {
   "cell_type": "code",
   "execution_count": null,
   "id": "4999d0d0-9bfd-4a64-816c-827c78a4c788",
   "metadata": {},
   "outputs": [],
   "source": []
  },
  {
   "cell_type": "code",
   "execution_count": null,
   "id": "3f1b9e96-ecbe-4eba-a6c2-5e218a8329a7",
   "metadata": {},
   "outputs": [],
   "source": [
    "\n",
    "Q2. What is the formula for Bayes' theorem?"
   ]
  },
  {
   "cell_type": "code",
   "execution_count": null,
   "id": "e0003422-5c30-4d13-84a7-3188db99ffc7",
   "metadata": {},
   "outputs": [],
   "source": [
    "The formula for Bayes' theorem is:\n",
    "\n",
    "P(A | B) = (P(B | A) * P(A)) / P(B)\n",
    "where:\n",
    "\n",
    "P(A | B) - Posterior probability: The probability of event A occurring given that event B has already occurred.\n",
    "P(B | A) - Likelihood: The probability of event B occurring given that event A is true.\n",
    "P(A) - Prior probability: The initial probability of event A occurring before considering any evidence (assumed equal in Q6).\n",
    "P(B) - Marginal probability: The probability of event B occurring regardless of A."
   ]
  },
  {
   "cell_type": "code",
   "execution_count": null,
   "id": "ecc02347-aede-4066-91c1-8ae194165a7e",
   "metadata": {},
   "outputs": [],
   "source": []
  },
  {
   "cell_type": "code",
   "execution_count": null,
   "id": "ec246ef4-df84-4da3-a654-f00e4b02cf58",
   "metadata": {},
   "outputs": [],
   "source": [
    "Q3. How is Bayes' theorem used in practice?"
   ]
  },
  {
   "cell_type": "code",
   "execution_count": null,
   "id": "70944534-edca-4df1-9e9b-6667d1e63629",
   "metadata": {},
   "outputs": [],
   "source": [
    "Bayes' theorem has a wide range of applications in various fields, including:\n",
    "\n",
    "Machine learning: Used in spam filtering, medical diagnosis, sentiment analysis, and recommender systems.\n",
    "Data science: Employed in risk assessment, fraud detection, and anomaly detection.\n",
    "Scientific research: Utilized in hypothesis testing and updating beliefs based on new evidence.\n",
    "Finance: Applied in portfolio optimization and credit risk analysis."
   ]
  },
  {
   "cell_type": "code",
   "execution_count": null,
   "id": "8c52d3c3-2bf5-4675-a97c-73106217d337",
   "metadata": {},
   "outputs": [],
   "source": []
  },
  {
   "cell_type": "code",
   "execution_count": null,
   "id": "e84ce220-e23a-44ef-917e-456f9481b73a",
   "metadata": {},
   "outputs": [],
   "source": [
    "Q4. What is the relationship between Bayes' theorem and conditional probability?"
   ]
  },
  {
   "cell_type": "code",
   "execution_count": null,
   "id": "c42c26c7-6313-4165-975e-7d51ff70d0a3",
   "metadata": {},
   "outputs": [],
   "source": [
    "Bayes' theorem deals specifically with conditional probability, which is the probability of one event occurring given that\n",
    "another event has already happened. The formula explicitly calculates the probability of A given B,\n",
    "using the likelihood (P(B | A)) and the prior probability (P(A))."
   ]
  },
  {
   "cell_type": "code",
   "execution_count": null,
   "id": "d1497f0c-fe31-43f5-866d-003f5f435155",
   "metadata": {},
   "outputs": [],
   "source": []
  },
  {
   "cell_type": "code",
   "execution_count": null,
   "id": "38affa08-2e67-4194-8dcb-dfa93f826ebf",
   "metadata": {},
   "outputs": [],
   "source": [
    "\n",
    "Q5. How do you choose which type of Naive Bayes classifier to use for any given problem?"
   ]
  },
  {
   "cell_type": "code",
   "execution_count": null,
   "id": "8151d245-abdb-4fb1-89bf-ae5bb9c24ea7",
   "metadata": {},
   "outputs": [],
   "source": [
    "Naive Bayes classifiers are a family of algorithms based on the assumption of conditional independence between features (attributes)\n",
    "given the class label. The choice of type depends on the nature of your data:\n",
    "\n",
    "Multinomial Naive Bayes: Used for discrete features with a fixed number of possible values (e.g., word counts in documents).\n",
    "Bernoulli Naive Bayes: Applicable for binary features (yes/no, true/false).\n",
    "Gaussian Naive Bayes: Suitable for continuous features that are assumed to follow a Gaussian (normal) distribution."
   ]
  },
  {
   "cell_type": "code",
   "execution_count": null,
   "id": "dfabf036-336f-4ea6-8a91-d9607b725fab",
   "metadata": {},
   "outputs": [],
   "source": []
  },
  {
   "cell_type": "code",
   "execution_count": null,
   "id": "001f434b-fa89-4b40-b683-b36075f633df",
   "metadata": {},
   "outputs": [],
   "source": [
    "\n",
    "Q6. Assignment:\n",
    "You have a dataset with two features, X1 and X2, and two possible classes, A and B. You want to use Naive\n",
    "Bayes to classify a new instance with features X1 = 3 and X2 = 4. The following table shows the frequency of\n",
    "each feature value for each class:\n",
    "Class X1=1 X1=2 X1=3 X2=1 X2=2 X2=3 X2=4\n",
    "A 3 3 4 4 3 3 3\n",
    "B 2 2 1 2 2 2 3\n",
    "Assuming equal prior probabilities for each class, which class would Naive Bayes predict the new instance\n",
    "to belong to?"
   ]
  },
  {
   "cell_type": "code",
   "execution_count": null,
   "id": "ba702100-65eb-41e9-a182-3a7f28c2e91c",
   "metadata": {},
   "outputs": [],
   "source": [
    "P(A | X1=3, X2=4) = (Frequency of (X1=3, X2=4) in class A) / Total observations in class A (17)\n",
    "P(B | X1=3, X2=4) = (Frequency of (X1=3, X2=4) in class B) / Total observations in class B (12)\n",
    "Based on the frequencies, both P(X1=3, X2=4 | A) and P(X1=3, X2=4 | B) will likely be very small values (3 for class A and 1 for class B, divided by their respective total observations).\n",
    "\n",
    "Calculate Marginal Probability (Missing Information):\n",
    "\n",
    "The problem doesn't provide the total number of observations. We need this value (let's call it N) to calculate the marginal probability:\n",
    "\n",
    "P(X1=3, X2=4) = (Frequency of (X1=3, X2=4) in class A) + (Frequency of (X1=3, X2=4) in class B) / N\n",
    "Without N, we cannot determine the exact marginal probability.\n",
    "\n",
    "Compare Posterior Probabilities (Limited Comparison Possible):\n",
    "\n",
    "Due to missing information, a definitive comparison of posterior probabilities (P(A | X1=3, X2=4) and P(B | X1=3, X2=4)) is not possible.\n",
    "\n",
    "However, we can infer that since both class conditional probabilities for X1=3 and X2=4 are likely very small, the final outcome (which class the classifier predicts) will depend on the ratio of the prior probabilities (P(A) and P(B)) assumed in the Naive Bayes model.\n",
    "\n",
    "If the prior probabilities are equal (P(A) = P(B) = 0.5):\n",
    "\n",
    "In this case, the class with a slightly higher class conditional probability (considering the frequencies) might be favored. But the difference would likely be negligible due to the very small values.\n",
    "If the prior probabilities are not equal:\n",
    "\n",
    "The class with the higher prior probability would likely be favored, regardless of the small class conditional probabilities for X1=3 and X2=4.\n",
    "Conclusion:\n",
    "\n",
    "Without the total number of observations (N) and potentially unequal prior probabilities, a definitive answer on which class the Naive Bayes classifier would predict cannot be determined from the given information."
   ]
  }
 ],
 "metadata": {
  "kernelspec": {
   "display_name": "Python 3 (ipykernel)",
   "language": "python",
   "name": "python3"
  },
  "language_info": {
   "codemirror_mode": {
    "name": "ipython",
    "version": 3
   },
   "file_extension": ".py",
   "mimetype": "text/x-python",
   "name": "python",
   "nbconvert_exporter": "python",
   "pygments_lexer": "ipython3",
   "version": "3.10.8"
  }
 },
 "nbformat": 4,
 "nbformat_minor": 5
}
