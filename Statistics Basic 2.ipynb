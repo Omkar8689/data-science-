{
 "cells": [
  {
   "cell_type": "raw",
   "id": "7365a4ba-a605-40d8-98f5-72714dd5610e",
   "metadata": {},
   "source": [
    "Q1. What are the three measures of central tendency?"
   ]
  },
  {
   "cell_type": "raw",
   "id": "3f84a2f0-d975-4d3e-9a3a-5b19c6aa6303",
   "metadata": {},
   "source": [
    "1.mean \n",
    "2.mode\n",
    "3.median"
   ]
  },
  {
   "cell_type": "markdown",
   "id": "e4925cea-713b-48ef-b611-9290680294a0",
   "metadata": {},
   "source": [
    "Q2. What is the difference between the mean, median, and mode? How are they used to measure the\n",
    "central tendency of a dataset?"
   ]
  },
  {
   "cell_type": "raw",
   "id": "c9b390eb-473b-498e-9d84-e5af3f89d535",
   "metadata": {},
   "source": [
    "The difference between mean, median and mode are: Mean is the average value of the given observations. Median is the middle value of the given observations. Mode is the most repeated value in the given observation."
   ]
  },
  {
   "cell_type": "code",
   "execution_count": null,
   "id": "2ba0010c-17ce-4934-909b-815e20b941e6",
   "metadata": {},
   "outputs": [],
   "source": []
  },
  {
   "cell_type": "raw",
   "id": "9c754c80-952a-4ae5-8278-72f91dcd3c24",
   "metadata": {},
   "source": [
    "Q3. Measure the three measures of central tendency for the given height data:\n",
    "[178,177,176,177,178.2,178,175,179,180,175,178.9,176.2,177,172.5,178,176.5]"
   ]
  },
  {
   "cell_type": "code",
   "execution_count": 2,
   "id": "86455e1a-8ab7-4338-87af-6134d67a35e2",
   "metadata": {},
   "outputs": [],
   "source": [
    "import numpy as np\n",
    "from scipy import stats\n",
    "l=[178,177,176,177,178.2,178,175,179,180,175,178.9,176.2,177,172.5,178,176.5]"
   ]
  },
  {
   "cell_type": "code",
   "execution_count": 3,
   "id": "5b84ba72-5121-4ee9-b891-a1cc5933af11",
   "metadata": {},
   "outputs": [],
   "source": [
    "a=np.mean(l)"
   ]
  },
  {
   "cell_type": "code",
   "execution_count": 4,
   "id": "b70e1ed2-e6f0-45db-866c-4472d3c16279",
   "metadata": {},
   "outputs": [
    {
     "data": {
      "text/plain": [
       "177.01875"
      ]
     },
     "execution_count": 4,
     "metadata": {},
     "output_type": "execute_result"
    }
   ],
   "source": [
    "a"
   ]
  },
  {
   "cell_type": "code",
   "execution_count": 5,
   "id": "0c7f3e1b-c44a-44f5-9881-38f8ef39ee08",
   "metadata": {},
   "outputs": [],
   "source": [
    "b=np.median(l)"
   ]
  },
  {
   "cell_type": "code",
   "execution_count": 6,
   "id": "e349fb34-ea5a-4ceb-aa31-fbc783ef4c85",
   "metadata": {},
   "outputs": [
    {
     "data": {
      "text/plain": [
       "177.0"
      ]
     },
     "execution_count": 6,
     "metadata": {},
     "output_type": "execute_result"
    }
   ],
   "source": [
    "b"
   ]
  },
  {
   "cell_type": "code",
   "execution_count": 7,
   "id": "03cd5c50-b677-4c19-8653-3d4b1c1d2608",
   "metadata": {},
   "outputs": [
    {
     "name": "stderr",
     "output_type": "stream",
     "text": [
      "/tmp/ipykernel_84/1167753241.py:1: FutureWarning: Unlike other reduction functions (e.g. `skew`, `kurtosis`), the default behavior of `mode` typically preserves the axis it acts along. In SciPy 1.11.0, this behavior will change: the default value of `keepdims` will become False, the `axis` over which the statistic is taken will be eliminated, and the value None will no longer be accepted. Set `keepdims` to True or False to avoid this warning.\n",
      "  c=stats.mode(l)\n"
     ]
    }
   ],
   "source": [
    "c=stats.mode(l)"
   ]
  },
  {
   "cell_type": "code",
   "execution_count": 8,
   "id": "125f26da-fcad-4de6-b83d-01d9bafbfbb7",
   "metadata": {},
   "outputs": [
    {
     "data": {
      "text/plain": [
       "ModeResult(mode=array([177.]), count=array([3]))"
      ]
     },
     "execution_count": 8,
     "metadata": {},
     "output_type": "execute_result"
    }
   ],
   "source": [
    "c"
   ]
  },
  {
   "cell_type": "code",
   "execution_count": 9,
   "id": "15c1bbe3-4199-49d4-9161-a79234a833ac",
   "metadata": {},
   "outputs": [],
   "source": [
    "#Q4. Find the standard deviation for the given data:\n",
    "a=[178,177,176,177,178.2,178,175,179,180,175,178.9,176.2,177,172.5,178,176.5]"
   ]
  },
  {
   "cell_type": "code",
   "execution_count": 11,
   "id": "4a015409-2217-4f14-b130-3a7907722a84",
   "metadata": {},
   "outputs": [
    {
     "data": {
      "text/plain": [
       "1.7885814036548633"
      ]
     },
     "execution_count": 11,
     "metadata": {},
     "output_type": "execute_result"
    }
   ],
   "source": [
    "np.std(a)"
   ]
  },
  {
   "cell_type": "code",
   "execution_count": null,
   "id": "060e869f-e512-4eb4-8715-174f889fae3a",
   "metadata": {},
   "outputs": [],
   "source": []
  },
  {
   "cell_type": "raw",
   "id": "10f20724-9149-49a8-8b76-538075f7edbc",
   "metadata": {},
   "source": [
    "Q5. How are measures of dispersion such as range, variance, and standard deviation used to describe\n",
    "the spread of a dataset? Provide an example."
   ]
  },
  {
   "cell_type": "raw",
   "id": "9faecfd1-33ed-47f1-8315-be04164b13aa",
   "metadata": {},
   "source": [
    "Measures of dispersion, including range, variance, and standard deviation, are used to describe the spread or variability within a dataset. They provide valuable insights into how data points are distributed and how they deviate from the central tendency (mean, median) of the dataset. Here's an explanation of each measure of dispersion and an example:\n",
    "\n",
    "Range:\n",
    "\n",
    "Range is the simplest measure of dispersion and represents the difference between the maximum and minimum values in a dataset.\n",
    "It provides an overview of the spread of data but can be influenced by extreme outliers.\n",
    "Example:\n",
    "Suppose you have a dataset of exam scores for a class:\n",
    "Scores = [75, 82, 88, 92, 63, 97, 54]\n",
    "The range is calculated as:\n",
    "Range = Max(Scores) - Min(Scores) = 97 - 54 = 43\n",
    "\n",
    "Variance:\n",
    "\n",
    "Variance measures how much individual data points deviate from the mean of the dataset.\n",
    "It considers the squared differences between each data point and the mean and then calculates their average.\n",
    "Example:\n",
    "Continuing with the exam scores dataset, calculate the variance:\n",
    "Scores = [75, 82, 88, 92, 63, 97, 54]\n",
    "Mean = (75 + 82 + 88 + 92 + 63 + 97 + 54) / 7 ≈ 79.71\n",
    "Variance = [(75 - 79.71)^2 + (82 - 79.71)^2 + ... + (54 - 79.71)^2] / 7 ≈ 213.33\n",
    "\n",
    "Standard Deviation:\n",
    "\n",
    "The standard deviation is the square root of the variance. It measures the average amount of variation or dispersion in a dataset.\n",
    "It's a more interpretable measure than variance because it's in the same units as the original data.\n",
    "Example:\n",
    "Continuing with the exam scores dataset, calculate the standard deviation:\n",
    "Standard Deviation = sqrt(Variance) ≈ sqrt(213.33) ≈ 14.61\n",
    "\n",
    "In this example, the range tells you the span of scores, the variance quantifies the average squared deviation from the mean, and the standard deviation provides a more interpretable measure of the average deviation from the mean."
   ]
  },
  {
   "cell_type": "code",
   "execution_count": null,
   "id": "dc7a0913-a011-468e-93cc-b047508d110f",
   "metadata": {},
   "outputs": [],
   "source": []
  },
  {
   "cell_type": "raw",
   "id": "7943e3fc-97ce-4898-85eb-5e4992d36995",
   "metadata": {},
   "source": [
    "Q6. What is a Venn diagram?"
   ]
  },
  {
   "cell_type": "raw",
   "id": "0f6323bf-e916-4d7f-b637-268f68fc6832",
   "metadata": {},
   "source": [
    "A Venn diagram is a graphical representation used to show the relationships and commonalities between different sets or groups of items. It consists of overlapping circles, each representing a set, with the overlap indicating the elements that belong to more than one set. Venn diagrams are commonly used in mathematics, logic, statistics, and various fields to visualize set operations and understand the intersections and differences between sets."
   ]
  },
  {
   "cell_type": "code",
   "execution_count": null,
   "id": "2993a396-9811-4ce6-a0b2-475fc442b50a",
   "metadata": {},
   "outputs": [],
   "source": []
  },
  {
   "cell_type": "code",
   "execution_count": null,
   "id": "4563f958-7719-4a09-914e-4584f4d74c7a",
   "metadata": {},
   "outputs": [],
   "source": [
    "Q7. For the two given sets A = (2,3,4,5,6,7) & B = (0,2,6,8,10). Find:\n",
    "(i) A intersection B\n",
    "(ii) A ⋃ B"
   ]
  },
  {
   "cell_type": "code",
   "execution_count": 16,
   "id": "af29fbb3-8450-47a3-8722-aa87bcbdd22f",
   "metadata": {},
   "outputs": [
    {
     "data": {
      "text/plain": [
       "array([ 0,  2,  3,  4,  5,  6,  7,  8, 10])"
      ]
     },
     "execution_count": 16,
     "metadata": {},
     "output_type": "execute_result"
    }
   ],
   "source": [
    "A = (2,3,4,5,6,7) \n",
    "B = (0,2,6,8,10)\n",
    "np.union1d(A,B) "
   ]
  },
  {
   "cell_type": "code",
   "execution_count": 17,
   "id": "e66c3f79-9053-4766-b9b4-408d0a45e857",
   "metadata": {},
   "outputs": [
    {
     "data": {
      "text/plain": [
       "array([2, 6])"
      ]
     },
     "execution_count": 17,
     "metadata": {},
     "output_type": "execute_result"
    }
   ],
   "source": [
    "np.intersect1d(A,B)"
   ]
  },
  {
   "cell_type": "code",
   "execution_count": null,
   "id": "97a44d62-6bb0-4b3c-aada-784be9b6d389",
   "metadata": {},
   "outputs": [],
   "source": []
  },
  {
   "cell_type": "raw",
   "id": "aa5dfc7f-fa36-4874-af24-aafbdd1fc4d2",
   "metadata": {},
   "source": [
    "Q8. What do you understand about skewness in data?"
   ]
  },
  {
   "cell_type": "raw",
   "id": "5d39004d-98db-4a27-bcc5-44ba008b94c2",
   "metadata": {},
   "source": [
    "Skewness is a measure of asymmetry or distortion of symmetric distribution. It measures the deviation of the given distribution of a random variable from a symmetric distribution, such as normal distribution. A normal distribution is without any skewness, as it is symmetrical on both sides. Hence, a curve is regarded as skewed if it is shifted towards the right or the left.\n",
    "\n",
    "Skewness measures the deviation of a random variable’s given distribution from the normal distribution, which is symmetrical on both sides.\n",
    "A given distribution can be either be skewed to the left or the right. Skewness risk occurs when a symmetric distribution is applied to the skewed data.\n",
    "Investors take note of skewness while assessing investments’ return distribution since extreme data points are also considered."
   ]
  },
  {
   "cell_type": "code",
   "execution_count": null,
   "id": "93b4f46b-093c-471a-9eb3-0ea339491cb2",
   "metadata": {},
   "outputs": [],
   "source": []
  },
  {
   "cell_type": "raw",
   "id": "987f3a32-1384-4472-8279-211cfac6d21c",
   "metadata": {},
   "source": [
    "Q9. If a data is right skewed then what will be the position of median with respect to mean?"
   ]
  },
  {
   "cell_type": "raw",
   "id": "b558e53b-467d-41f8-befb-20d0259314bb",
   "metadata": {},
   "source": [
    "If the distribution of data is skewed to the right, the mode is often less than the median, which is less than the mean. Skewness and symmetry become important when we discuss probability distributions in later chapters"
   ]
  },
  {
   "cell_type": "code",
   "execution_count": null,
   "id": "aa4718d5-6978-4eea-a7bc-99569ed47921",
   "metadata": {},
   "outputs": [],
   "source": []
  },
  {
   "cell_type": "code",
   "execution_count": null,
   "id": "d64589c0-1a94-4abe-9822-2fd2eae0e2d3",
   "metadata": {},
   "outputs": [],
   "source": [
    "Q10. Explain the difference between covariance and correlation. How are these measures used in\n",
    "statistical analysis?"
   ]
  },
  {
   "cell_type": "markdown",
   "id": "8c287a0f-66cb-4a23-b69b-13757f1d493d",
   "metadata": {},
   "source": [
    "\n",
    "Covariance is a measure to indicate the extent to which two random variables change in tandem.\t\n",
    "Covariance is nothing but a measure of correlation.\n",
    "Covariance indicates the direction of the linear relationship between variables.\t\n",
    "\n",
    "Correlation is a measure used to represent how strongly two random variables are related to each other.\n",
    "Correlation refers to the scaled form of covariance.\n",
    "Correlation on the other hand measures both the strength and direction of the linear relationship between two variables.\n"
   ]
  },
  {
   "cell_type": "code",
   "execution_count": null,
   "id": "870eae44-1240-4ad0-8803-314a7c7edd41",
   "metadata": {},
   "outputs": [],
   "source": []
  },
  {
   "cell_type": "code",
   "execution_count": null,
   "id": "dd646a59-7ad9-454b-a958-33165ef7a992",
   "metadata": {},
   "outputs": [],
   "source": [
    "Q11. What is the formula for calculating the sample mean? Provide an example calculation for a\n",
    "dataset."
   ]
  },
  {
   "cell_type": "raw",
   "id": "2d994d1d-4f23-4718-97fc-053ce8fe4996",
   "metadata": {},
   "source": [
    "The formula for calculating the sample mean is as follows-\n",
    "         \n",
    "mean=  elements sumation xi/n"
   ]
  },
  {
   "cell_type": "code",
   "execution_count": null,
   "id": "7a5e467d-1836-4c05-bcbb-525a4aae5739",
   "metadata": {},
   "outputs": [],
   "source": []
  },
  {
   "cell_type": "code",
   "execution_count": null,
   "id": "c6994d1e-630c-453d-b037-fa0fdb03856b",
   "metadata": {},
   "outputs": [],
   "source": [
    "Q12. For a normal distribution data what is the relationship between its measure of central tendency?"
   ]
  },
  {
   "cell_type": "raw",
   "id": "519d2f90-7ac5-4462-b23f-698d96eeff51",
   "metadata": {},
   "source": [
    "\n",
    "In a normal distribution, which is also known as a Gaussian distribution or a bell curve, there is a specific relationship between its measures of central tendency, namely the mean, median, and mode. Here's what you can expect:\n",
    "\n",
    "Mean (μ): The mean of a normal distribution is equal to its median, and it is also equal to its mode. In other words, in a perfectly symmetrical normal distribution, the mean is located at the center of the distribution, and it is the point of highest probability.\n",
    "\n",
    "Median: The median is also equal to the mean in a normal distribution. This is because the normal distribution is symmetric, and the median is the middle value that divides the distribution into two equal halves.\n",
    "\n",
    "Mode: The mode of a normal distribution is also equal to the mean and median. In a normal distribution, there is only one mode, which corresponds to the peak of the distribution. This is why the mode is the same as the mean and median in a perfectly normal distribution."
   ]
  },
  {
   "cell_type": "code",
   "execution_count": null,
   "id": "5e7ab02c-c17c-4178-921a-457dc047d6f9",
   "metadata": {},
   "outputs": [],
   "source": []
  },
  {
   "cell_type": "code",
   "execution_count": null,
   "id": "93e5285a-c86f-4df9-9991-04bd0c07e20b",
   "metadata": {},
   "outputs": [],
   "source": [
    "Q13. How is covariance different from correlation?"
   ]
  },
  {
   "cell_type": "raw",
   "id": "41769ac6-afb6-4a96-a198-3b191eaf9211",
   "metadata": {},
   "source": [
    "Covariance:\n",
    "Definition: Covariance measures the degree to which two variables change together. It indicates whether an increase in one variable corresponds to an increase or decrease in another.\n",
    "Scale: Covariance can take on any value, positive or negative.\n",
    "\n",
    "Correlation:\n",
    "\n",
    "Definition: Correlation, specifically Pearson's correlation coefficien measures the strength and direction of the linear relationship between two variables. It provides a standardized measure of how closely the data points cluster around a straight line.\n",
    "Scale: Correlation coefficients range from -1 to 1. A correlation of 1 indicates a perfect positive linear relationship, -1 indicates a perfect negative linear relationship, and 0 indicates no linear relationship"
   ]
  },
  {
   "cell_type": "code",
   "execution_count": null,
   "id": "f855f3eb-e5ce-4a9d-838d-eea656687d4d",
   "metadata": {},
   "outputs": [],
   "source": []
  },
  {
   "cell_type": "raw",
   "id": "f83b272d-f9fe-488f-a993-4c86c6863aa7",
   "metadata": {},
   "source": [
    "Q14. How do outliers affect measures of central tendency and dispersion? Provide an example."
   ]
  },
  {
   "cell_type": "raw",
   "id": "eb2dcaaf-00aa-4ccb-a6cb-fad426a0c119",
   "metadata": {},
   "source": [
    "The outliers affec thet measures of central tendency as follows-\n",
    "\n",
    "Mean=Outliers affect the mean mostly.If the outlier is big then it affects on the mean as we have to take it in the count.The original mean and the outliers mean have the big differences,which is not good for using the machine learning model.\n",
    "\n",
    "median-In median the outliers does not make any big problem as we take median by choosing the mid value.But if the outliers come in mid it may create the problem.\n",
    "\n",
    "Mode-Mode is calculated on the basis highest frequency of the data in dataset.If the outliers are in large numbers then they will be selected as the mode.And by this the mode will be affected."
   ]
  }
 ],
 "metadata": {
  "kernelspec": {
   "display_name": "Python 3 (ipykernel)",
   "language": "python",
   "name": "python3"
  },
  "language_info": {
   "codemirror_mode": {
    "name": "ipython",
    "version": 3
   },
   "file_extension": ".py",
   "mimetype": "text/x-python",
   "name": "python",
   "nbconvert_exporter": "python",
   "pygments_lexer": "ipython3",
   "version": "3.10.8"
  }
 },
 "nbformat": 4,
 "nbformat_minor": 5
}
