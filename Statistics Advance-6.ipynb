{
 "cells": [
  {
   "cell_type": "raw",
   "id": "d168df08-4c2f-4cd8-ba40-4d1f31b60caa",
   "metadata": {},
   "source": [
    "Q1. Explain the assumptions required to use ANOVA and provide examples of violations that could impact\n",
    "the validity of the results."
   ]
  },
  {
   "cell_type": "raw",
   "id": "f3546702-bfed-4ad1-83d4-69344158d437",
   "metadata": {},
   "source": [
    "To use the ANOVA test we made the following assumptions:\n",
    "\n",
    "Each group sample is drawn from a normally distributed population\n",
    "All populations have a common variance\n",
    "All samples are drawn independently of each other\n",
    "Within each sample, the observations are sampled randomly and independently of each other\n",
    "Factor effects are additive"
   ]
  },
  {
   "cell_type": "code",
   "execution_count": null,
   "id": "f1986104-0acc-4418-99dc-f02a555a5173",
   "metadata": {},
   "outputs": [],
   "source": []
  },
  {
   "cell_type": "raw",
   "id": "34ba43e3-2ac2-4237-8b6f-3700314c8214",
   "metadata": {},
   "source": [
    "Q2. What are the three types of ANOVA, and in what situations would each be used?"
   ]
  },
  {
   "cell_type": "raw",
   "id": "695506c7-a16e-4fd5-94b0-0b7eec20eb8d",
   "metadata": {},
   "source": [
    " There are several types of ANOVA, but the three main types are:\n",
    "\n",
    "One-Way ANOVA:\n",
    "One-Way ANOVA is used when you have one categorical independent variable with more than two levels or groups.\n",
    "It is used to determine whether there are statistically significant differences among the means of these groups.\n",
    "Common situations for using One-Way ANOVA include comparing the performance of different groups or treatments in experiments, such as comparing the effectiveness of different drug dosages on a medical condition.\n",
    "\n",
    "Two-Way ANOVA:\n",
    "Two-Way ANOVA is an extension of One-Way ANOVA and is used when you have two categorical independent variables (factors).\n",
    "It helps to assess the impact of each independent variable on the dependent variable and whether there is an interaction effect between the two factors.\n",
    "Two-Way ANOVA can be used in various situations, such as analyzing the influence of both gender and age on exam scores, or testing the effects of different types of fertilizer and irrigation methods on crop yields.\n",
    "\n",
    "Repeated Measures ANOVA:\n",
    "Repeated Measures ANOVA is employed when you have a within-subject design, where the same subjects are tested under different conditions or at multiple time points.\n",
    "It is used to assess the effect of a single independent variable (within-subject factor) on a dependent variable.\n",
    "Common applications of Repeated Measures ANOVA include analyzing the impact of a treatment on participants' performance, where each participant is tested before and after the treatment."
   ]
  },
  {
   "cell_type": "code",
   "execution_count": null,
   "id": "26f91347-a9e2-4b37-9399-742fbd212bb4",
   "metadata": {},
   "outputs": [],
   "source": []
  },
  {
   "cell_type": "raw",
   "id": "e192e0b0-6b00-4226-bc5a-fd9a59578dff",
   "metadata": {},
   "source": [
    "Q3. What is the partitioning of variance in ANOVA, and why is it important to understand this concept?"
   ]
  },
  {
   "cell_type": "raw",
   "id": "b5788b00-7f8f-429f-b2af-2e9698901208",
   "metadata": {},
   "source": [
    "The partitioning of variance in Analysis of Variance (ANOVA) refers to the decomposition of the total variance observed in a dataset into different components that can be attributed to various sources of variation. This concept is crucial in ANOVA because it helps researchers understand the contributions of different factors or sources to the overall variability in the data. By quantifying these components of variance, ANOVA allows for the assessment of the statistical significance of these factors and provides insights into their impact on the dependent variable.\n",
    "\n",
    "In a typical one-way ANOVA, the total variance in the data is broken down into three main components:\n",
    "\n",
    "Between-Group Variance (SSB or SS_between): \n",
    "            This component represents the variance that is due to differences between the group means. It measures the extent to which the independent variable (e.g., different treatment groups) contributes to the overall variance in the dependent variable.\n",
    "\n",
    "Within-Group Variance (SSW or SS_within):\n",
    "            This component represents the variance that is due to individual differences and random variation within each group. It is the unexplained or error variance in the data.\n",
    "\n",
    "Total Variance (SST or SS_total): \n",
    "            This is the overall variance in the data, which is the sum of the between-group variance and the within-group variance. It represents the total variability in the dependent variable across all groups."
   ]
  },
  {
   "cell_type": "code",
   "execution_count": null,
   "id": "457ec3be-f454-4dec-a7b2-07a9e6569166",
   "metadata": {},
   "outputs": [],
   "source": []
  },
  {
   "cell_type": "raw",
   "id": "5b5d5fdc-3180-4fdf-b180-d5cc5609a494",
   "metadata": {},
   "source": [
    "Q5. In a two-way ANOVA, how would you calculate the main effects and interaction effects using Python?"
   ]
  },
  {
   "cell_type": "code",
   "execution_count": 2,
   "id": "88687918-40b0-4ccf-b6b4-48548f27bb8f",
   "metadata": {},
   "outputs": [
    {
     "name": "stdout",
     "output_type": "stream",
     "text": [
      "Main Effect of Factor1: 0.81227436823105\n",
      "Main Effect of Factor2: 0.09025270758122757\n",
      "Interaction Effect: 0.03249097472924198\n"
     ]
    }
   ],
   "source": [
    "import pandas as pd\n",
    "import statsmodels.api as sm\n",
    "from statsmodels.formula.api import ols\n",
    "\n",
    "\n",
    "data = pd.DataFrame({\n",
    "    'Factor1': ['A', 'A', 'B', 'B', 'A', 'A', 'B', 'B'],\n",
    "    'Factor2': ['X', 'Y', 'X', 'Y', 'X', 'Y', 'X', 'Y'],\n",
    "    'Value': [10, 12, 15, 14, 18, 20, 22, 24]\n",
    "})\n",
    "\n",
    "model = ols('Value ~ Factor1 * Factor2', data=data).fit()\n",
    "\n",
    "\n",
    "anova_table = sm.stats.anova_lm(model, typ=2)\n",
    "\n",
    "main_effect_Factor1 = anova_table.loc['Factor1', 'F']\n",
    "main_effect_Factor2 = anova_table.loc['Factor2', 'F']\n",
    "interaction_effect = anova_table.loc['Factor1:Factor2', 'F']\n",
    "\n",
    "\n",
    "print(\"Main Effect of Factor1:\", main_effect_Factor1)\n",
    "print(\"Main Effect of Factor2:\", main_effect_Factor2)\n",
    "print(\"Interaction Effect:\", interaction_effect)\n"
   ]
  },
  {
   "cell_type": "code",
   "execution_count": null,
   "id": "eeeb6b87-e0b4-48d3-bec9-c39583670c54",
   "metadata": {},
   "outputs": [],
   "source": []
  },
  {
   "cell_type": "code",
   "execution_count": null,
   "id": "ea7361e0-3291-43ae-86d0-57616d424020",
   "metadata": {},
   "outputs": [],
   "source": [
    "Q6. Suppose you conducted a one-way ANOVA and obtained an F-statistic of 5.23 and a p-value of 0.02.\n",
    "What can you conclude about the differences between the groups, and how would you interpret these\n",
    "results?"
   ]
  },
  {
   "cell_type": "raw",
   "id": "ffd02192-b4ff-453b-ba0b-4a255ae25672",
   "metadata": {},
   "source": [
    "In a one-way ANOVA, the F-statistic and its associated p-value are used to assess whether there are statistically significant differences between the means of the groups. Here's how you can interpret the results you provided:\n",
    "\n",
    "F-Statistic (F): The F-statistic is a measure of the ratio of the between-group variability to the within-group variability. In your case, the F-statistic is 5.23.\n",
    "\n",
    "P-Value (p): The p-value represents the probability of obtaining the observed F-statistic or a more extreme F-statistic under the null hypothesis. A smaller p-value suggests stronger evidence against the null hypothesis.\n",
    "\n",
    "Interpretation:\n",
    "Given your results:\n",
    "The F-statistic of 5.23 indicates that there is some variability between the group means. In other words, there are differences in at least some of the groups.\n",
    "The p-value of 0.02 is less than the commonly chosen significance level (alpha), such as 0.05. This means that the probability of observing the differences between the groups by random chance alone (under the null hypothesis) is relatively low.\n",
    "Based on these results, you can make the following conclusions:\n",
    "\n",
    "Rejection of the Null Hypothesis: Since the p-value is less than your chosen significance level (e.g., alpha = 0.05), you have evidence to reject the null hypothesis. The null hypothesis typically assumes that there are no significant differences between the group means.\n",
    "\n",
    "Conclusion: You can conclude that there are statistically significant differences between at least some of the groups. In other words, the groups are not all the same, and there is evidence to suggest that the treatments or conditions applied to these groups have had an effect on the dependent variable.\n",
    "\n",
    "Post-Hoc Tests: If you have more than two groups and want to determine which specific groups are different from each other, you may consider conducting post-hoc tests, such as Tukey's HSD or Bonferroni tests, to identify pairwise differences.\n",
    "\n",
    "Effect Size: To understand the practical significance of the differences, you may also want to calculate and report an effect size, such as eta-squared or Cohen's d, which can provide insights into the magnitude of the differences.\n",
    "\n"
   ]
  },
  {
   "cell_type": "code",
   "execution_count": null,
   "id": "fb8e08f1-2c5f-49d5-a548-95ee2a0d814a",
   "metadata": {},
   "outputs": [],
   "source": []
  },
  {
   "cell_type": "code",
   "execution_count": null,
   "id": "0ccb8814-5655-4e16-bfb4-ec31a67739ce",
   "metadata": {},
   "outputs": [],
   "source": [
    "Q7. In a repeated measures ANOVA, how would you handle missing data, and what are the potential\n",
    "consequences of using different methods to handle missing data?"
   ]
  },
  {
   "cell_type": "raw",
   "id": "5f00104d-d71c-4e2d-ac0f-bbd284caee58",
   "metadata": {},
   "source": [
    "Handling missing data in a repeated measures ANOVA is an important consideration, as missing data can potentially bias your results and reduce the statistical power of your analysis. There are several methods to deal with missing data in repeated measures ANOVA, and the choice of method can have various consequences. Here are some common methods for handling missing data and their potential consequences:\n",
    "\n",
    "Listwise Deletion (Complete Case Analysis):\n",
    "\n",
    "This approach involves removing any participants with missing data on any variable in the analysis.\n",
    "Consequences:\n",
    "Pros: It is straightforward and doesn't require imputation. If data are missing completely at random, this method can provide unbiased results.\n",
    "Cons: It may lead to a significant reduction in sample size and loss of statistical power. It assumes that data are missing completely at random (MCAR), which is often an unrealistic assumption.\n",
    "Pairwise Deletion:\n",
    "\n",
    "In this method, you retain participants with complete data for each specific comparison you are making.\n",
    "Consequences:\n",
    "Pros: It maximizes the use of available data. It allows for more comparisons since it doesn't require complete data for the entire dataset.\n",
    "Cons: It can lead to an increased risk of Type I errors (false positives) because it doesn't account for the missing data mechanism. The results may not be representative of the entire sample.\n",
    "Mean Imputation:\n",
    "\n",
    "This involves replacing missing data with the mean of the observed values for that variable.\n",
    "Consequences:\n",
    "Pros: It retains all participants and is simple to implement.\n",
    "Cons: It can introduce bias if data are not missing completely at random. It can underestimate the variance and inflate Type I error rates.\n",
    "Last Observation Carried Forward (LOCF):\n",
    "\n",
    "In LOCF, the last observed value is carried forward for any missing data points.\n",
    "Consequences:\n",
    "Pros: It is simple and may be suitable when you have a clear pattern of missing data, such as in longitudinal studies.\n",
    "Cons: It can lead to biased results if the assumption that data remain stable over time is not met. It can inflate Type I errors if missing data is related to the dependent variable's changes.\n",
    "Multiple Imputation:\n",
    "\n",
    "Multiple imputation generates several complete datasets with imputed values, allowing for more accurate parameter estimation.\n",
    "Consequences:\n",
    "Pros: It provides unbiased parameter estimates and standard errors, accounting for the uncertainty introduced by imputation.\n",
    "Cons: It can be computationally intensive and may require assumptions about the missing data mechanism. However, it is considered one of the most robust methods for handling missing data.\n",
    "Maximum Likelihood Estimation (MLE):\n",
    "\n",
    "MLE is often used in software that supports repeated measures ANOVA. It estimates parameters while considering the pattern of missing data and maximizing the likelihood of observing the data.\n",
    "Consequences:\n",
    "Pros: It provides unbiased estimates if the missing data mechanism is correctly specified. It's suitable for handling data missing at random (MAR).\n",
    "Cons: The correct specification of the missing data mechanism can be challenging. It may produce biased results if the assumptions are violated."
   ]
  },
  {
   "cell_type": "code",
   "execution_count": null,
   "id": "cc215d79-f1bd-450d-9790-d68c6a23ad9a",
   "metadata": {},
   "outputs": [],
   "source": []
  },
  {
   "cell_type": "code",
   "execution_count": null,
   "id": "2072999b-4cc1-4352-8c22-c03f8c000e3b",
   "metadata": {},
   "outputs": [],
   "source": [
    "Q8. What are some common post-hoc tests used after ANOVA, and when would you use each one? Provide\n",
    "an example of a situation where a post-hoc test might be necessary."
   ]
  },
  {
   "cell_type": "raw",
   "id": "7fabcac4-17ea-4761-ad0b-cda28f149c2e",
   "metadata": {},
   "source": [
    "Post-hoc tests are used in the context of analysis of variance (ANOVA) to determine specific group differences when you have more than two groups and the ANOVA indicates that there are significant differences among the groups. These tests are essential for identifying which specific groups differ from each other. Common post-hoc tests include:\n",
    "\n",
    "Tukey's Honestly Significant Difference (Tukey's HSD):\n",
    "\n",
    "Tukey's HSD is a widely used post-hoc test that controls the overall Type I error rate.\n",
    "It is appropriate when you have performed an ANOVA and want to compare all possible pairwise group differences.\n",
    "Example: In a study comparing the effects of different treatments on plant growth, after conducting an ANOVA, you use Tukey's HSD to determine which specific treatment groups have significantly different effects on plant growth.\n",
    "Bonferroni Correction:\n",
    "\n",
    "The Bonferroni correction adjusts the significance level to account for multiple comparisons.\n",
    "It is suitable when you want to control the familywise error rate by making each comparison at a lower significance level.\n",
    "Example: In a clinical trial with multiple treatment arms, after ANOVA, you use the Bonferroni correction to compare each treatment arm to the control group, ensuring that the overall Type I error rate remains controlled.\n",
    "Scheffé's Method:\n",
    "\n",
    "Scheffé's method is a conservative post-hoc test that is useful when you have complex study designs with multiple factors.\n",
    "It is appropriate for making comparisons while controlling the familywise error rate in situations with unequal group sizes and different factor levels.\n",
    "Example: In a psychological study investigating the effects of different interventions on various age groups and genders, after ANOVA, you use Scheffé's method to compare the interventions within each subgroup.\n",
    "Bonferroni-Dunn Test:\n",
    "\n",
    "The Bonferroni-Dunn test is used when comparing multiple treatment groups to a single control group.\n",
    "It is particularly appropriate for situations where you have one control group and several treatment groups.\n",
    "Example: In a drug trial with a control group and multiple experimental drug groups, after ANOVA, you use the Bonferroni-Dunn test to compare each drug group to the control group.\n",
    "Games-Howell Test:\n",
    "\n",
    "The Games-Howell test is a non-parametric post-hoc test suitable when the assumption of homogeneity of variances is violated.\n",
    "It is useful when you have unequal group sizes and unequal variances, and you want to perform pairwise comparisons.\n",
    "Example: In an educational study comparing the test scores of students from different schools, after ANOVA, you use the Games-Howell test to compare schools while accounting for unequal variances and group sizes.\n",
    "Dunnett's Test:\n",
    "\n",
    "Dunnett's test is designed for situations where you have one control group and several experimental groups.\n",
    "It is appropriate for making comparisons to a control group, often used in medical and pharmaceutical research.\n",
    "Example: In a clinical trial comparing the effects of various treatments to a placebo control, after ANOVA, you use Dunnett's test to determine which treatment groups significantly differ from the control group."
   ]
  },
  {
   "cell_type": "code",
   "execution_count": null,
   "id": "3d41b2a1-ffca-4ec8-953d-97ce94dda85e",
   "metadata": {},
   "outputs": [],
   "source": []
  },
  {
   "cell_type": "code",
   "execution_count": null,
   "id": "c3bd3147-74f4-4be1-8f08-707509cf67fe",
   "metadata": {},
   "outputs": [],
   "source": [
    "Q9. A researcher wants to compare the mean weight loss of three diets: A, B, and C. They collect data from\n",
    "50 participants who were randomly assigned to one of the diets. Conduct a one-way ANOVA using Python\n",
    "to determine if there are any significant differences between the mean weight loss of the three diets.\n",
    "Report the F-statistic and p-value, and interpret the results."
   ]
  },
  {
   "cell_type": "code",
   "execution_count": 3,
   "id": "1a9a09c2-dcea-437f-9a0d-b01a9b798b36",
   "metadata": {},
   "outputs": [
    {
     "name": "stdout",
     "output_type": "stream",
     "text": [
      "The one-way ANOVA is statistically significant.\n",
      "F-statistic: 725.6043\n",
      "P-value: 0.0000\n",
      "There are significant differences between the mean weight loss of the three diets.\n"
     ]
    }
   ],
   "source": [
    "import numpy as np\n",
    "import scipy.stats as stats\n",
    "\n",
    "\n",
    "diet_A = np.array([1.5, 2.0, 2.2, 1.8, 2.5, 2.3, 2.7, 1.9, 2.1, 2.0, 1.6, 1.8, 2.2, 2.4, 2.1, 1.7, 2.3, 1.6, 1.9, 2.0, 2.4, 2.5, 2.1, 1.7, 1.8])\n",
    "diet_B = np.array([1.0, 1.2, 1.5, 1.3, 1.4, 1.0, 1.2, 1.6, 1.1, 1.3, 1.4, 1.2, 1.5, 1.6, 1.1, 1.2, 1.0, 1.3, 1.4, 1.1, 1.3, 1.5, 1.4, 1.2, 1.0])\n",
    "diet_C = np.array([3.5, 3.8, 4.0, 3.7, 4.2, 3.9, 4.1, 3.6, 4.3, 4.2, 4.0, 3.8, 4.1, 3.7, 4.2, 3.6, 4.0, 3.9, 3.8, 4.1, 3.7, 4.2, 3.6, 4.1, 3.8])\n",
    "\n",
    "f_statistic, p_value = stats.f_oneway(diet_A, diet_B, diet_C)\n",
    "\n",
    "alpha = 0.05  \n",
    "\n",
    "if p_value < alpha:\n",
    "    print(\"The one-way ANOVA is statistically significant.\")\n",
    "    print(f\"F-statistic: {f_statistic:.4f}\")\n",
    "    print(f\"P-value: {p_value:.4f}\")\n",
    "    print(\"There are significant differences between the mean weight loss of the three diets.\")\n",
    "else:\n",
    "    print(\"The one-way ANOVA is not statistically significant.\")\n",
    "    print(f\"F-statistic: {f_statistic:.4f}\")\n",
    "    print(f\"P-value: {p_value:.4f}\")\n",
    "    print(\"There are no significant differences between the mean weight loss of the three diets.\")\n"
   ]
  },
  {
   "cell_type": "code",
   "execution_count": null,
   "id": "34f6ddb1-6c89-4891-90e6-64157764df54",
   "metadata": {},
   "outputs": [],
   "source": []
  },
  {
   "cell_type": "code",
   "execution_count": null,
   "id": "7fc45868-2de9-4bb7-a861-b6d552f15fd2",
   "metadata": {},
   "outputs": [],
   "source": [
    "Q10. A company wants to know if there are any significant differences in the average time it takes to\n",
    "complete a task using three different software programs: Program A, Program B, and Program C. They\n",
    "randomly assign 30 employees to one of the programs and record the time it takes each employee to\n",
    "complete the task. Conduct a two-way ANOVA using Python to determine if there are any main effects or\n",
    "interaction effects between the software programs and employee experience level (novice vs.\n",
    "experienced). Report the F-statistics and p-values, and interpret the results."
   ]
  },
  {
   "cell_type": "code",
   "execution_count": null,
   "id": "022ddf4e-0114-4f01-af7c-654db37cf134",
   "metadata": {},
   "outputs": [],
   "source": [
    "import pandas as pd\n",
    "import statsmodels.api as sm\n",
    "from statsmodels.formula.api import ols\n",
    "\n",
    "data = pd.DataFrame({\n",
    "    'Software': ['A', 'B', 'C'] * 10,\n",
    "    'Experience': ['Novice', 'Experienced'] * 15,\n",
    "    'Time': [12, 14, 15, 13, 16, 14, 11, 12, 15, 13, 14, 15, 12, 13, 16, 11, 12, 14, 14, 15, 15, 13, 12, 16, 13, 14, 14, 15, 13, 16]\n",
    "})\n",
    "\n",
    "\n",
    "model = ols('Time ~ Software * Experience', data=data).fit()\n",
    "\n",
    "anova_table = sm.stats.anova_lm(model, typ=2)\n",
    "\n",
    "alpha = 0.05 \n",
    "\n",
    "print(\"Two-Way ANOVA Results:\")\n",
    "print(anova_table)\n",
    "\n",
    "p_interaction = anova_table.loc['Software:Experience', 'PR(>F)']\n",
    "p_software = anova_table.loc['Software', 'PR(>F)']\n",
    "p_experience = anova_table.loc['Experience', 'PR(>F)']\n",
    "\n",
    "if p_interaction < alpha:\n",
    "    print(\"There is a significant interaction effect between software and experience level.\")\n",
    "else:\n",
    "    print(\"There is no significant interaction effect between software and experience level.\")\n",
    "\n",
    "if p_software < alpha:\n",
    "    print(\"There is a significant main effect of software.\")\n",
    "else:\n",
    "    print(\"There is no significant main effect of software.\")\n",
    "\n",
    "if p_experience < alpha:\n",
    "    print(\"There is a significant main effect of experience level.\")\n",
    "else:\n",
    "    print(\"There is no significant main effect of experience level.\")\n"
   ]
  },
  {
   "cell_type": "code",
   "execution_count": null,
   "id": "d6628ff1-320e-4335-8266-65f4828b7644",
   "metadata": {},
   "outputs": [],
   "source": []
  },
  {
   "cell_type": "code",
   "execution_count": null,
   "id": "d6866c6c-55a6-4853-9fb6-40372646d223",
   "metadata": {},
   "outputs": [],
   "source": [
    "Q11. An educational researcher is interested in whether a new teaching method improves student test\n",
    "scores. They randomly assign 100 students to either the control group (traditional teaching method) or the\n",
    "experimental group (new teaching method) and administer a test at the end of the semester. Conduct a\n",
    "two-sample t-test using Python to determine if there are any significant differences in test scores\n",
    "between the two groups. If the results are significant, follow up with a post-hoc test to determine which\n",
    "group(s) differ significantly from each other."
   ]
  },
  {
   "cell_type": "code",
   "execution_count": 4,
   "id": "a443b535-c576-4436-b905-889a56c07788",
   "metadata": {},
   "outputs": [
    {
     "name": "stdout",
     "output_type": "stream",
     "text": [
      "The two-sample t-test is statistically significant.\n",
      "T-statistic: -9.7431\n",
      "P-value: 0.0000\n",
      "There is a significant difference in test scores between the two groups.\n",
      "  Multiple Comparison of Means - Tukey HSD, FWER=0.05  \n",
      "=======================================================\n",
      " group1    group2    meandiff p-adj lower  upper reject\n",
      "-------------------------------------------------------\n",
      "Control Experimental   7.4549   0.0 5.9359 8.974   True\n",
      "-------------------------------------------------------\n"
     ]
    }
   ],
   "source": [
    "import numpy as np\n",
    "import scipy.stats as stats\n",
    "from statsmodels.stats.multicomp import pairwise_tukeyhsd\n",
    "\n",
    "\n",
    "control_group = np.array([85, 78, 90, 79, 88, 92, 76, 81, 84, 86, 80, 83, 79, 89, 75, 82, 87, 91, 77, 85, 80, 76, 83, 81, 88, 90, 79, 82, 84, 86, 87, 78, 89, 77, 92, 85, 88, 83, 80, 86, 90, 82, 79, 81, 84, 85, 87, 88, 91])\n",
    "experimental_group = np.array([92, 89, 94, 91, 93, 95, 87, 90, 92, 93, 90, 91, 88, 94, 86, 91, 93, 95, 88, 92, 89, 87, 90, 91, 94, 95, 89, 90, 91, 93, 92, 87, 93, 88, 95, 92, 93, 91, 89, 94, 94, 90, 88, 90, 92, 93, 93, 95])\n",
    "\n",
    "t_statistic, p_value = stats.ttest_ind(control_group, experimental_group)\n",
    "\n",
    "alpha = 0.05  \n",
    "\n",
    "if p_value < alpha:\n",
    "    print(\"The two-sample t-test is statistically significant.\")\n",
    "    print(f\"T-statistic: {t_statistic:.4f}\")\n",
    "    print(f\"P-value: {p_value:.4f}\")\n",
    "    print(\"There is a significant difference in test scores between the two groups.\")\n",
    "else:\n",
    "    print(\"The two-sample t-test is not statistically significant.\")\n",
    "    print(f\"T-statistic: {t_statistic:.4f}\")\n",
    "    print(f\"P-value: {p_value:.4f}\")\n",
    "    print(\"There is no significant difference in test scores between the two groups.\")\n",
    "\n",
    "if p_value < alpha:\n",
    "    data = np.concatenate((control_group, experimental_group))\n",
    "    group_labels = ['Control'] * len(control_group) + ['Experimental'] * len(experimental_group)\n",
    "    \n",
    "    tukey_results = pairwise_tukeyhsd(data, group_labels)\n",
    "    print(tukey_results)\n"
   ]
  },
  {
   "cell_type": "code",
   "execution_count": null,
   "id": "098ee26f-e11e-4d26-b58b-344d2d755a12",
   "metadata": {},
   "outputs": [],
   "source": []
  },
  {
   "cell_type": "code",
   "execution_count": null,
   "id": "ca394372-fa6e-4a8b-b24a-3bddcd86a174",
   "metadata": {},
   "outputs": [],
   "source": [
    "Q12. A researcher wants to know if there are any significant differences in the average daily sales of three\n",
    "retail stores: Store A, Store B, and Store C. They randomly select 30 days and record the sales for each store\n",
    "on those days. Conduct a repeated measures ANOVA using Python to determine if there are any\n",
    "\n",
    "significant differences in sales between the three stores. If the results are significant, follow up with a post-\n",
    "hoc test to determine which store(s) differ significantly from each other."
   ]
  }
 ],
 "metadata": {
  "kernelspec": {
   "display_name": "Python 3 (ipykernel)",
   "language": "python",
   "name": "python3"
  },
  "language_info": {
   "codemirror_mode": {
    "name": "ipython",
    "version": 3
   },
   "file_extension": ".py",
   "mimetype": "text/x-python",
   "name": "python",
   "nbconvert_exporter": "python",
   "pygments_lexer": "ipython3",
   "version": "3.10.8"
  }
 },
 "nbformat": 4,
 "nbformat_minor": 5
}
