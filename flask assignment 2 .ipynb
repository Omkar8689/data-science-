{
 "cells": [
  {
   "cell_type": "markdown",
   "id": "970eb6f8-fb24-4123-9476-ce75436b36c0",
   "metadata": {},
   "source": [
    "Q1. Explain GET and POST methods."
   ]
  },
  {
   "cell_type": "raw",
   "id": "5df50d69-1913-43ac-96a6-d0c48d72c7fd",
   "metadata": {},
   "source": [
    "GET Method:\n",
    "The GET method is used to request data from a server. When you enter a URL in your web browser and hit Enter, your browser sends a GET request to the server to retrieve the specified resource (usually a webpage). GET requests are typically used for retrieving data, such as reading an article or viewing an image.\n",
    "\n",
    "POST Method:\n",
    "The POST method is used to submit data to be processed by the server. This method is commonly used for sending data from forms on web pages. When you fill out a form online and click the \"Submit\" button, your browser sends a POST request containing the data you entered to the server, which then processes the data and performs the necessary actions."
   ]
  },
  {
   "cell_type": "code",
   "execution_count": null,
   "id": "41da550c-b431-4506-924e-56d34d64c8c4",
   "metadata": {},
   "outputs": [],
   "source": []
  },
  {
   "cell_type": "raw",
   "id": "68da356b-176f-4650-8145-8699ff78c718",
   "metadata": {},
   "source": [
    "Q2. Why is request used in Flask?"
   ]
  },
  {
   "cell_type": "raw",
   "id": "0d52f765-9642-4e0b-8775-74342e72b31c",
   "metadata": {},
   "source": [
    "Request in flask is used for the following purposes-:\n",
    "Accessing Client Data: The request object allows you to access various types of data sent by the client. This includes form data submitted via POST requests, query parameters from GET requests, and other types of data such as headers and cookies. You can extract this data from the request object and use it to process the client's request.\n",
    "\n",
    "Handling Form Submissions: \n",
    "                   When a user submits a form on a web page, the form data is sent to the server. The request object in Flask allows you to retrieve and process this form data. This is essential for implementing features like user registration, login, and any other functionality that involves user input.\n",
    "\n",
    "Authentication and Authorization: The request object is often used to check authentication and authorization information. For example, you might extract the user's authentication token or session data from the request to determine if they have the necessary permissions to access a particular resource.\n",
    "\n",
    "Dynamic URL Handling: In Flask, you can define routes with variable components in the URL. The values of these variables are extracted from the URL and made available in the request object. This is useful for creating dynamic routes that handle different data based on the URL structure.\n",
    "\n",
    "Handling HTTP Methods: The request object allows you to determine which HTTP method was used for the request. This is important for differentiating between GET, POST, PUT, DELETE, and other HTTP methods, each of which may require different handling on the server.\n",
    "\n"
   ]
  },
  {
   "cell_type": "code",
   "execution_count": null,
   "id": "bc193e33-b47b-42b7-a676-ec4ff0d0b437",
   "metadata": {},
   "outputs": [],
   "source": []
  },
  {
   "cell_type": "raw",
   "id": "e68e5f89-2261-4483-9b26-b4ee43aeb943",
   "metadata": {},
   "source": [
    "Q3. Why is redirect() used in Flask?"
   ]
  },
  {
   "cell_type": "raw",
   "id": "3542638d-8527-4437-99f6-6ca865b0cf3a",
   "metadata": {},
   "source": [
    "The redirect function allows you to redirect the user to another URL. redirect can be used in Server Components, Client Components, Route Handlers, and Server Actions. If you need to redirect to a 404, use the notFound function instead."
   ]
  },
  {
   "cell_type": "code",
   "execution_count": null,
   "id": "d867615b-1351-42ee-b5d0-878b2e5ba24c",
   "metadata": {},
   "outputs": [],
   "source": []
  },
  {
   "cell_type": "raw",
   "id": "fa0ad4f6-1051-48d9-8326-ffe6a289cb18",
   "metadata": {},
   "source": [
    "Q4. What are templates in Flask? Why is the render_template() function used?"
   ]
  },
  {
   "cell_type": "raw",
   "id": "f4f832fa-7a8a-4410-b93f-0386471cd057",
   "metadata": {},
   "source": [
    "Templates are files that contain static data as well as placeholders for dynamic data. A template is rendered with specific data to produce a final document. Flask uses the Jinja template library to render templates. In your application, you will use templates to render HTML which will display in the user's browser.\n",
    "\n",
    "render_template is used to generate output from a template file based on the Jinja2 engine that is found in the application's templates folder. Note that render_template is typically imported directly from the flask package instead of from flask."
   ]
  },
  {
   "cell_type": "code",
   "execution_count": null,
   "id": "88bde352-c641-4430-9c7f-d83b1241964b",
   "metadata": {},
   "outputs": [],
   "source": []
  },
  {
   "cell_type": "markdown",
   "id": "5d55d0ea-e2ac-4bf7-9186-c7d120420943",
   "metadata": {},
   "source": [
    "Q5. Create a simple API. Use Postman to test it. Attach the screenshot of the output in the Jupyter Notebook."
   ]
  },
  {
   "cell_type": "code",
   "execution_count": null,
   "id": "21068153-e51d-46b1-bc6d-fa316f0967a4",
   "metadata": {},
   "outputs": [],
   "source": []
  }
 ],
 "metadata": {
  "kernelspec": {
   "display_name": "Python 3 (ipykernel)",
   "language": "python",
   "name": "python3"
  },
  "language_info": {
   "codemirror_mode": {
    "name": "ipython",
    "version": 3
   },
   "file_extension": ".py",
   "mimetype": "text/x-python",
   "name": "python",
   "nbconvert_exporter": "python",
   "pygments_lexer": "ipython3",
   "version": "3.10.8"
  }
 },
 "nbformat": 4,
 "nbformat_minor": 5
}
