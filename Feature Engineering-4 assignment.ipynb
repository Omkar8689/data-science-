{
 "cells": [
  {
   "cell_type": "code",
   "execution_count": null,
   "id": "c6126a35-3dcd-42f7-8f8d-0e32f78bd349",
   "metadata": {},
   "outputs": [],
   "source": [
    "Q1. What is data encoding? How is it useful in data science?"
   ]
  },
  {
   "cell_type": "code",
   "execution_count": null,
   "id": "3fb9b91c-8f63-46d8-a051-820a427fe91d",
   "metadata": {},
   "outputs": [],
   "source": [
    "Data encoding is the technique used in machine learning for \n",
    "the conversion of categorical data/feature into numerical data/feature.\n",
    "\n",
    "It is used in Data science for the training of models.\n",
    "Usefulness in Data Science:\n",
    "Compatibility: Different machine learning algorithms require data in specific formats.\n",
    "Encoding ensures that the data is compatible with the chosen algorithm.\n",
    "\n",
    "Improved Performance: Some algorithms perform better when the input data is in a certain format.\n",
    "For example, neural networks often work well with numerical data, and encoding helps transform categorical\n",
    "data into a suitable format.\n",
    "\n",
    "Feature Extraction: Encoding can help extract important features from raw data, making it more\n",
    "informative for machine learning models.\n",
    "\n",
    "Reducing Dimensionality: Certain encoding techniques, like PCA (Principal Component Analysis),\n",
    "can be used to reduce the dimensionality of data while preserving important information.\n",
    "\n",
    "Handling Categorical Data: Many machine learning models can only handle numerical input. \n",
    "Encoding categorical data allows these models to work with a broader range of data types."
   ]
  },
  {
   "cell_type": "code",
   "execution_count": null,
   "id": "5751f804-6b59-41b3-b1a2-83fb5eedb103",
   "metadata": {},
   "outputs": [],
   "source": []
  },
  {
   "cell_type": "code",
   "execution_count": null,
   "id": "d48045a9-652c-49eb-9f36-861d4fa5c649",
   "metadata": {},
   "outputs": [],
   "source": []
  },
  {
   "cell_type": "code",
   "execution_count": null,
   "id": "4b441f58-612c-4b58-a3e6-b2e27429fb5f",
   "metadata": {},
   "outputs": [],
   "source": [
    "Q2. What is nominal encoding? Provide an example of how you would use it in a real-world scenario."
   ]
  },
  {
   "cell_type": "code",
   "execution_count": null,
   "id": "7cf3c51d-db7c-4ad5-a8e8-884878cd80d5",
   "metadata": {},
   "outputs": [],
   "source": [
    "Nominal encoding is the type of encoding used for the conversion of categorical data into numerical \n",
    "data or we can say that it converts it in the binary format"
   ]
  },
  {
   "cell_type": "code",
   "execution_count": null,
   "id": "81a4417c-2fa8-41c1-bfd2-ac8d6e4d886c",
   "metadata": {},
   "outputs": [],
   "source": []
  },
  {
   "cell_type": "code",
   "execution_count": null,
   "id": "7d7f8a21-5a8f-47d2-8582-1bb97594ae3c",
   "metadata": {},
   "outputs": [],
   "source": []
  },
  {
   "cell_type": "code",
   "execution_count": null,
   "id": "08a2cc81-a80e-45a9-88fa-483e6c2f4368",
   "metadata": {},
   "outputs": [],
   "source": [
    "\n",
    "Q3. In what situations is nominal encoding preferred over one-hot encoding? Provide a practical example"
   ]
  },
  {
   "cell_type": "code",
   "execution_count": null,
   "id": "19d54f84-ab43-456e-b96d-43faab6ffce6",
   "metadata": {},
   "outputs": [],
   "source": [
    "Nominal encoding and one-hot encoding are both techniques used to represent categorical\n",
    "data in a numerical format, but they are suitable in different situations. \n",
    "Nominal encoding is preferred over one-hot encoding in the following situations:\n",
    "\n",
    "When the number of categories is large:\n",
    "One-hot encoding can lead to a high-dimensional and sparse representation,\n",
    "especially when dealing with categorical variables with many unique values. \n",
    "In such cases, nominal encoding can be more space-efficient.\n",
    "\n",
    "When interpretability and simplicity are important:\n",
    "Nominal encoding results in a single column of integers, making the dataset\n",
    "more interpretable and compact compared to the multiple binary columns created by one-hot encoding. \n",
    "This can be advantageous when working with simpler models or when human interpretability is a priority.\n",
    "\n",
    "When there is no inherent order or hierarchy among categories:\n",
    "Nominal encoding is appropriate when the categories have no meaningful order or ranking. \n",
    "If there is no logical progression or relationship between the categories,\n",
    "using one-hot encoding may introduce unnecessary complexity.\n",
    "\n"
   ]
  },
  {
   "cell_type": "code",
   "execution_count": 19,
   "id": "0b85c89d-8de9-4b2a-8a6f-9cb87be74a75",
   "metadata": {},
   "outputs": [
    {
     "name": "stdout",
     "output_type": "stream",
     "text": [
      "   Employee ID   Department  Department_Encoded\n",
      "0            1  Engineering                   0\n",
      "1            2           HR                   2\n",
      "2            3    Marketing                   3\n",
      "3            4      Finance                   1\n",
      "4            5  Engineering                   0\n"
     ]
    }
   ],
   "source": [
    "from sklearn.preprocessing import LabelEncoder\n",
    "import pandas as pd\n",
    "\n",
    "data = {'Employee ID': [1, 2, 3, 4, 5],\n",
    "        'Department': ['Engineering', 'HR', 'Marketing', 'Finance', 'Engineering']}\n",
    "\n",
    "df = pd.DataFrame(data)\n",
    "\n",
    "\n",
    "label_encoder = LabelEncoder()\n",
    "df['Department_Encoded'] = label_encoder.fit_transform(df['Department'])\n",
    "\n",
    "print(df[['Employee ID', 'Department', 'Department_Encoded']])\n"
   ]
  },
  {
   "cell_type": "code",
   "execution_count": null,
   "id": "e940f96f-c0b0-4aab-8d78-f05172a06475",
   "metadata": {},
   "outputs": [],
   "source": []
  },
  {
   "cell_type": "code",
   "execution_count": null,
   "id": "627ad1d5-1bfc-48da-9eae-b47697e9666d",
   "metadata": {},
   "outputs": [],
   "source": [
    "Q4. Suppose you have a dataset containing categorical data with 5 unique values. Which encoding\n",
    "technique would you use to transform this data into a format suitable for machine learning algorithms?\n",
    "Explain why you made this choice."
   ]
  },
  {
   "cell_type": "code",
   "execution_count": null,
   "id": "a17596f4-525a-46ea-9f74-0fa311d18290",
   "metadata": {},
   "outputs": [],
   "source": [
    "I will use the ordinal encoding technique to transform  \n",
    "the categorical data or feature into the numerical feature.\n",
    "\n",
    "Ordinal encoding is a suitable technique for transforming categorical data\n",
    "with ordered categories into a format suitable for machine learning algorithms. \n",
    "In ordinal encoding, each unique category is assigned an integer value based on its order or ranking.\n",
    "This is particularly useful when the categories have a meaningful order or hierarchy.\n",
    "\n",
    "For example, if your categorical data has five unique values with a clear ordinal relationship\n",
    "(e.g., low, medium-low, medium, medium-high, high), you can assign integer values to these categories\n",
    "in a way that reflects their order. The resulting encoded values will preserve the ordinal information, \n",
    "making it possible for machine learning algorithms to understand and utilize the inherent order in the data."
   ]
  },
  {
   "cell_type": "code",
   "execution_count": null,
   "id": "adbe27bd-d648-49ba-beeb-1107978b7dce",
   "metadata": {},
   "outputs": [],
   "source": []
  },
  {
   "cell_type": "code",
   "execution_count": null,
   "id": "68ac69a0-bd83-4777-a7a7-e1b83d261531",
   "metadata": {},
   "outputs": [],
   "source": [
    "Q5. In a machine learning project, you have a dataset with 1000 rows and 5 columns. Two of the columns\n",
    "are categorical, and the remaining three columns are numerical. If you were to use nominal encoding to\n",
    "transform the categorical data, how many new columns would be created? Show your calculations."
   ]
  },
  {
   "cell_type": "code",
   "execution_count": null,
   "id": "a4702bfb-babd-4a0e-a9e9-b874f88af0a5",
   "metadata": {},
   "outputs": [],
   "source": [
    "Nominal encoding, often referred to as one-hot encoding, creates a binary column\n",
    "for each category in the categorical variable. Each column indicates the presence or\n",
    "absence of a particular category for a given observation. The number of new columns created\n",
    "is equal to the number of unique categories \n",
    "in the original categorical variable.\n",
    "\n",
    "\n",
    "So this is difficult to predict the how many new columns will be created."
   ]
  },
  {
   "cell_type": "code",
   "execution_count": null,
   "id": "4e6ee8da-0023-4fda-844a-87547e2ec563",
   "metadata": {},
   "outputs": [],
   "source": []
  },
  {
   "cell_type": "code",
   "execution_count": null,
   "id": "1b6ef6dc-3b0a-4e66-8ff5-45094a94a5ed",
   "metadata": {},
   "outputs": [],
   "source": [
    "Q6. You are working with a dataset containing information about different types of animals, including their\n",
    "species, habitat, and diet. Which encoding technique would you use to transform the categorical data into\n",
    "a format suitable for machine learning algorithms? Justify your answer."
   ]
  },
  {
   "cell_type": "code",
   "execution_count": null,
   "id": "da1fe7bd-6b97-4a91-8cbd-25020a98b0f9",
   "metadata": {},
   "outputs": [],
   "source": [
    "I will use the ordinal encoding technique for the conversion of categorical data into the numerical data.\n",
    "As in the ordianal encoding you can easily encode on the basis of rank ,it will be easy to encode \n",
    "these categorical data into the numerical data on the basis of their rank(habitat,species,diet etc.)"
   ]
  },
  {
   "cell_type": "code",
   "execution_count": null,
   "id": "3d666bde-c98a-4483-9b79-5d232118fd03",
   "metadata": {},
   "outputs": [],
   "source": []
  },
  {
   "cell_type": "code",
   "execution_count": null,
   "id": "de6b6276-5f27-4122-8a2c-93f0984d7f6e",
   "metadata": {},
   "outputs": [],
   "source": [
    "Q7.You are working on a project that involves predicting customer churn for a telecommunications\n",
    "company. You have a dataset with 5 features, including the customer's gender, age, contract type,\n",
    "monthly charges, and tenure. Which encoding technique(s) would you use to transform the categorical\n",
    "data into numerical data? Provide a step-by-step explanation of how you would implement the encoding."
   ]
  },
  {
   "cell_type": "code",
   "execution_count": null,
   "id": "5f5c7363-8628-4c22-892a-1f0743212402",
   "metadata": {},
   "outputs": [],
   "source": [
    "Following encoding techniques can be used-\n",
    "\n",
    "Binary Encoding (for gender):\n",
    "If 'Male' is 0 and 'Female' is 1, you can use binary encoding directly. \n",
    "Alternatively, you can use label encoding where 'Male' is 0 and 'Female' is 1.\n",
    "If using binary encoding, you might represent 'Male' as 0 (00 in binary) and 'Female' as \n",
    "1 (01 in binary). The resulting encoded column would be a binary representation.\n",
    "\n",
    "Ordinal Encoding (for contract type, if applicable):\n",
    "Assign numerical values based on the order, e.g., 'Month-to-month' as 1, 'One year' as 2, and 'Two years' as 3.\n",
    "\n",
    "One-Hot Encoding (for non-ordinal contract type, if applicable):\n",
    "Create binary columns for each category. If there are three categories ('Month-to-month,' 'One year,' 'Two years'),\n",
    "you'll create three columns,\n",
    "each indicating the presence or absence of that category."
   ]
  }
 ],
 "metadata": {
  "kernelspec": {
   "display_name": "Python 3 (ipykernel)",
   "language": "python",
   "name": "python3"
  },
  "language_info": {
   "codemirror_mode": {
    "name": "ipython",
    "version": 3
   },
   "file_extension": ".py",
   "mimetype": "text/x-python",
   "name": "python",
   "nbconvert_exporter": "python",
   "pygments_lexer": "ipython3",
   "version": "3.10.8"
  }
 },
 "nbformat": 4,
 "nbformat_minor": 5
}
