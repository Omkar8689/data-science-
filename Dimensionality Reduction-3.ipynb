{
 "cells": [
  {
   "cell_type": "code",
   "execution_count": null,
   "id": "245eb7ab-1339-46b8-93be-f699d3860b4b",
   "metadata": {},
   "outputs": [],
   "source": []
  },
  {
   "cell_type": "code",
   "execution_count": null,
   "id": "e7f236d8-8549-4b9a-8010-a0787af113ff",
   "metadata": {},
   "outputs": [],
   "source": [
    "Q1. What are Eigenvalues and Eigenvectors? How are they related to the Eigen-Decomposition approach?\n",
    "Explain with an example."
   ]
  },
  {
   "cell_type": "code",
   "execution_count": null,
   "id": "f6aebc24-d23b-48f7-a705-e5729bd0f198",
   "metadata": {},
   "outputs": [],
   "source": [
    "\n",
    "Eigenvalues (λ): Scalars associated with a square matrix that, when multiplied by an eigenvector, only scale the vector's direction, \n",
    "not its orientation.\n",
    "Eigenvectors (v): Non-zero vectors of a square matrix that, when multiplied by the matrix, undergo only a scaling by the eigenvalue.\n",
    "Relationship to Eigen-Decomposition:\n",
    "\n",
    "Eigen-decomposition expresses a square matrix as a product of three matrices:\n",
    "\n",
    "A matrix containing the eigenvectors as columns (V).\n",
    "A diagonal matrix with the eigenvalues on the diagonal (Λ).\n",
    "The inverse of the eigenvector matrix (V^-1).\n",
    "This reveals the inherent properties of the matrix through its eigenvalues and eigenvectors.\n",
    "\n",
    "Example:\n",
    "\n",
    "Consider the matrix:\n",
    "\n",
    "A = [[1, 2], [2, 1]]\n",
    "Solving for eigenvalues and eigenvectors, you'll find:\n",
    "\n",
    "Eigenvalue 1: Eigenvector [1, -1]\n",
    "Eigenvalue 3: Eigenvector [1, 1]\n",
    "The eigen-decomposition of A would be:\n",
    "\n",
    "A = V * Λ * V^-1\n",
    "where V and Λ are defined based on the eigenvectors and eigenvalues above."
   ]
  },
  {
   "cell_type": "code",
   "execution_count": null,
   "id": "dc5733ce-9522-4506-bf90-6a9822592e08",
   "metadata": {},
   "outputs": [],
   "source": []
  },
  {
   "cell_type": "code",
   "execution_count": null,
   "id": "c62d9f0e-d3d8-460a-b112-f3a45f802d2f",
   "metadata": {},
   "outputs": [],
   "source": [
    "Q2. What is eigen decomposition and what is its significance in linear algebra?"
   ]
  },
  {
   "cell_type": "code",
   "execution_count": null,
   "id": "a03cf95b-c410-4b61-800c-a96704a6b5b1",
   "metadata": {},
   "outputs": [],
   "source": [
    "\n",
    "\n",
    "Eigen-decomposition provides a deeper understanding of a matrix by:\n",
    "\n",
    "Revealing inherent scaling factors (eigenvalues): These tell you how much a vector gets stretched or shrunk when transformed by the matrix.\n",
    "Identifying independent directions (eigenvectors): These represent the directions along which the matrix transformation scales vectors.\n",
    "Simplifying calculations: It allows for solving systems of linear equations and analyzing dynamical systems more efficiently."
   ]
  },
  {
   "cell_type": "code",
   "execution_count": null,
   "id": "2df55c03-bab1-4f21-9d92-96d036ecc50a",
   "metadata": {},
   "outputs": [],
   "source": []
  },
  {
   "cell_type": "code",
   "execution_count": null,
   "id": "a8a0d98d-99e5-4e65-91a3-a893dad992ea",
   "metadata": {},
   "outputs": [],
   "source": [
    "Q3. What are the conditions that must be satisfied for a square matrix to be diagonalizable using the"
   ]
  },
  {
   "cell_type": "code",
   "execution_count": null,
   "id": "c272a590-b9a3-4b69-bea6-cef03faa0860",
   "metadata": {},
   "outputs": [],
   "source": [
    "A square matrix is diagonalizable using eigen-decomposition if it has a complete set of linearly independent eigenvectors.\n",
    "\n",
    "Proof (sketch):\n",
    "\n",
    "If a matrix has a complete set of eigenvectors (n for an n x n matrix), they form a basis for the vector space.\n",
    "Any vector in the space can be represented as a linear combination of these eigenvectors.\n",
    "Multiplying both sides by the matrix A results in a combination of scaled eigenvectors (due to eigenvalues).\n",
    "By arranging the eigenvectors as columns of V and eigenvalues on the diagonal of Λ, we achieve the eigen-decomposition: A = VΛV^-1."
   ]
  },
  {
   "cell_type": "code",
   "execution_count": null,
   "id": "bcdd8e3e-d414-4afe-a01b-48f5eed2cad0",
   "metadata": {},
   "outputs": [],
   "source": []
  },
  {
   "cell_type": "code",
   "execution_count": null,
   "id": "ae60ec6e-50dc-435f-a2da-1be3e552b880",
   "metadata": {},
   "outputs": [],
   "source": []
  },
  {
   "cell_type": "code",
   "execution_count": null,
   "id": "fd89d6ed-fec2-4c17-9ce6-f9bacd4ca05f",
   "metadata": {},
   "outputs": [],
   "source": [
    "Q4. What is the significance of the spectral theorem in the context of the Eigen-Decomposition approach?\n",
    "How is it related to the diagonalizability of a matrix? Explain with an example."
   ]
  },
  {
   "cell_type": "code",
   "execution_count": null,
   "id": "57ea041d-bacc-42e3-bb21-3024d36dc31b",
   "metadata": {},
   "outputs": [],
   "source": [
    "The spectral theorem states that a real symmetric or complex normal matrix can be completely diagonalized using an orthonormal\n",
    "basis of eigenvectors. In simpler terms, these matrices have a full set of independent eigenvectors allowing for complete eigen-decomposition.\n",
    "\n",
    "Example:\n",
    "A symmetric matrix representing vibration modes would have independent eigenvectors corresponding to the directions of vibration, \n",
    "and the eigenvalues would represent the frequencies of those vibrations.\n",
    "\n"
   ]
  },
  {
   "cell_type": "code",
   "execution_count": null,
   "id": "4c307d3a-c3c2-4a74-a11f-956dc24f05d3",
   "metadata": {},
   "outputs": [],
   "source": [
    "\n",
    "Q5. How do you find the eigenvalues of a matrix and what do they represent?"
   ]
  },
  {
   "cell_type": "code",
   "execution_count": null,
   "id": "918f7a40-b686-47f3-b59e-0ba90001d1b6",
   "metadata": {},
   "outputs": [],
   "source": [
    "To find eigenvalues, you need to solve the characteristic equation:\n",
    "det(A - λI) = 0"
   ]
  },
  {
   "cell_type": "code",
   "execution_count": null,
   "id": "c427383a-2a54-468a-a228-e952aa9122c8",
   "metadata": {},
   "outputs": [],
   "source": []
  },
  {
   "cell_type": "code",
   "execution_count": null,
   "id": "8cf2f8c5-1660-491e-bb8f-3a6c596a7df4",
   "metadata": {},
   "outputs": [],
   "source": [
    "Q6. What are eigenvectors and how are they related to eigenvalues?"
   ]
  },
  {
   "cell_type": "code",
   "execution_count": null,
   "id": "45accc8d-6644-4a8b-88a9-b2a5ea120fd3",
   "metadata": {},
   "outputs": [],
   "source": [
    "For a non-zero eigenvalue λ, the corresponding eigenvector v satisfies the equation:\n",
    "\n",
    "Av = λv\n",
    "This implies the matrix A stretches or shrinks v by λ while preserving its direction."
   ]
  },
  {
   "cell_type": "code",
   "execution_count": null,
   "id": "3164fba1-9868-45bf-ac9a-8197d4dd5ac7",
   "metadata": {},
   "outputs": [],
   "source": []
  },
  {
   "cell_type": "code",
   "execution_count": null,
   "id": "57025494-7afa-4850-aac8-73f72c6b1c30",
   "metadata": {},
   "outputs": [],
   "source": [
    "\n",
    "\n",
    "Q9. Can a matrix have more than one set of eigenvectors and eigenvalues?\n",
    "Q10. In what ways is the Eigen-Decomposition approach useful in data analysis and machine learning?\n",
    "Discuss at least three specific applications or techniques that rely on Eigen-Decomposition."
   ]
  },
  {
   "cell_type": "code",
   "execution_count": null,
   "id": "d5d82bfe-672f-4067-99ca-52ecf714bef8",
   "metadata": {},
   "outputs": [],
   "source": [
    "\n",
    "Q7. Can you explain the geometric interpretation of eigenvectors and eigenvalues?"
   ]
  },
  {
   "cell_type": "code",
   "execution_count": null,
   "id": "ed2cf686-c8d9-4a73-bcd7-d7385dab138a",
   "metadata": {},
   "outputs": [],
   "source": [
    "Imagine a transformation represented by a matrix. Eigenvectors point in directions where the transformation only scales the vector's magnitude,\n",
    "not its orientation. The corresponding eigenvalue tells you the scaling factor."
   ]
  },
  {
   "cell_type": "code",
   "execution_count": null,
   "id": "6ea2dd99-3517-48d2-abdd-df0e52e07c84",
   "metadata": {},
   "outputs": [],
   "source": []
  },
  {
   "cell_type": "code",
   "execution_count": null,
   "id": "b6b0e08c-2f7a-4850-b09a-f17cfbb4a70f",
   "metadata": {},
   "outputs": [],
   "source": [
    "\n",
    "Q8. What are some real-world applications of eigen decomposition?"
   ]
  },
  {
   "cell_type": "code",
   "execution_count": null,
   "id": "43c37a5f-a9da-4c1a-84df-6a61529e143d",
   "metadata": {},
   "outputs": [],
   "source": [
    "Real-World Applications:\n",
    "\n",
    "Eigen-decomposition has applications in various fields:\n",
    "\n",
    "Image compression (PCA): It helps identify the principal components of an image, allowing for efficient storage by discarding less important information.\n",
    "Signal processing: It can be used to filter out noise in signals by separating desired components from unwanted ones.\n",
    "Data analysis (Dimensionality reduction): It helps reduce the dimensionality of data sets by identifying the most significant directions of variation."
   ]
  }
 ],
 "metadata": {
  "kernelspec": {
   "display_name": "Python 3 (ipykernel)",
   "language": "python",
   "name": "python3"
  },
  "language_info": {
   "codemirror_mode": {
    "name": "ipython",
    "version": 3
   },
   "file_extension": ".py",
   "mimetype": "text/x-python",
   "name": "python",
   "nbconvert_exporter": "python",
   "pygments_lexer": "ipython3",
   "version": "3.10.8"
  }
 },
 "nbformat": 4,
 "nbformat_minor": 5
}
