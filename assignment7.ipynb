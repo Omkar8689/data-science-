{
 "cells": [
  {
   "cell_type": "markdown",
   "id": "4463537b-7aee-474b-bc7a-242b14c2669d",
   "metadata": {},
   "source": [
    "Q1. What is an Exception in python? Write the difference between Exceptions and syntax errors"
   ]
  },
  {
   "cell_type": "markdown",
   "id": "a510438a-e53c-4b6c-96d3-944a33282718",
   "metadata": {},
   "source": [
    "Exception in python is the technique in pythonn by which if we are not sure about the function or method  then we use try and except. In this if the function or code doesnot get executed(present in try) even though the code which is in the except will be executed.\n",
    "\n",
    "Exeception means if the code present in the try does not get executed then even though the code in the exception will be executed.There has the posibility that code will execute.\n",
    "\n",
    "In syntax error there is the problem present which is about the syntax that is there should be present the indentation error,spell mistake and also some runtime errors.If this errors occurs then  the code will not be executed\n"
   ]
  },
  {
   "cell_type": "code",
   "execution_count": null,
   "id": "22b5d038-2ae1-4314-aa31-10d9ce9d7fee",
   "metadata": {},
   "outputs": [],
   "source": []
  },
  {
   "cell_type": "markdown",
   "id": "1927ab6a-2aa6-43c4-908c-ac05bac4d232",
   "metadata": {},
   "source": [
    "Q2. What happens when exeception is not handled? Explain with example "
   ]
  },
  {
   "cell_type": "markdown",
   "id": "62bf711a-a65a-42c3-a4a8-4c9003ce2034",
   "metadata": {},
   "source": [
    "Sometimes there is an possibility that our code will not get execute so we use the exception.If we cant use the exception then there is the possibility that the error will come"
   ]
  },
  {
   "cell_type": "code",
   "execution_count": 1,
   "id": "d645c8ac-bf7b-4218-a9a4-528a48605652",
   "metadata": {},
   "outputs": [
    {
     "name": "stdout",
     "output_type": "stream",
     "text": [
      "This is our code\n"
     ]
    }
   ],
   "source": [
    "try:\n",
    "    5/0\n",
    "except Exception as e:\n",
    "    print(\"This is our code\")"
   ]
  },
  {
   "cell_type": "raw",
   "id": "37b1a5c8-aafe-4456-995a-6cffcf923c31",
   "metadata": {},
   "source": [
    "as you can see that if there is not try present then there will come \n",
    "an error.As we used the try in their so that error will not be granted"
   ]
  },
  {
   "cell_type": "code",
   "execution_count": null,
   "id": "73be73d0-255a-47ba-bc32-e5b7e51c37c8",
   "metadata": {},
   "outputs": [],
   "source": []
  },
  {
   "cell_type": "markdown",
   "id": "b9d18369-38a4-4975-a5ed-22bc25defc32",
   "metadata": {},
   "source": [
    "Q3. Which Python statements are used to catch and handle exception in python.Explain with example"
   ]
  },
  {
   "cell_type": "raw",
   "id": "e2976737-3ccb-4b75-ab68-be878c01b0c7",
   "metadata": {},
   "source": [
    "Following are the statements are used to catch and handle exception in python\n",
    "try:\n",
    "    # Code that may raise an exception\n",
    "except ExceptionType:\n",
    "    # Code to handle the exception of type ExceptionType\n",
    "else:\n",
    "    # Code that executes if no exception occurred in the try block\n",
    "finally:\n",
    "    # Code that always executes, regardless of whether an exception occurred or not"
   ]
  },
  {
   "cell_type": "code",
   "execution_count": 2,
   "id": "0c74dd3f-cb89-43b2-85a8-f9be20d69b55",
   "metadata": {},
   "outputs": [
    {
     "name": "stdout",
     "output_type": "stream",
     "text": [
      "This is our code\n",
      "This is our platform\n"
     ]
    }
   ],
   "source": [
    "try:\n",
    "    5/0\n",
    "except Exception as e:\n",
    "    print(\"This is our code\")\n",
    "else:\n",
    "    print(\"This is my program\")\n",
    "finally:\n",
    "    print(\"This is our platform\")"
   ]
  },
  {
   "cell_type": "code",
   "execution_count": null,
   "id": "923c3df3-f44b-45d7-98f1-38e20cec3d88",
   "metadata": {},
   "outputs": [],
   "source": [
    "As you can see that as try does not executed the exception and finally\n",
    "got executed.If the try will execute then else also will execute"
   ]
  },
  {
   "cell_type": "code",
   "execution_count": 3,
   "id": "017276f0-19c4-4545-a279-c1f33d8fab8c",
   "metadata": {},
   "outputs": [
    {
     "name": "stdout",
     "output_type": "stream",
     "text": [
      "This is my program\n",
      "This is our platform\n"
     ]
    }
   ],
   "source": [
    "try:\n",
    "    5/4\n",
    "except Exception as e:\n",
    "    print(\"This is our code\")\n",
    "else:\n",
    "    print(\"This is my program\")\n",
    "finally:\n",
    "    print(\"This is our platform\")"
   ]
  },
  {
   "cell_type": "code",
   "execution_count": null,
   "id": "4e2ae5fc-b38d-4b2d-876c-eb60c55215e2",
   "metadata": {},
   "outputs": [],
   "source": []
  },
  {
   "cell_type": "raw",
   "id": "d6a6afab-83ac-4dbe-8214-899ae3e314f8",
   "metadata": {},
   "source": [
    "Q4. Explain with example:\n",
    "    try and else\n",
    "    finally\n",
    "    raise\n",
    "    "
   ]
  },
  {
   "cell_type": "markdown",
   "id": "191128b5-974f-47b0-bcbb-30ca613db742",
   "metadata": {},
   "source": [
    "try:\n",
    "    # Code that may raise an exception\n",
    "except ExceptionType:\n",
    "    # Code to handle the exception of type ExceptionType\n",
    "else:\n",
    "    # Code that executes if no exception occurred in the try block\n",
    "finally:\n",
    "    # Code that always executes, regardless of whether an exception occurred or not\n",
    "raise:\n",
    "    # Used to  raise the error"
   ]
  },
  {
   "cell_type": "code",
   "execution_count": 4,
   "id": "ec0046f2-145f-4611-8395-239b2643cbc1",
   "metadata": {},
   "outputs": [
    {
     "name": "stdout",
     "output_type": "stream",
     "text": [
      "This is my program\n"
     ]
    }
   ],
   "source": [
    "try:\n",
    "    5/4\n",
    "except Exception as e:\n",
    "    print(\"This is our code\")\n",
    "else:\n",
    "    print(\"This is my program\")"
   ]
  },
  {
   "cell_type": "code",
   "execution_count": 5,
   "id": "377748ec-858f-4b0b-981e-9accc07cc8c0",
   "metadata": {},
   "outputs": [
    {
     "name": "stdout",
     "output_type": "stream",
     "text": [
      "This is our platform\n"
     ]
    }
   ],
   "source": [
    "try:\n",
    "    5/4\n",
    "except Exception as e:\n",
    "    print(\"This is our code\")\n",
    "finally:\n",
    "    print(\"This is our platform\")"
   ]
  },
  {
   "cell_type": "code",
   "execution_count": 6,
   "id": "38e10620-6846-4b6f-bde4-75a964828024",
   "metadata": {},
   "outputs": [],
   "source": [
    "def check_age(age):\n",
    "    if age < 0:\n",
    "        raise ValueError(\"Age cannot be negative.\")\n",
    "    elif age < 18:\n",
    "        raise ValueError(\"You must be at least 18 years old.\")\n"
   ]
  },
  {
   "cell_type": "code",
   "execution_count": 10,
   "id": "dbf7942b-19a0-4c0c-a8ec-b1607bc6ef0f",
   "metadata": {},
   "outputs": [
    {
     "ename": "ValueError",
     "evalue": "You must be at least 18 years old.",
     "output_type": "error",
     "traceback": [
      "\u001b[0;31m---------------------------------------------------------------------------\u001b[0m",
      "\u001b[0;31mValueError\u001b[0m                                Traceback (most recent call last)",
      "Cell \u001b[0;32mIn[10], line 1\u001b[0m\n\u001b[0;32m----> 1\u001b[0m \u001b[43mcheck_age\u001b[49m\u001b[43m(\u001b[49m\u001b[38;5;241;43m12\u001b[39;49m\u001b[43m)\u001b[49m\n",
      "Cell \u001b[0;32mIn[6], line 5\u001b[0m, in \u001b[0;36mcheck_age\u001b[0;34m(age)\u001b[0m\n\u001b[1;32m      3\u001b[0m     \u001b[38;5;28;01mraise\u001b[39;00m \u001b[38;5;167;01mValueError\u001b[39;00m(\u001b[38;5;124m\"\u001b[39m\u001b[38;5;124mAge cannot be negative.\u001b[39m\u001b[38;5;124m\"\u001b[39m)\n\u001b[1;32m      4\u001b[0m \u001b[38;5;28;01melif\u001b[39;00m age \u001b[38;5;241m<\u001b[39m \u001b[38;5;241m18\u001b[39m:\n\u001b[0;32m----> 5\u001b[0m     \u001b[38;5;28;01mraise\u001b[39;00m \u001b[38;5;167;01mValueError\u001b[39;00m(\u001b[38;5;124m\"\u001b[39m\u001b[38;5;124mYou must be at least 18 years old.\u001b[39m\u001b[38;5;124m\"\u001b[39m)\n",
      "\u001b[0;31mValueError\u001b[0m: You must be at least 18 years old."
     ]
    }
   ],
   "source": [
    "check_age(12)"
   ]
  },
  {
   "cell_type": "code",
   "execution_count": null,
   "id": "bb43f9ca-5c31-4666-88ad-db0e8f8731b6",
   "metadata": {},
   "outputs": [],
   "source": []
  },
  {
   "cell_type": "raw",
   "id": "05525b04-8127-45e4-a9d9-e58659c46ea7",
   "metadata": {},
   "source": [
    "what are the custom  exception in python.Why we need custom exceptions. Explain with example"
   ]
  },
  {
   "cell_type": "markdown",
   "id": "f78d8743-191a-476f-b5bb-00554f396cda",
   "metadata": {},
   "source": [
    "Custom exceptions in Python are user-defined exceptions that allow you to create your own exception classes to handle specific error scenarios in your code. By defining custom exceptions, you can provide more meaningful and \n",
    "descriptive error messages tailored to your application's needs. \n",
    "\n",
    "Reasons for using custom exceptions:\n",
    "\n",
    "Specificity: Custom exceptions help differentiate between different types of errors in your application. Instead of using generic built-in exceptions like ValueError or TypeError, you can create custom exceptions with names that directly relate to the problem domain of your application.\n",
    "\n",
    "Clarity: Custom exceptions provide clearer error messages that explain what went wrong and why. This aids in debugging and maintaining the codebase, as developers can quickly understand the context of the error.\n",
    "\n",
    "Extensibility: You can create a hierarchy of custom exceptions to represent different levels of errors. This allows you to catch specific exception types and handle them accordingly, making your code more robust."
   ]
  },
  {
   "cell_type": "code",
   "execution_count": null,
   "id": "e7f0f63d-4d3e-48c7-8c00-8a0f82c3f842",
   "metadata": {},
   "outputs": [],
   "source": []
  },
  {
   "cell_type": "code",
   "execution_count": null,
   "id": "2ae11898-fc08-4b3a-81b4-452ee99aa2b8",
   "metadata": {},
   "outputs": [],
   "source": [
    "Q6. Create custom exceptionss. Use this ,clAss to h\n",
    "ndle\n",
    "n ex,eption."
   ]
  }
 ],
 "metadata": {
  "kernelspec": {
   "display_name": "Python 3 (ipykernel)",
   "language": "python",
   "name": "python3"
  },
  "language_info": {
   "codemirror_mode": {
    "name": "ipython",
    "version": 3
   },
   "file_extension": ".py",
   "mimetype": "text/x-python",
   "name": "python",
   "nbconvert_exporter": "python",
   "pygments_lexer": "ipython3",
   "version": "3.10.8"
  }
 },
 "nbformat": 4,
 "nbformat_minor": 5
}
