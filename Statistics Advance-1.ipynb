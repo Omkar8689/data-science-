{
 "cells": [
  {
   "cell_type": "raw",
   "id": "435f20a0-db31-4ba7-8969-41f40a00c91c",
   "metadata": {},
   "source": [
    "Q1. What is the Probability density function?"
   ]
  },
  {
   "cell_type": "raw",
   "id": "0afff85c-1a8c-44ab-928d-bcd43cca683c",
   "metadata": {},
   "source": [
    "The Probability Density Function(PDF) defines the probability function representing the density of a continuous random variable lying between a specific range of values. In other words, the probability density function produces the likelihood of values of the continuous random variable."
   ]
  },
  {
   "cell_type": "code",
   "execution_count": null,
   "id": "236322d4-7ef1-4b09-b304-41792092e259",
   "metadata": {},
   "outputs": [],
   "source": []
  },
  {
   "cell_type": "markdown",
   "id": "35bfbf54-4f2f-4d2e-8962-8be0e9c5d043",
   "metadata": {},
   "source": [
    "Q2. What are the types of Probability distribution?"
   ]
  },
  {
   "cell_type": "raw",
   "id": "0ff1bff0-d016-4a64-8c73-2fd408eab629",
   "metadata": {},
   "source": [
    "Types of Probability Distribution\n",
    "The probability distribution is divided into two parts:\n",
    "\n",
    "1.Discrete Probability Distributions\n",
    "2.Continuous Probability Distributions\n",
    "\n",
    "1).Discrete Probability Distribution\n",
    "        A discrete distribution describes the probability of occurrence of each value of a discrete random variable. The number of spoiled apples out of 6 in your refrigerator can be an example of a discrete probability distribution.\n",
    "\n",
    "Each possible value of the discrete random variable can be associated with a non-zero probability in a discrete probability distribution.\n",
    "\n",
    "\n",
    "**  Binomial Distribution\n",
    "The binomial distribution is a discrete distribution with a finite number of possibilities. When observing a series of what are known as Bernoulli trials, the binomial distribution emerges. A Bernoulli trial is a scientific experiment with only two outcomes: success or failure.\n",
    "\n",
    "** Poisson Distribution\n",
    "A Poisson distribution is a probability distribution used in statistics to show how many times an event is likely to happen over a given period of time. To put it another way, it's a count distribution. Poisson distributions are frequently used to comprehend independent events at a constant rate over a given time interval. Siméon Denis Poisson, a French mathematician, was the inspiration for the name.\n",
    "\n",
    "\n",
    "** Normal Distribution\n",
    "Normal Distribution is one of the most basic continuous distribution types. Gaussian distribution is another name for it. Around its mean value, this probability distribution is symmetrical. It also demonstrates that data close to the mean occurs more frequently than data far from it. Here, the mean is 0, and the variance is a finite value."
   ]
  },
  {
   "cell_type": "code",
   "execution_count": null,
   "id": "c3683ce7-0043-4676-b19e-878d02686dc5",
   "metadata": {},
   "outputs": [],
   "source": []
  },
  {
   "cell_type": "raw",
   "id": "6ae36272-c59d-465e-857b-a3273e561dda",
   "metadata": {},
   "source": [
    "Q3. Write a Python function to calculate the probability density function of a normal distribution with\n",
    "given mean and standard deviation at a given point."
   ]
  },
  {
   "cell_type": "code",
   "execution_count": null,
   "id": "7e026902-c6c8-41f3-802d-89744e22079c",
   "metadata": {},
   "outputs": [],
   "source": [
    "import math\n",
    "\n",
    "def normal_pdf(x, mean, std_dev):\n",
    "   \n",
    "    if std_dev <= 0:\n",
    "        raise ValueError(\"Standard deviation must be positive\")\n",
    "    \n",
    "    coefficient = 1 / (std_dev * math.sqrt(2 * math.pi))\n",
    "    exponent = -((x - mean) ** 2) / (2 * std_dev ** 2)\n",
    "    pdf = coefficient * math.exp(exponent)\n",
    "    \n",
    "    return pdf\n",
    "\n",
    "\n",
    "\n"
   ]
  },
  {
   "cell_type": "code",
   "execution_count": null,
   "id": "ab42b284-0689-4a57-8aca-f0366064374c",
   "metadata": {},
   "outputs": [],
   "source": []
  },
  {
   "cell_type": "raw",
   "id": "240b4d63-26af-46d9-b54e-2b645099124a",
   "metadata": {},
   "source": [
    "Q4. What are the properties of Binomial distribution? Give two examples of events where binomial\n",
    "distribution can be applied."
   ]
  },
  {
   "cell_type": "raw",
   "id": "449fa556-8a1b-4c9c-9c7d-073ef0d7ab05",
   "metadata": {},
   "source": [
    "Binomial Distribution Properties\n",
    "The properties of Binomial Distribution are mentioned below:\n",
    "\n",
    "There are only two possible outcomes: success or failure, yes or no, true or false.\n",
    "There is a finite number of trials given as ‘n’\n",
    "The probability of success and failure in each trial is the same\n",
    "Only Success is calculated out of all trials\n",
    "Each trial is independent of any other trial\n",
    "\n",
    "\n",
    "examples-1.Tossing a coin\n",
    "        2.Giving an answer of mcq question.It will be correct that is true or wrong that is false."
   ]
  },
  {
   "cell_type": "code",
   "execution_count": null,
   "id": "179ec6f1-cea8-4822-88d7-8c0e87e28e95",
   "metadata": {},
   "outputs": [],
   "source": []
  },
  {
   "cell_type": "markdown",
   "id": "9485d8da-35d1-4e0c-aa0f-14198737ba29",
   "metadata": {},
   "source": [
    "Q5. Generate a random sample of size 1000 from a binomial distribution with probability of success 0.4\n",
    "and plot a histogram of the results using matplotlib."
   ]
  },
  {
   "cell_type": "code",
   "execution_count": null,
   "id": "ad4609b6-d584-42f6-8cb3-eac1bb7e459d",
   "metadata": {},
   "outputs": [],
   "source": []
  },
  {
   "cell_type": "code",
   "execution_count": 2,
   "id": "73e37457-97de-40b7-a7d6-eec1b49be654",
   "metadata": {},
   "outputs": [
    {
     "data": {
      "image/png": "[encoded data removed]",
      "text/plain": [
       "<Figure size 640x480 with 1 Axes>"
      ]
     },
     "metadata": {},
     "output_type": "display_data"
    }
   ],
   "source": [
    "import numpy as np\n",
    "import matplotlib.pyplot as plt\n",
    "\n",
    "\n",
    "n = 1000 \n",
    "p = 0.4   \n",
    "\n",
    "\n",
    "random_sample = np.random.binomial(n, p, size=1000)\n",
    "plt.hist(random_sample, bins=20, edgecolor='black')\n",
    "plt.xlabel('Number of Successes')\n",
    "plt.ylabel('Frequency')\n",
    "plt.title('Binomial Distribution (n=1000, p=0.4)')\n",
    "plt.show()\n"
   ]
  },
  {
   "cell_type": "code",
   "execution_count": null,
   "id": "9d71fe81-2f87-4519-8b9f-3a0c42faab64",
   "metadata": {},
   "outputs": [],
   "source": []
  },
  {
   "cell_type": "raw",
   "id": "d3f3a57c-0b78-4d21-b619-c5a2b1058e0c",
   "metadata": {},
   "source": [
    "Q6. Write a Python function to calculate the cumulative distribution function of a Poisson distribution\n",
    "with given mean at a given point."
   ]
  },
  {
   "cell_type": "code",
   "execution_count": null,
   "id": "66d74a04-307a-44cd-a549-462b2d6517a0",
   "metadata": {},
   "outputs": [],
   "source": []
  },
  {
   "cell_type": "code",
   "execution_count": null,
   "id": "0a6848f0-e6a0-4097-99fc-c4b12d81763f",
   "metadata": {},
   "outputs": [],
   "source": []
  },
  {
   "cell_type": "code",
   "execution_count": null,
   "id": "2ca092b8-deff-4673-88bc-82b8815877b6",
   "metadata": {},
   "outputs": [],
   "source": [
    "import math\n",
    "\n",
    "def poisson_cdf(mean, k):\n",
    "  \n",
    "    if k < 0:\n",
    "        return 0.0\n",
    "\n",
    "    cdf = 0.0\n",
    "    for i in range(k + 1):\n",
    "        cdf += (math.exp(-mean) * mean**i) / math.factorial(i)\n",
    "\n",
    "    return cdf\n",
    "\n"
   ]
  },
  {
   "cell_type": "code",
   "execution_count": null,
   "id": "1cf6692e-1806-46f1-acab-40aa48e10dbd",
   "metadata": {},
   "outputs": [],
   "source": []
  },
  {
   "cell_type": "raw",
   "id": "ba81d411-f746-4217-a4ec-2818bb7d0fe4",
   "metadata": {},
   "source": [
    "Q7. How Binomial distribution different from Poisson distribution?"
   ]
  },
  {
   "cell_type": "raw",
   "id": "e1261a03-9e57-4a08-bc76-7c62d5bad3a1",
   "metadata": {},
   "source": [
    "Nature of Events:\n",
    "Binomial Distribution: The Binomial distribution is used to model the number of successes (usually denoted as \"k\") in a fixed number of independent Bernoulli trials (experiments with two possible outcomes: success or failure). Each trial has the same probability of success (denoted as \"p\").\n",
    "\n",
    "Poisson Distribution: The Poisson distribution is used to model the number of events (such as arrivals, occurrences, or counts) in a fixed interval of time or space when the events are rare and random. It does not involve a fixed number of trials like the Binomial distribution.\n",
    "\n",
    "Number of Trials:\n",
    "Binomial Distribution: The Binomial distribution is associated with a fixed number of trials (n) that are independent and identical. You are interested in the number of successes within these n trials.\n",
    "\n",
    "Poisson Distribution: The Poisson distribution does not specify a fixed number of trials. It deals with events occurring over a continuous interval, and the number of events is not predetermined.\n",
    "\n",
    "Parameters:\n",
    "Binomial Distribution: The Binomial distribution is parameterized by two values: the number of trials (n) and the probability of success (p) on each trial.\n",
    "\n",
    "Poisson Distribution: The Poisson distribution is parameterized by a single value, the average rate (λ) at which events occur in a fixed interval.\n",
    "\n",
    "Shape:\n",
    "Binomial Distribution: The shape of the Binomial distribution can vary depending on the values of n and p. It can be symmetric or skewed, with a peak at or near the mean (np).\n",
    "\n",
    "Poisson Distribution: The Poisson distribution is often right-skewed and is characterized by a longer tail on the right side. It becomes increasingly close to a normal distribution as λ (the mean) increases.\n",
    "\n",
    "Applicability:\n",
    "Binomial Distribution: It is used when there is a fixed number of trials, and you are interested in the number of successes among those trials. Common examples include coin flips, pass/fail experiments, and the probability of success in a fixed number of trials.\n",
    "\n",
    "Poisson Distribution: It is used when events occur randomly over time or space, and you want to model the number of events in a given interval. Common examples include modeling the number of customer arrivals at a store in an hour, the number of accidents on a highway in a day, or the number of emails received in an hour."
   ]
  },
  {
   "cell_type": "code",
   "execution_count": null,
   "id": "dd977ea7-078e-45df-a572-ac111d988fbb",
   "metadata": {},
   "outputs": [],
   "source": []
  },
  {
   "cell_type": "raw",
   "id": "b176f6ee-dbf4-4f92-8906-6a16543f81b0",
   "metadata": {},
   "source": [
    "Q8. Generate a random sample of size 1000 from a Poisson distribution with mean 5 and calculate the\n",
    "sample mean and variance."
   ]
  },
  {
   "cell_type": "code",
   "execution_count": 9,
   "id": "600c65d0-957d-44f6-9bc4-d5534acc1e6c",
   "metadata": {},
   "outputs": [
    {
     "name": "stdout",
     "output_type": "stream",
     "text": [
      "4.941\n",
      "5.265518999999999\n"
     ]
    }
   ],
   "source": [
    "import numpy as np\n",
    "\n",
    "mean=5\n",
    "sample=1000\n",
    "\n",
    "random_sample = np.random.poisson(mean, size=sample)\n",
    "\n",
    "sample_mean = np.mean(random_sample)\n",
    "sample_variance = np.var(random_sample, ddof=0) \n",
    "\n",
    "print(sample_mean)\n",
    "print(sample_variance)\n"
   ]
  },
  {
   "cell_type": "code",
   "execution_count": null,
   "id": "9e33a5be-fec8-4584-91e2-8570d39b3262",
   "metadata": {},
   "outputs": [],
   "source": []
  },
  {
   "cell_type": "raw",
   "id": "bc809b96-4fea-4afb-9a18-c97340aeb2d8",
   "metadata": {},
   "source": [
    "Q9. How mean and variance are related in Binomial distribution and Poisson distribution?"
   ]
  },
  {
   "cell_type": "raw",
   "id": "15a43c22-b642-46ec-be5d-1d24e365510a",
   "metadata": {},
   "source": [
    "The relationship between the mean and variance in a Binomial distribution is such that as the probability of success (p) increases or decreases while keeping the number of trials (n) constant, the variance also changes accordingly. \n",
    "\n",
    "\n",
    "In the Poisson distribution, the mean and variance are equal, and they are both represented by the parameter λ. This means that in a Poisson distribution, the spread of the distribution is directly related to its mean. The larger the mean (λ), the larger the variance, and vice versa."
   ]
  },
  {
   "cell_type": "code",
   "execution_count": null,
   "id": "5a8669cf-7b84-44f3-b9d3-586b6553045e",
   "metadata": {},
   "outputs": [],
   "source": []
  },
  {
   "cell_type": "raw",
   "id": "5a623370-d3be-4103-aa91-d229c899bed2",
   "metadata": {},
   "source": [
    "Q10. In normal distribution with respect to mean position, where does the least frequent data appear?"
   ]
  },
  {
   "cell_type": "raw",
   "id": "c3337880-bd57-4f1d-bd6e-225432ecc9cb",
   "metadata": {},
   "source": [
    "In a normal distribution, also known as a Gaussian distribution or bell curve, the least frequent data points appear in the tails of the distribution, farthest from the mean.\n",
    "\n",
    "Specifically:\n",
    "\n",
    "Left Tail: The left tail represents data points that are significantly below the mean. These are the data points on the left-hand side of the mean (toward the negative side of the x-axis). In a standard normal distribution (with a mean of 0 and a standard deviation of 1), the left tail includes the values from negative infinity up to the mean. In practical applications, data points in the left tail represent values that are much lower than the mean and are less frequent in the dataset.\n",
    "\n",
    "Right Tail: The right tail represents data points that are significantly above the mean. These are the data points on the right-hand side of the mean (toward the positive side of the x-axis). In a standard normal distribution, the right tail includes the values from the mean up to positive infinity. Data points in the right tail represent values that are much higher than the mean and are also less frequent in the dataset."
   ]
  }
 ],
 "metadata": {
  "kernelspec": {
   "display_name": "Python 3 (ipykernel)",
   "language": "python",
   "name": "python3"
  },
  "language_info": {
   "codemirror_mode": {
    "name": "ipython",
    "version": 3
   },
   "file_extension": ".py",
   "mimetype": "text/x-python",
   "name": "python",
   "nbconvert_exporter": "python",
   "pygments_lexer": "ipython3",
   "version": "3.10.8"
  }
 },
 "nbformat": 4,
 "nbformat_minor": 5
}
