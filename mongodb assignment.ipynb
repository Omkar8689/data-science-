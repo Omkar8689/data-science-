{
 "cells": [
  {
   "cell_type": "markdown",
   "id": "daf13512-bfcc-4a25-a9e2-04960a9d9642",
   "metadata": {},
   "source": [
    "Q1. What is MongoDB? Explain non-relational databases in short. In which scenarios it is preferred to use\n",
    "MongoDB over SQL databases?"
   ]
  },
  {
   "cell_type": "raw",
   "id": "962e657f-9298-480a-ae89-a99877d5f087",
   "metadata": {},
   "source": [
    "\n",
    "MongoDB is a popular non-relational, document-oriented database management system.\n",
    "It falls under the category of NoSQL databases, which means \"Not Only SQL.\"\n",
    "MongoDB stores data in a flexible and schema-less manner\n",
    "\n",
    "Scenarios where MongoDB is preferred over SQL databases:\n",
    "\n",
    "Unstructured or semi-structured data: MongoDB is well-suited for scenarios \n",
    "where the data doesn't have a fixed schema, as it allows developers to store and update \n",
    "data without a rigid structure.\n",
    "\n",
    "Agile and iterative development: MongoDB's schema flexibility makes it easier to\n",
    "accommodate changes to data models during the development process, making it suitable \n",
    "for agile development practices.\n",
    "\n",
    "Scalability: MongoDB's ability to scale horizontally makes it a good choice for applications that need to handle significant amounts of data and require high read and write throughput.\n",
    "\n",
    "High-performance applications: MongoDB's design allows for faster read and write operations, making it suitable for applications that demand low latency and high-speed data access.\n",
    "\n",
    "Real-time analytics: MongoDB's document-oriented nature allows it to handle complex and nested data structures, making it efficient for real-time analytics and data processing.\n",
    "\n",
    "Geospatial data: MongoDB has built-in support for geospatial queries, making it a popular choice for location-based applications.\n",
    "\n",
    "Cloud-based\n"
   ]
  },
  {
   "cell_type": "code",
   "execution_count": null,
   "id": "dc8385c8-e203-4535-b07d-772361273ffe",
   "metadata": {},
   "outputs": [],
   "source": []
  },
  {
   "cell_type": "code",
   "execution_count": null,
   "id": "e23a6d2b-19f8-494c-b8f3-87df0ad53eb9",
   "metadata": {},
   "outputs": [],
   "source": []
  },
  {
   "cell_type": "raw",
   "id": "3942af28-b6fa-42d0-bd7f-c75abd387613",
   "metadata": {},
   "source": [
    "Q2. State and Explain the features of MongoDB."
   ]
  },
  {
   "cell_type": "markdown",
   "id": "01b11bee-450b-478b-b567-d3fca628df06",
   "metadata": {},
   "source": [
    "Document-Oriented:\n",
    "MongoDB is a document-oriented database, which means it stores data in JSON-like documents rather than traditional rows and columns. These documents can have varying structures, providing flexibility to store complex and nested data.\n",
    "\n",
    "Dynamic Schema:\n",
    "MongoDB has a dynamic schema, allowing documents in a collection to have different fields and data types. This schema flexibility simplifies data modeling and accommodates changes in the data structure without downtime or migrations.\n",
    "\n",
    "High Scalability:\n",
    "MongoDB supports horizontal scaling, allowing data to be distributed across multiple servers or nodes. This ensures better performance and the ability to handle large amounts of data and high-throughput applications.\n",
    "\n",
    "High Availability:\n",
    "MongoDB provides automatic replication through replica sets, ensuring data redundancy and fault tolerance. If a primary node fails, a secondary node can automatically take over, minimizing downtime.\n",
    "\n",
    "Indexing:\n",
    "MongoDB supports various types of indexes, including single-field, compound, geospatial, and text indexes. Indexes enhance query performance, allowing faster retrieval of data.\n",
    "\n",
    "Flexible Query Language:\n",
    "MongoDB uses a rich query language that supports complex queries, including field-level queries, range queries, geospatial queries, and regular expression searches. This flexibility enables powerful data retrieval and filtering."
   ]
  },
  {
   "cell_type": "code",
   "execution_count": null,
   "id": "aa72624a-9278-4222-a230-f8bc27443ad4",
   "metadata": {},
   "outputs": [],
   "source": []
  },
  {
   "cell_type": "raw",
   "id": "8dd0b66e-7063-4485-88db-fe7ae148f4bf",
   "metadata": {},
   "source": [
    "Q4. Using the database and the collection created in question number 3, write a code to insert one record,\n",
    "and insert many records. Use the find() and find_one() methods to print the inserted record."
   ]
  },
  {
   "cell_type": "code",
   "execution_count": null,
   "id": "ab7e90ba-ff9f-47a3-b9d6-66e010fef81b",
   "metadata": {},
   "outputs": [],
   "source": [
    "import pymongo\n",
    "mongodb_uri = 'your_mongodb_uri'\n",
    "db_name = 'your_database_name'\n",
    "collection_name = 'your_collection_name'\n",
    "\n",
    "\n",
    "\n",
    "\n",
    "\n",
    "database = client[db_name]\n",
    "collection = database[collection_name]\n",
    "\n",
    "\n",
    "single_record = {\n",
    "    'name': 'raj',\n",
    "    'age': 12,\n",
    "}\n",
    "\n",
    "single_insert_result = collection.insert_one(single_record)\n",
    "print(f\"Inserted single record with ID: {single_insert_result.inserted_id}\")\n",
    "\n",
    "\n",
    "many_records = [\n",
    "    {\n",
    "        'name': 'raj',\n",
    "        'age': 25,\n",
    "   \n",
    "    },\n",
    "    {\n",
    "        'name': 'rohan',\n",
    "        'age': 23,\n",
    "=\n",
    "    },\n",
    "    {\n",
    "        'name': 'Ash',\n",
    "        'age': 26,\n",
    "\n",
    "    }\n",
    "]\n",
    "\n",
    "many_insert_result = collection.insert_many(many_records)\n",
    "print(f\"Inserted {len(many_insert_result.inserted_ids)} records\")\n",
    "\n",
    "\n",
    "print(\"\\nInserted Record(s):\")\n",
    "inserted_records = collection.find()\n",
    "for record in inserted_records:\n",
    "    print(record)\n",
    "\n",
    "\n",
    "print(\"\\nOne Inserted Record:\")\n",
    "one_inserted_record = collection.find_one({'name': 'raj'})\n",
    "print(one_inserted_record)\n",
    "\n",
    "\n",
    "client.close()\n"
   ]
  },
  {
   "cell_type": "code",
   "execution_count": null,
   "id": "5f58d329-ca48-44c1-841c-bd4a897ccbd3",
   "metadata": {},
   "outputs": [],
   "source": []
  },
  {
   "cell_type": "raw",
   "id": "3e38da11-0d48-4759-87e8-3c936904c805",
   "metadata": {},
   "source": [
    "Q5. Explain how you can use the find() method to query the MongoDB database. Write a simple code to\n",
    "demonstrate this."
   ]
  },
  {
   "cell_type": "raw",
   "id": "60ef9e52-c832-4102-a11b-bc68ce9d11cd",
   "metadata": {},
   "source": [
    "The find() method in MongoDB is used to query and find documents from a collection based on specified criteria. \n",
    "It allows you to search for documents that match a \n",
    "certain set of conditions, and it can return multiple matching documents."
   ]
  },
  {
   "cell_type": "code",
   "execution_count": null,
   "id": "de7bcd17-9b7a-4fb6-be13-4244153da9f3",
   "metadata": {},
   "outputs": [],
   "source": [
    "collection.find(filter, projection)\n"
   ]
  },
  {
   "cell_type": "code",
   "execution_count": null,
   "id": "2b23d344-4649-4bb2-bbc8-79a46729e5ff",
   "metadata": {},
   "outputs": [],
   "source": []
  },
  {
   "cell_type": "markdown",
   "id": "a8ccf3ce-f202-464a-903c-b2af65ad1292",
   "metadata": {},
   "source": [
    "Q6. Explain the sort() method. Give an example to demonstrate sorting in MongoDB."
   ]
  },
  {
   "cell_type": "markdown",
   "id": "47ecd949-9aad-4d9c-9bb7-96568bdd27f1",
   "metadata": {},
   "source": [
    "The sort() method in MongoDB is used to sort the documents in a collection based on one or more fields.\n",
    "It allows you to specify the sorting order as ascending or descending for each field. Sorting is particularly \n",
    "useful when you want to retrieve documents in a specific order, such as alphabetical, numerical, or based on dates.\n"
   ]
  },
  {
   "cell_type": "code",
   "execution_count": null,
   "id": "79440b9f-7e80-4384-8570-9a6097eb539e",
   "metadata": {},
   "outputs": [],
   "source": [
    "collection.find(filter).sort(sort_key, sort_order)\n"
   ]
  },
  {
   "cell_type": "code",
   "execution_count": null,
   "id": "6f64d94e-d9db-4823-a84f-933582dae016",
   "metadata": {},
   "outputs": [],
   "source": []
  },
  {
   "cell_type": "markdown",
   "id": "99f185fc-2d94-42c2-a3fe-fa0631036f74",
   "metadata": {},
   "source": [
    "Q7. Explain why delete_one(), delete_many(), and drop() is used."
   ]
  },
  {
   "cell_type": "code",
   "execution_count": null,
   "id": "9d12cb4c-92ff-4164-8028-3e9a69d4c308",
   "metadata": {},
   "outputs": [],
   "source": [
    "In MongoDB, the delete_one(), delete_many(), and drop() methods are used for different purposes to manage and remove data from collections and databases.\n",
    "\n",
    "delete_one():\n",
    "\n",
    "Purpose: The delete_one() method is used to remove a single document that matches a specific filter from a collection.\n",
    "\n",
    "\n",
    "Purpose: The delete_many() method is used to remove multiple documents that match a specific filter from a collection.\n",
    "Usage: It takes a filter as a parameter, similar to delete_one(), but it deletes all the documents that match the filter.\n",
    "Example: You can use delete_many() when you want to remove multiple records based on a specific condition, such as deleting all documents with a particular value in a field.\n",
    "drop():\n",
    "\n",
    "Purpose: The drop() method is used to remove an entire collection or database from the MongoDB server.\n",
    "Usage: It does not require any parameters. When called on a collection, it deletes the entire collection, including all documents and indexes. When called on a database, it deletes the entire database along with all its collections.\n",
    "Example: You can use drop() when you want to delete a collection or an entire database, typically when you no longer need the data stored within them.\n",
    "It's important to use these methods with caution, as they perform irreversible actions on your data. Always ensure that you have a backup or a confirmation of what you are deleting before using these methods in production environments. Additionally, be careful when using drop() as it permanently removes the entire collection or database without any recovery option.\n",
    "\n",
    "\n",
    "\n",
    "\n",
    "\n",
    "Regenerate\n"
   ]
  }
 ],
 "metadata": {
  "kernelspec": {
   "display_name": "Python 3 (ipykernel)",
   "language": "python",
   "name": "python3"
  },
  "language_info": {
   "codemirror_mode": {
    "name": "ipython",
    "version": 3
   },
   "file_extension": ".py",
   "mimetype": "text/x-python",
   "name": "python",
   "nbconvert_exporter": "python",
   "pygments_lexer": "ipython3",
   "version": "3.10.8"
  }
 },
 "nbformat": 4,
 "nbformat_minor": 5
}
