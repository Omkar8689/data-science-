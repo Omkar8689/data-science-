{
 "cells": [
  {
   "cell_type": "markdown",
   "id": "5bbc291f-4d11-43f0-9d44-6369aa397f4c",
   "metadata": {},
   "source": [
    "Q1, Create a vehicle class with an init method having instance variables as name_of_vehicle, max_speed\n",
    "and average_of_vehicle."
   ]
  },
  {
   "cell_type": "code",
   "execution_count": 24,
   "id": "dba10dac-01e8-4bab-911c-d966c027ab10",
   "metadata": {},
   "outputs": [],
   "source": [
    "class vehicle:\n",
    "    def __init__(self,name_of_vehicle, max_speed, average_of_vehicle):\n",
    "        self.name_of_vehicle= name_of_vehicle\n",
    "        self.max_speed=120\n",
    "        self.average_of_vehicle=average_of_vehicle\n",
    "        \n",
    "        \n",
    "        def display(self):\n",
    "            return name_of_vehicle"
   ]
  },
  {
   "cell_type": "code",
   "execution_count": 37,
   "id": "2c893462-8661-4bff-96ec-988e7c5f7f34",
   "metadata": {},
   "outputs": [],
   "source": [
    "obj=vehicle(\"Thar\",120,60)"
   ]
  },
  {
   "cell_type": "code",
   "execution_count": 38,
   "id": "79c2cbe3-99d4-43ec-a549-8da69e5ff838",
   "metadata": {},
   "outputs": [
    {
     "data": {
      "text/plain": [
       "'Thar'"
      ]
     },
     "execution_count": 38,
     "metadata": {},
     "output_type": "execute_result"
    }
   ],
   "source": [
    "obj.name_of_vehicle"
   ]
  },
  {
   "cell_type": "code",
   "execution_count": 39,
   "id": "40c634ec-b5c4-41b5-a76a-61a15dd74edd",
   "metadata": {},
   "outputs": [
    {
     "data": {
      "text/plain": [
       "60"
      ]
     },
     "execution_count": 39,
     "metadata": {},
     "output_type": "execute_result"
    }
   ],
   "source": [
    "obj.average_of_vehicle"
   ]
  },
  {
   "cell_type": "markdown",
   "id": "5bf51370-4c10-4441-b76a-65681d620320",
   "metadata": {},
   "source": [
    "Q2. Create a child class car from the vehicle class created in Que 1, which will inherit the vehicle class.\n",
    "Create a method named seating_capacity which takes capacity as an argument and returns the name of\n",
    "the vehicle and its seating capacity."
   ]
  },
  {
   "cell_type": "code",
   "execution_count": 87,
   "id": "e3873cb1-024f-4910-b573-905e85e1d637",
   "metadata": {},
   "outputs": [],
   "source": [
    "class car(vehicle):\n",
    "    def __init__(self,capacity):\n",
    "        self.capacity=capacity\n",
    "    \n",
    "    \n",
    "    def display(self,capacity):\n",
    "        return capacity\n",
    "        "
   ]
  },
  {
   "cell_type": "code",
   "execution_count": 88,
   "id": "225836be-a836-4dee-8ace-028065a3ad13",
   "metadata": {},
   "outputs": [],
   "source": [
    "obj=car(5)"
   ]
  },
  {
   "cell_type": "code",
   "execution_count": 89,
   "id": "4a9bdaaa-1338-4651-bc6e-feffba12a00b",
   "metadata": {},
   "outputs": [
    {
     "data": {
      "text/plain": [
       "5"
      ]
     },
     "execution_count": 89,
     "metadata": {},
     "output_type": "execute_result"
    }
   ],
   "source": [
    "obj.capacity\n"
   ]
  },
  {
   "cell_type": "code",
   "execution_count": 86,
   "id": "93634fed-938b-4935-847c-0926fa17f5a9",
   "metadata": {},
   "outputs": [
    {
     "ename": "AttributeError",
     "evalue": "'student' object has no attribute 'name_of_vehicle'",
     "output_type": "error",
     "traceback": [
      "\u001b[0;31m---------------------------------------------------------------------------\u001b[0m",
      "\u001b[0;31mAttributeError\u001b[0m                            Traceback (most recent call last)",
      "Cell \u001b[0;32mIn[86], line 1\u001b[0m\n\u001b[0;32m----> 1\u001b[0m \u001b[43mobj\u001b[49m\u001b[38;5;241;43m.\u001b[39;49m\u001b[43mname_of_vehicle\u001b[49m()\n",
      "\u001b[0;31mAttributeError\u001b[0m: 'student' object has no attribute 'name_of_vehicle'"
     ]
    }
   ],
   "source": [
    "obj.name_of_vehicle"
   ]
  },
  {
   "cell_type": "code",
   "execution_count": null,
   "id": "03c0ffc8-d97f-425f-a972-2381ba762151",
   "metadata": {},
   "outputs": [],
   "source": []
  },
  {
   "cell_type": "markdown",
   "id": "2527b084-c884-4f43-adea-23eb63c21630",
   "metadata": {},
   "source": [
    "Q3. What is multiple inheritance? Write a python code to demonstrate multiple inheritance."
   ]
  },
  {
   "cell_type": "raw",
   "id": "8339a4f7-8d37-4801-aedb-2925a1cb3596",
   "metadata": {},
   "source": [
    "Multiple inheritance is the type of inheritance in which one class is inherited by two or more classes"
   ]
  },
  {
   "cell_type": "code",
   "execution_count": 64,
   "id": "28e44c7d-6d8e-4181-aa0a-fb22153de3ee",
   "metadata": {},
   "outputs": [],
   "source": [
    "class clg:\n",
    "    def details(self):\n",
    "        return \"This is clg  information\""
   ]
  },
  {
   "cell_type": "code",
   "execution_count": 65,
   "id": "063bd1a2-918f-4267-965b-86dec6bae310",
   "metadata": {},
   "outputs": [],
   "source": [
    "class clg:\n",
    "    def details(self):\n",
    "        return \"This is clg  information\""
   ]
  },
  {
   "cell_type": "code",
   "execution_count": 66,
   "id": "c90295cb-aebb-44ae-afe6-cca12157d429",
   "metadata": {},
   "outputs": [],
   "source": [
    "class class1:\n",
    "    def details2(self):\n",
    "        return \"This is class\""
   ]
  },
  {
   "cell_type": "code",
   "execution_count": 68,
   "id": "217c74e3-5336-45af-84a1-78cdb28cea54",
   "metadata": {},
   "outputs": [],
   "source": [
    "class student(department,class1):\n",
    "    def details3(self):\n",
    "        return \"This is students detail\"\n",
    "    \n",
    "    \n",
    "   "
   ]
  },
  {
   "cell_type": "code",
   "execution_count": null,
   "id": "4fbede36-2201-485c-a8e7-a4ef97ff458b",
   "metadata": {},
   "outputs": [],
   "source": []
  },
  {
   "cell_type": "code",
   "execution_count": 69,
   "id": "246db3b0-bff4-4a9e-8ef2-4b8ebb173a62",
   "metadata": {},
   "outputs": [],
   "source": [
    "obj=student()"
   ]
  },
  {
   "cell_type": "code",
   "execution_count": 71,
   "id": "0283bcf3-77f8-40f5-b95c-4b5c3537388a",
   "metadata": {},
   "outputs": [
    {
     "data": {
      "text/plain": [
       "'This is class'"
      ]
     },
     "execution_count": 71,
     "metadata": {},
     "output_type": "execute_result"
    }
   ],
   "source": [
    "obj.details2()"
   ]
  },
  {
   "cell_type": "markdown",
   "id": "b070c3ba-5fd0-4e73-b73d-d0d7f5dc0c14",
   "metadata": {},
   "source": [
    "Q4. What are getter and setter in python? Create a class and create a getter and a setter method in this\n",
    "class."
   ]
  },
  {
   "cell_type": "markdown",
   "id": "1d5dcb12-d2ca-48d4-a9f5-3139f6c05840",
   "metadata": {},
   "source": [
    "Getter: A getter method is used to get the value of a private attribute. It allows you to access the value of an attribute from outside the class without directly exposing the attribute.\n",
    "\n",
    "Setter: A setter method is used to set or update the value of a private attribute. It allows you to change the value of an attribute from outside the class."
   ]
  },
  {
   "cell_type": "code",
   "execution_count": 72,
   "id": "1e857f56-f667-437f-8b31-a2e661119049",
   "metadata": {},
   "outputs": [],
   "source": [
    "class student:\n",
    "    def __init__(self, name):\n",
    "        self._name = name\n",
    "\n",
    "\n",
    "    \n",
    "    def get_name(self):\n",
    "        return self._name\n",
    "\n",
    "   \n",
    "    def set_name(self, name):\n",
    "        self._name = name"
   ]
  },
  {
   "cell_type": "code",
   "execution_count": 74,
   "id": "58c4cfaa-4d60-4e28-9b6e-cd8fb51e3976",
   "metadata": {},
   "outputs": [],
   "source": [
    "obj=student('rahul')"
   ]
  },
  {
   "cell_type": "code",
   "execution_count": 75,
   "id": "71bd8fd6-1be4-41e6-9be3-36779965d1dc",
   "metadata": {},
   "outputs": [
    {
     "data": {
      "text/plain": [
       "'rahul'"
      ]
     },
     "execution_count": 75,
     "metadata": {},
     "output_type": "execute_result"
    }
   ],
   "source": [
    "obj.get_name()"
   ]
  },
  {
   "cell_type": "code",
   "execution_count": 76,
   "id": "2fd89226-ff46-4543-83c0-4064e1265d7b",
   "metadata": {},
   "outputs": [],
   "source": [
    "obj.set_name('pawan')"
   ]
  },
  {
   "cell_type": "code",
   "execution_count": 77,
   "id": "f94361ff-757a-493d-8d14-b7078de79ffb",
   "metadata": {},
   "outputs": [
    {
     "data": {
      "text/plain": [
       "'pawan'"
      ]
     },
     "execution_count": 77,
     "metadata": {},
     "output_type": "execute_result"
    }
   ],
   "source": [
    "obj.get_name()"
   ]
  },
  {
   "cell_type": "raw",
   "id": "cb2fd48e-0b9a-4928-86ad-28d0c025cc30",
   "metadata": {},
   "source": [
    "Q5.What is method overriding in python? Write a python code to demonstrate method overriding."
   ]
  },
  {
   "cell_type": "markdown",
   "id": "d749f313-8207-4bef-ae8c-2d85fcc66ca6",
   "metadata": {},
   "source": [
    "Sometimes we define the similar methods in all classes ,that is the base class that have the same method name is also present in the subclasses.This condition is called as overridding"
   ]
  },
  {
   "cell_type": "code",
   "execution_count": 78,
   "id": "19f9e2ae-aad1-474f-8105-367512aa9cbf",
   "metadata": {},
   "outputs": [],
   "source": [
    "class clg:\n",
    "    def details(self):\n",
    "        return \"This is clg  information\""
   ]
  },
  {
   "cell_type": "code",
   "execution_count": 79,
   "id": "7f584fdf-b15c-46ce-83f0-ab2074578a0e",
   "metadata": {},
   "outputs": [],
   "source": [
    "class clg:\n",
    "    def details(self):\n",
    "        return \"This is clg  information\""
   ]
  },
  {
   "cell_type": "code",
   "execution_count": 80,
   "id": "002d978f-c55f-48b7-9ac1-db58b56d2340",
   "metadata": {},
   "outputs": [],
   "source": [
    "class class1:\n",
    "    def details(self):\n",
    "        return \"This is class\""
   ]
  },
  {
   "cell_type": "code",
   "execution_count": 81,
   "id": "e08aea05-a7e4-4a06-a3e9-337fe12ff0f3",
   "metadata": {},
   "outputs": [],
   "source": [
    "class student(department,class1):\n",
    "    def details(self):\n",
    "        return \"This is students detail\"\n",
    "    \n",
    "    "
   ]
  },
  {
   "cell_type": "code",
   "execution_count": 82,
   "id": "7629f12f-ea21-481d-abbe-27e6775e8937",
   "metadata": {},
   "outputs": [],
   "source": [
    "obj=student()"
   ]
  },
  {
   "cell_type": "code",
   "execution_count": 83,
   "id": "cd5a66fd-972f-45a5-8bc4-b4de5e353af9",
   "metadata": {},
   "outputs": [
    {
     "data": {
      "text/plain": [
       "'This is students detail'"
      ]
     },
     "execution_count": 83,
     "metadata": {},
     "output_type": "execute_result"
    }
   ],
   "source": [
    "obj.details()"
   ]
  },
  {
   "cell_type": "code",
   "execution_count": 85,
   "id": "7dd731f3-fd16-45fa-9f09-2de3097e910b",
   "metadata": {},
   "outputs": [
    {
     "data": {
      "text/plain": [
       "'This is students detail'"
      ]
     },
     "execution_count": 85,
     "metadata": {},
     "output_type": "execute_result"
    }
   ],
   "source": [
    "obj.details()"
   ]
  },
  {
   "cell_type": "code",
   "execution_count": null,
   "id": "f1db3d91-78bc-47d4-bd6f-a0bb2d78faba",
   "metadata": {},
   "outputs": [],
   "source": []
  }
 ],
 "metadata": {
  "kernelspec": {
   "display_name": "Python 3 (ipykernel)",
   "language": "python",
   "name": "python3"
  },
  "language_info": {
   "codemirror_mode": {
    "name": "ipython",
    "version": 3
   },
   "file_extension": ".py",
   "mimetype": "text/x-python",
   "name": "python",
   "nbconvert_exporter": "python",
   "pygments_lexer": "ipython3",
   "version": "3.10.8"
  }
 },
 "nbformat": 4,
 "nbformat_minor": 5
}
