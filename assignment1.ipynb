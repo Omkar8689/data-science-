{
 "cells": [
  {
   "cell_type": "markdown",
   "id": "995ff49c-1e8d-4150-aeae-9121368d1506",
   "metadata": {},
   "source": [
    "Q1. Create one variable containing following type of data:\n",
    "(i) string\n",
    "(ii) list\n",
    "(iii) float\n",
    "(iv) tuple"
   ]
  },
  {
   "cell_type": "code",
   "execution_count": 4,
   "id": "799b6944-e7bb-4e6e-b360-db8d28173e01",
   "metadata": {},
   "outputs": [
    {
     "name": "stdout",
     "output_type": "stream",
     "text": [
      "public\n"
     ]
    }
   ],
   "source": [
    "a=\"public\"\n",
    "print(a)"
   ]
  },
  {
   "cell_type": "code",
   "execution_count": 8,
   "id": "1d5b00ce-253f-492e-9a0c-44c59bf4c997",
   "metadata": {},
   "outputs": [
    {
     "name": "stdout",
     "output_type": "stream",
     "text": [
      "[2, 3, 4, 6, 89, 'python', 'help']\n"
     ]
    }
   ],
   "source": [
    "s=[2,3,4,6,89,\"python\",\"help\"]\n",
    "print(s)"
   ]
  },
  {
   "cell_type": "code",
   "execution_count": 6,
   "id": "3d6d270c-51a1-4de0-b3cf-1a1be4d873e6",
   "metadata": {},
   "outputs": [
    {
     "name": "stdout",
     "output_type": "stream",
     "text": [
      "3.24\n"
     ]
    }
   ],
   "source": [
    "v=3.24\n",
    "print(v)\n"
   ]
  },
  {
   "cell_type": "code",
   "execution_count": 7,
   "id": "7f3b4d59-9b66-43bb-a0a9-c93f2207ca47",
   "metadata": {},
   "outputs": [
    {
     "name": "stdout",
     "output_type": "stream",
     "text": [
      "(2, 5, 7, 9, 'assignment')\n"
     ]
    }
   ],
   "source": [
    "d=(2,5,7,9,\"assignment\")\n",
    "print(d)\n"
   ]
  },
  {
   "cell_type": "code",
   "execution_count": null,
   "id": "b72f22b1-f1bc-4a4e-91db-5e86ada0ffe1",
   "metadata": {},
   "outputs": [],
   "source": []
  },
  {
   "cell_type": "markdown",
   "id": "0f48cbdd-b6ee-459f-ba44-e6115938a054",
   "metadata": {},
   "source": [
    "Q2. Given are some following variables containing data:\n",
    "(i) var1 = ‘ ‘\n",
    "(ii) var2 = ‘[ DS , ML , Python]’\n",
    "(iii) var3 = [ ‘DS’ , ’ML’ , ‘Python’ ]\n",
    "(iv) var4 = 1.\n",
    "What will be the data type of the above given variable."
   ]
  },
  {
   "cell_type": "markdown",
   "id": "77e14f61-20f8-4fee-8324-4d47cfffb49b",
   "metadata": {},
   "source": [
    "1)It is the string\n",
    "2)It is invalid character as we cant make whole list as string\n",
    "3)var3 contains the data in the form of list and in list there is present the string type of data\n",
    "4)var4 contains the float type of data"
   ]
  },
  {
   "cell_type": "code",
   "execution_count": null,
   "id": "3cd9c418-0684-4e91-b44f-7c6747c3d747",
   "metadata": {},
   "outputs": [],
   "source": []
  },
  {
   "cell_type": "markdown",
   "id": "7b38c8e5-a39e-4963-a522-50e245bd4f4e",
   "metadata": {},
   "source": [
    "Q3. Explain the use of the following operators using an example:\n",
    "(i) /\n",
    "(ii) %\n",
    "(iii) //\n",
    "(iv) **"
   ]
  },
  {
   "cell_type": "markdown",
   "id": "d84874c6-3f4d-4cd0-8535-82ccaf31bdcb",
   "metadata": {},
   "source": [
    "1)It is the division operator \n",
    "It is used to divide the two numbers\n",
    "2) It is modulo operator used to get the remainder \n",
    "3)It is the operator used to get the smallest integer when we get the floating values which are very near to the interger value.\n",
    "4)It is the exponentional operator used to get the power of the given number"
   ]
  },
  {
   "cell_type": "code",
   "execution_count": null,
   "id": "543809bd-1076-49ac-846c-0b2319af2399",
   "metadata": {},
   "outputs": [],
   "source": []
  },
  {
   "cell_type": "markdown",
   "id": "e54d0b83-f895-43b1-945c-919819b7beda",
   "metadata": {},
   "source": [
    "Q4. Create a list of length 10 of your choice containing multiple types of data. Using for loop print the\n",
    "element and its data type."
   ]
  },
  {
   "cell_type": "code",
   "execution_count": 26,
   "id": "50df320f-9f64-4f5c-9ed5-22c54be01c1c",
   "metadata": {},
   "outputs": [
    {
     "name": "stdout",
     "output_type": "stream",
     "text": [
      "13\n",
      "4.3\n",
      "sir\n",
      "code\n",
      "3\n",
      "4\n",
      "5\n",
      "7\n",
      "a\n",
      "True\n"
     ]
    }
   ],
   "source": [
    "h=[13,4.3,'sir','code',3,4,5,7,'a','True']\n",
    "for i in h:\n",
    "    print(i)\n",
    "    type(i)\n",
    "   \n"
   ]
  },
  {
   "cell_type": "markdown",
   "id": "7adca75e-e969-4c35-806e-ea6c4251631b",
   "metadata": {},
   "source": []
  },
  {
   "cell_type": "raw",
   "id": "aa3e68ce-74ab-4578-9eff-e4388f9e0e8d",
   "metadata": {},
   "source": [
    "Q5. Using a while loop, verify if the number A is purely divisible by number B and if so then how many\n",
    "times it can be divisible."
   ]
  },
  {
   "cell_type": "code",
   "execution_count": null,
   "id": "7810b87a-a863-412b-8321-eb2524f50172",
   "metadata": {},
   "outputs": [],
   "source": [
    "A=6\n",
    "B=2\n",
    "count=1\n",
    "while count!=A:\n",
    "    if A%B==0:\n",
    "        print(\"The number is divisible by B\")\n",
    "        count=count+1\n",
    "        print(count)\n",
    "    \n",
    "    else:\n",
    "        print(\"The number A is not divisible by B\")\n",
    "    \n",
    "    \n",
    "\n",
    "         \n",
    "                "
   ]
  },
  {
   "cell_type": "code",
   "execution_count": null,
   "id": "3fb492c4-1a20-4c29-8c9a-0ed56f2d81a7",
   "metadata": {},
   "outputs": [],
   "source": []
  },
  {
   "cell_type": "code",
   "execution_count": null,
   "id": "b1266084-8b26-497e-a738-5ecb92500c06",
   "metadata": {},
   "outputs": [],
   "source": []
  },
  {
   "cell_type": "markdown",
   "id": "70b77d7a-2888-48b7-8b27-e8dfdb682a36",
   "metadata": {},
   "source": [
    "Q7. What do you understand about mutable and immutable data types? Give examples for both showing\n",
    "this property."
   ]
  },
  {
   "cell_type": "markdown",
   "id": "4c378826-8180-4ddf-a761-b1380f1f8554",
   "metadata": {},
   "source": [
    "Mutable data types-The mutable objects can be changed to any value.\n",
    "\n",
    "Immutable data type-The immutable objects can not be changed to its value once it is created."
   ]
  },
  {
   "cell_type": "code",
   "execution_count": 37,
   "id": "1a544b5c-9ea6-453a-8280-86cb4de65c81",
   "metadata": {},
   "outputs": [
    {
     "name": "stdout",
     "output_type": "stream",
     "text": [
      "[2, 4, 56]\n"
     ]
    }
   ],
   "source": [
    "l=[2,4,67]\n",
    "l[2]=56\n",
    "print(l)"
   ]
  },
  {
   "cell_type": "markdown",
   "id": "e6805ba9-0796-45c8-a206-cc5dbfd85711",
   "metadata": {},
   "source": [
    "So as we can see that the list is mutable that is we can make changes in it"
   ]
  },
  {
   "cell_type": "code",
   "execution_count": 41,
   "id": "01575783-2da3-4d7d-a53d-05983cc0e77e",
   "metadata": {},
   "outputs": [
    {
     "ename": "TypeError",
     "evalue": "'tuple' object does not support item assignment",
     "output_type": "error",
     "traceback": [
      "\u001b[0;31m---------------------------------------------------------------------------\u001b[0m",
      "\u001b[0;31mTypeError\u001b[0m                                 Traceback (most recent call last)",
      "Cell \u001b[0;32mIn[41], line 2\u001b[0m\n\u001b[1;32m      1\u001b[0m l\u001b[38;5;241m=\u001b[39m(\u001b[38;5;241m2\u001b[39m,\u001b[38;5;241m4\u001b[39m,\u001b[38;5;241m67\u001b[39m)\n\u001b[0;32m----> 2\u001b[0m \u001b[43ml\u001b[49m\u001b[43m[\u001b[49m\u001b[38;5;241;43m2\u001b[39;49m\u001b[43m]\u001b[49m\u001b[38;5;241m=\u001b[39m\u001b[38;5;241m56\u001b[39m\n\u001b[1;32m      3\u001b[0m \u001b[38;5;28mprint\u001b[39m(l)\n",
      "\u001b[0;31mTypeError\u001b[0m: 'tuple' object does not support item assignment"
     ]
    }
   ],
   "source": [
    "l=(2,4,67)\n",
    "l[2]=56\n",
    "print(l)"
   ]
  },
  {
   "cell_type": "markdown",
   "id": "52d95e22-4e46-4ebd-833d-50a924dad254",
   "metadata": {},
   "source": [
    "So as we can see that the tuple is not mutable that is we cant make changes in it"
   ]
  },
  {
   "cell_type": "code",
   "execution_count": null,
   "id": "4ac3bcd5-10fc-409d-9e11-95c484a9c666",
   "metadata": {},
   "outputs": [],
   "source": []
  }
 ],
 "metadata": {
  "kernelspec": {
   "display_name": "Python 3 (ipykernel)",
   "language": "python",
   "name": "python3"
  },
  "language_info": {
   "codemirror_mode": {
    "name": "ipython",
    "version": 3
   },
   "file_extension": ".py",
   "mimetype": "text/x-python",
   "name": "python",
   "nbconvert_exporter": "python",
   "pygments_lexer": "ipython3",
   "version": "3.10.8"
  }
 },
 "nbformat": 4,
 "nbformat_minor": 5
}
