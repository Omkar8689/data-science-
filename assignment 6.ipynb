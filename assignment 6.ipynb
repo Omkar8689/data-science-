{
 "cells": [
  {
   "cell_type": "raw",
   "id": "60270048-92f0-4f95-83bc-e3ae183a45d0",
   "metadata": {},
   "source": [
    "Q1. What is Abstraction in OOps? Explain with an example."
   ]
  },
  {
   "cell_type": "markdown",
   "id": "1282b85a-865d-4969-8180-d45316a3ef4d",
   "metadata": {},
   "source": [
    "Abstraction is the process of hiding the internal details of an application from the outer world."
   ]
  },
  {
   "cell_type": "code",
   "execution_count": 5,
   "id": "1d1ec162-2a99-44a2-8583-18eb01cd7db5",
   "metadata": {},
   "outputs": [],
   "source": [
    "\n",
    "import abc\n",
    "class clg:\n",
    "    @abc.abstractmethod\n",
    "    def clg_details(self):\n",
    "        pass\n",
    "    \n",
    "    def stu_details(self):\n",
    "        pass\n",
    "    \n",
    "    "
   ]
  },
  {
   "cell_type": "code",
   "execution_count": 6,
   "id": "0b9d62a7-e402-4d09-8e75-101cc91eacb8",
   "metadata": {},
   "outputs": [],
   "source": [
    "class clg2():\n",
    "    def clg_details(self):\n",
    "        return \"This is our class 1\"\n",
    "    def stu_details(self):\n",
    "        return \"This is our students detail 1\" "
   ]
  },
  {
   "cell_type": "code",
   "execution_count": null,
   "id": "13dc8fba-cce8-4b75-9633-45ac2a3edcc6",
   "metadata": {},
   "outputs": [],
   "source": [
    "class clg2(clg):\n",
    "    def clg_details(self):\n",
    "        return \"This is our class 1\"\n",
    "    def stu_details(self):\n",
    "        return \"This is our students detail 1\" "
   ]
  },
  {
   "cell_type": "code",
   "execution_count": 7,
   "id": "84af3abc-74ee-4bad-b2d6-d8c95b55e501",
   "metadata": {},
   "outputs": [],
   "source": [
    "obj=clg2()"
   ]
  },
  {
   "cell_type": "code",
   "execution_count": 8,
   "id": "95b4c0d3-b598-4638-acdd-2ab05e6a2925",
   "metadata": {},
   "outputs": [
    {
     "data": {
      "text/plain": [
       "'This is our class 1'"
      ]
     },
     "execution_count": 8,
     "metadata": {},
     "output_type": "execute_result"
    }
   ],
   "source": [
    "obj.clg_details()"
   ]
  },
  {
   "cell_type": "code",
   "execution_count": null,
   "id": "b13973a3-818a-477b-a180-8ae5eb705841",
   "metadata": {},
   "outputs": [],
   "source": []
  },
  {
   "cell_type": "raw",
   "id": "ab453bec-b894-408e-8b42-2223d8f8ebb7",
   "metadata": {},
   "source": [
    "Q2. Differentiate between Abstraction and Encapsulation. Explain with an example."
   ]
  },
  {
   "cell_type": "markdown",
   "id": "8c0768d0-33f6-4948-9536-37717f54a10c",
   "metadata": {},
   "source": [
    "Abstraction is a process of hiding the implementation details of a system from the user, and only the functional details will be available to the user end. On the other hand, Encapsulation is\n",
    "a method of wrapping up the data and code acting on the data into a single unit."
   ]
  },
  {
   "cell_type": "code",
   "execution_count": 15,
   "id": "83295955-8070-4516-af5a-dd0ec554139d",
   "metadata": {},
   "outputs": [],
   "source": [
    "# following code is of the encapsulation\n",
    "class syllabus:\n",
    "    def __init__(self,name,no_of_lectures):\n",
    "        self.__name=name\n",
    "        self.__no_of_lectures=no_of_lectures "
   ]
  },
  {
   "cell_type": "code",
   "execution_count": 16,
   "id": "389b8d87-7261-41f9-a405-60bb4c9c9a02",
   "metadata": {},
   "outputs": [],
   "source": [
    "a=syllabus('maths',4)"
   ]
  },
  {
   "cell_type": "code",
   "execution_count": 17,
   "id": "1aa55acc-1960-41e5-bfab-2c80bb2724b8",
   "metadata": {},
   "outputs": [
    {
     "ename": "AttributeError",
     "evalue": "'syllabus' object has no attribute '__name'",
     "output_type": "error",
     "traceback": [
      "\u001b[0;31m---------------------------------------------------------------------------\u001b[0m",
      "\u001b[0;31mAttributeError\u001b[0m                            Traceback (most recent call last)",
      "Cell \u001b[0;32mIn[17], line 1\u001b[0m\n\u001b[0;32m----> 1\u001b[0m \u001b[43ma\u001b[49m\u001b[38;5;241;43m.\u001b[39;49m\u001b[43m__name\u001b[49m\n",
      "\u001b[0;31mAttributeError\u001b[0m: 'syllabus' object has no attribute '__name'"
     ]
    }
   ],
   "source": [
    "a.__name"
   ]
  },
  {
   "cell_type": "code",
   "execution_count": 18,
   "id": "25653cd0-c478-4159-8393-e368171f3487",
   "metadata": {},
   "outputs": [],
   "source": [
    "#This code is of abstraction\n",
    "import abc\n",
    "class clg:\n",
    "    @abc.abstractmethod\n",
    "    def clg_details(self):\n",
    "        pass\n",
    "    \n",
    "    def stu_details(self):\n",
    "        pass\n",
    "    "
   ]
  },
  {
   "cell_type": "code",
   "execution_count": null,
   "id": "2dddb477-7b5f-4fd0-9a51-d80a1008c058",
   "metadata": {},
   "outputs": [],
   "source": [
    "class clg1(clg):\n",
    "    def clg_details(self):\n",
    "        return \"This is our class\"\n",
    "    def stu_details(self):\n",
    "        return \"This is our students detail\""
   ]
  },
  {
   "cell_type": "code",
   "execution_count": null,
   "id": "21db7ec0-8864-4d7b-964b-7bc7c2a9bb9e",
   "metadata": {},
   "outputs": [],
   "source": [
    "class clg2(clg):\n",
    "    def clg_details(self):\n",
    "        return \"This is our class 1\"\n",
    "    def stu_details(self):\n",
    "        return \"This is our students detail 1\" "
   ]
  },
  {
   "cell_type": "code",
   "execution_count": null,
   "id": "01388f75-a4c1-43a4-b65d-4215c105cc27",
   "metadata": {},
   "outputs": [],
   "source": [
    "obj=clg2()"
   ]
  },
  {
   "cell_type": "code",
   "execution_count": 19,
   "id": "a2342385-3e47-448e-833a-0fe70c2f4d85",
   "metadata": {},
   "outputs": [
    {
     "data": {
      "text/plain": [
       "'This is our class 1'"
      ]
     },
     "execution_count": 19,
     "metadata": {},
     "output_type": "execute_result"
    }
   ],
   "source": [
    "obj.clg_details()"
   ]
  },
  {
   "cell_type": "code",
   "execution_count": null,
   "id": "d4f25db5-2797-48af-b0d1-c916957efce5",
   "metadata": {},
   "outputs": [],
   "source": []
  },
  {
   "cell_type": "markdown",
   "id": "0055fe1a-75e7-4ce4-91cf-3e8bd42af52e",
   "metadata": {},
   "source": [
    "Q3. What is abc module in python? Why is it used?"
   ]
  },
  {
   "cell_type": "raw",
   "id": "b689da10-3b40-42eb-9c78-de35270d86bb",
   "metadata": {},
   "source": [
    " abc module is the abstraction modeule in python which is used for abstraction process."
   ]
  },
  {
   "cell_type": "code",
   "execution_count": null,
   "id": "ed6661d1-8bfe-45ae-871e-2d88d93a76b8",
   "metadata": {},
   "outputs": [],
   "source": []
  },
  {
   "cell_type": "markdown",
   "id": "bbe8c445-e8f3-467d-9689-bffcb20d6c47",
   "metadata": {},
   "source": [
    "Q4. How can we achieve data abstraction?"
   ]
  },
  {
   "cell_type": "markdown",
   "id": "6c0b5572-487f-4a0b-bf4f-5635b3698d67",
   "metadata": {},
   "source": [
    "TO achieve the data abstraction we need to import the abstraction as @abc.After that we can define the class .Before writing any function in the class we need to mention   @abc.abstractmethod .After this we can write the functions. By creating one base class you can inherite it with other classes"
   ]
  },
  {
   "cell_type": "code",
   "execution_count": null,
   "id": "c9e83abb-0ac2-4a61-9993-5c7129184229",
   "metadata": {},
   "outputs": [],
   "source": []
  },
  {
   "cell_type": "raw",
   "id": "22ccc60d-4fb2-41b2-a0ec-5ebecbc2186f",
   "metadata": {},
   "source": [
    "Q5. Can we create an instance of an abstract class? Explain your answer."
   ]
  },
  {
   "cell_type": "raw",
   "id": "90cbab7b-dece-493c-86aa-3bda5412831a",
   "metadata": {},
   "source": [
    "No, we cannot create an instance of an abstract class in Python. An abstract class is a class that is not meant to be directly instantiated or used on its own. It serves as a blueprint for other classes to inherit from.\n",
    "\n",
    "Think of an abstract class as a template that defines certain methods and attributes that must be implemented by its subclasses. These abstract methods are like placeholders that tell the subclasses they need to provide their own implementation.\n",
    "\n",
    "To use an abstract class, you must first create a subclass that inherits from the abstract class. This subclass must provide concrete (actual) implementations for all the abstract methods declared in the abstract class. Only then can you create an instance of the subclass and use it in your code.\n",
    "\n",
    "In summary, you cannot create an instance of an abstract class itself, but you can create instances of its subclasses once they have implemented all the necessary methods."
   ]
  }
 ],
 "metadata": {
  "kernelspec": {
   "display_name": "Python 3 (ipykernel)",
   "language": "python",
   "name": "python3"
  },
  "language_info": {
   "codemirror_mode": {
    "name": "ipython",
    "version": 3
   },
   "file_extension": ".py",
   "mimetype": "text/x-python",
   "name": "python",
   "nbconvert_exporter": "python",
   "pygments_lexer": "ipython3",
   "version": "3.10.8"
  }
 },
 "nbformat": 4,
 "nbformat_minor": 5
}
