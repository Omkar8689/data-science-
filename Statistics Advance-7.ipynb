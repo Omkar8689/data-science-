{
 "cells": [
  {
   "cell_type": "raw",
   "id": "292924aa-365a-457b-a719-6da12155f6c0",
   "metadata": {},
   "source": [
    "Q1. Write a Python function that takes in two arrays of data and calculates the F-value for a variance ratio\n",
    "test. The function should return the F-value and the corresponding p-value for the test."
   ]
  },
  {
   "cell_type": "code",
   "execution_count": 1,
   "id": "275a11ca-aada-4b85-8799-304fa15c8b82",
   "metadata": {},
   "outputs": [
    {
     "name": "stdout",
     "output_type": "stream",
     "text": [
      "F-value: 1.36986301369863\n",
      "p-value: 0.7677966949526214\n"
     ]
    }
   ],
   "source": [
    "import numpy as np\n",
    "from scipy import stats\n",
    "\n",
    "def calculate_f_value(data1, data2):\n",
    "  \n",
    "    var1 = np.var(data1, ddof=1)\n",
    "    var2 = np.var(data2, ddof=1)\n",
    "    \n",
    "   \n",
    "    df1 = len(data1) - 1\n",
    "    df2 = len(data2) - 1\n",
    "\n",
    "    f_value = var1 / var2 if var1 >= var2 else var2 / var1\n",
    "    \n",
    "   \n",
    "    p_value = 2 * (1 - stats.f.cdf(f_value, df1, df2))\n",
    "    \n",
    "    return f_value, p_value\n",
    "\n",
    "\n",
    "data1 = [12, 14, 16, 18, 20]\n",
    "data2 = [10, 15, 12, 17, 14]\n",
    "f_value, p_value = calculate_f_value(data1, data2)\n",
    "print(\"F-value:\", f_value)\n",
    "print(\"p-value:\", p_value)\n"
   ]
  },
  {
   "cell_type": "code",
   "execution_count": null,
   "id": "68a9e4a4-93e9-4401-a8f2-dc6ab2dd7be1",
   "metadata": {},
   "outputs": [],
   "source": []
  },
  {
   "cell_type": "raw",
   "id": "8d1b0a98-9e49-4ec9-a734-87086d9850c6",
   "metadata": {},
   "source": [
    "Q2. Given a significance level of 0.05 and the degrees of freedom for the numerator and denominator of an\n",
    "F-distribution, write a Python function that returns the critical F-value for a two-tailed test."
   ]
  },
  {
   "cell_type": "code",
   "execution_count": 3,
   "id": "93bbb60c-65df-4f6a-a0ab-ef74c3f8e5ed",
   "metadata": {},
   "outputs": [],
   "source": [
    "from scipy import stats\n",
    "\n",
    "def get_critical_f_value(alpha, dfn, dfd):\n",
    "   \n",
    "    f_critical = stats.f.ppf(1 - alpha / 2, dfn, dfd)\n",
    "    \n",
    "    return f_critical\n",
    "\n",
    "\n"
   ]
  },
  {
   "cell_type": "code",
   "execution_count": null,
   "id": "aedef452-fc4b-4a5a-9eff-3485a987e762",
   "metadata": {},
   "outputs": [],
   "source": []
  },
  {
   "cell_type": "code",
   "execution_count": null,
   "id": "f6b22b0f-9e4d-4efc-87f5-602d92c8271f",
   "metadata": {},
   "outputs": [],
   "source": [
    "Q3. Write a Python program that generates random samples from two normal distributions with known\n",
    "\n",
    "variances and uses an F-test to determine if the variances are equal. The program should output the F-\n",
    "value, degrees of freedom, and p-value for the test."
   ]
  },
  {
   "cell_type": "code",
   "execution_count": 4,
   "id": "f0c75622-b0b7-4f9c-808a-35f438bbc42e",
   "metadata": {},
   "outputs": [],
   "source": [
    "import numpy as np\n",
    "from scipy import stats\n",
    "\n",
    "def perform_f_test(data1, data2):\n",
    "\n",
    "    var1 = np.var(data1, ddof=1)\n",
    "    var2 = np.var(data2, ddof=1)\n",
    "\n",
    "   \n",
    "    df1 = len(data1) - 1\n",
    "    df2 = len(data2) - 1\n",
    "\n",
    "   \n",
    "    f_value = var1 / var2 if var1 >= var2 else var2 / var1\n",
    "\n",
    "   \n",
    "    p_value = 2 * (1 - stats.f.cdf(f_value, df1, df2))\n",
    "\n",
    "    return f_value, df1, df2, p_value\n",
    "\n",
    "\n",
    "np.random.seed(0)\n",
    "data1 = np.random.normal(0, 1, 100)  # Mean\n"
   ]
  },
  {
   "cell_type": "code",
   "execution_count": null,
   "id": "7e26a56f-9348-4270-8076-be3219c65789",
   "metadata": {},
   "outputs": [],
   "source": []
  },
  {
   "cell_type": "code",
   "execution_count": null,
   "id": "29c8a9f7-e4f4-4d86-afbc-495b15fa4686",
   "metadata": {},
   "outputs": [],
   "source": [
    "Q4.The variances of two populations are known to be 10 and 15. A sample of 12 observations is taken from\n",
    "each population. Conduct an F-test at the 5% significance level to determine if the variances are\n",
    "significantly different."
   ]
  },
  {
   "cell_type": "code",
   "execution_count": 5,
   "id": "d684bcd1-b8fd-4241-9a8c-5958f3431ba4",
   "metadata": {},
   "outputs": [
    {
     "name": "stdout",
     "output_type": "stream",
     "text": [
      "Fail to reject the null hypothesis: The variances are not significantly different.\n"
     ]
    }
   ],
   "source": [
    "from scipy import stats\n",
    "\n",
    "\n",
    "variance1 = 10\n",
    "variance2 = 15\n",
    "\n",
    "\n",
    "n = 12\n",
    "\n",
    "\n",
    "df1 = n - 1\n",
    "df2 = n - 1\n",
    "\n",
    "f_statistic = variance1 / variance2\n",
    "\n",
    "\n",
    "alpha = 0.05\n",
    "\n",
    "f_critical = stats.f.ppf(1 - alpha / 2, df1, df2)\n",
    "\n",
    "\n",
    "if f_statistic > f_critical:\n",
    "    print(\"Reject the null hypothesis: The variances are significantly different.\")\n",
    "else:\n",
    "    print(\"Fail to reject the null hypothesis: The variances are not significantly different.\")\n"
   ]
  },
  {
   "cell_type": "code",
   "execution_count": null,
   "id": "238c62d3-2228-4fa6-9c18-9310f748c6bc",
   "metadata": {},
   "outputs": [],
   "source": [
    "Q5. A manufacturer claims that the variance of the diameter of a certain product is 0.005. A sample of 25\n",
    "products is taken, and the sample variance is found to be 0.006. Conduct an F-test at the 1% significance\n",
    "level to determine if the claim is justified."
   ]
  },
  {
   "cell_type": "code",
   "execution_count": 6,
   "id": "68d0a9d6-f6f3-4625-9bb0-5703fdee5853",
   "metadata": {},
   "outputs": [
    {
     "name": "stdout",
     "output_type": "stream",
     "text": [
      "Fail to reject the null hypothesis: The claim is justified.\n"
     ]
    }
   ],
   "source": [
    "from scipy import stats\n",
    "\n",
    "claimed_variance = 0.005\n",
    "\n",
    "sample_variance = 0.006\n",
    "\n",
    "\n",
    "n = 25\n",
    "\n",
    "\n",
    "df1 = n - 1\n",
    "\n",
    "\n",
    "df2 = 1\n",
    "\n",
    "\n",
    "f_statistic = sample_variance / claimed_variance\n",
    "\n",
    "alpha = 0.01\n",
    "\n",
    "\n",
    "f_critical = stats.f.ppf(1 - alpha / 2, df1, df2)\n",
    "\n",
    "\n",
    "if f_statistic > f_critical or f_statistic < 1/f_critical:\n",
    "    print(\"Reject the null hypothesis: The claim is not justified.\")\n",
    "else:\n",
    "    print(\"Fail to reject the null hypothesis: The claim is justified.\")\n"
   ]
  },
  {
   "cell_type": "code",
   "execution_count": null,
   "id": "f3a65c5c-7947-4217-9263-ddcf7d07f9a5",
   "metadata": {},
   "outputs": [],
   "source": []
  },
  {
   "cell_type": "code",
   "execution_count": null,
   "id": "45225528-85a5-41c1-b6ab-9bacaeab41ab",
   "metadata": {},
   "outputs": [],
   "source": [
    "Q6. Write a Python function that takes in the degrees of freedom for the numerator and denominator of an\n",
    "F-distribution and calculates the mean and variance of the distribution. The function should return the\n",
    "mean and variance as a tuple."
   ]
  },
  {
   "cell_type": "code",
   "execution_count": 7,
   "id": "c8b8a0b0-4d88-4811-af82-c49abf58a01e",
   "metadata": {},
   "outputs": [],
   "source": [
    "def calculate_f_distribution_mean_and_variance(dfn, dfd):\n",
    "   \n",
    "    if dfd > 2:\n",
    "        mean = dfd / (dfd - 2)\n",
    "    else:\n",
    "        mean = None\n",
    "    if dfd > 4:\n",
    "        variance = (2 * (dfd ** 2) * (dfn + dfd - 2)) / (dfn * (dfd - 2) ** 2 * (dfd - 4))\n",
    "    else:\n",
    "        variance = None  \n",
    "\n",
    "    return mean, variance\n",
    "\n"
   ]
  },
  {
   "cell_type": "code",
   "execution_count": null,
   "id": "f329788f-026e-4be2-b57f-892b6820f8a7",
   "metadata": {},
   "outputs": [],
   "source": []
  },
  {
   "cell_type": "code",
   "execution_count": null,
   "id": "8ee0d87f-bb79-4685-bd30-4fa0cf5a7c69",
   "metadata": {},
   "outputs": [],
   "source": [
    "Q7. A random sample of 10 measurements is taken from a normal population with unknown variance. The\n",
    "sample variance is found to be 25. Another random sample of 15 measurements is taken from another\n",
    "normal population with unknown variance, and the sample variance is found to be 20. Conduct an F-test\n",
    "at the 10% significance level to determine if the variances are significantly different."
   ]
  },
  {
   "cell_type": "code",
   "execution_count": 9,
   "id": "60f9116b-d269-4d83-8213-122381a2bbae",
   "metadata": {},
   "outputs": [],
   "source": [
    "from scipy import stats\n",
    "\n",
    "sample_variance1 = 25\n",
    "sample_variance2 = 20\n",
    "\n",
    "n1 = 10\n",
    "n2 = 15\n",
    "\n",
    "\n",
    "df1 = n1 - 1\n",
    "\n",
    "df2 = n2 - 1\n",
    "\n",
    "\n",
    "f_statistic = sample_variance1 / sample_variance2\n",
    "\n",
    "\n",
    "alpha = 0.10\n",
    "\n",
    "\n",
    "f_critical_upper = stats.f.ppf(1 - alpha / 2, df1, df2)\n",
    "f_critical_lower = 1 / f_critical_upper\n",
    "\n",
    "\n",
    "if f_statistic > f_critical_upper or f_statistic < f_critical_lower:\n",
    "    print(\"Reject the null hypothesis\")\n"
   ]
  },
  {
   "cell_type": "code",
   "execution_count": null,
   "id": "7d7ca88c-1e42-47ec-85b8-52b96f2b15d6",
   "metadata": {},
   "outputs": [],
   "source": []
  },
  {
   "cell_type": "code",
   "execution_count": null,
   "id": "6dfd36cd-2fd7-4ef6-bd8c-3c3bdaa4e9b3",
   "metadata": {},
   "outputs": [],
   "source": [
    "Q8. The following data represent the waiting times in minutes at two different restaurants on a Saturday\n",
    "night: Restaurant A: 24, 25, 28, 23, 22, 20, 27; Restaurant B: 31, 33, 35, 30, 32, 36. Conduct an F-test at the 5%\n",
    "significance level to determine if the variances are significantly different."
   ]
  },
  {
   "cell_type": "code",
   "execution_count": null,
   "id": "4dfee893-beca-4f6d-8b2d-0f1d2c911bf5",
   "metadata": {},
   "outputs": [],
   "source": [
    "from scipy import stats\n",
    "\n",
    "# Waiting times for Restaurant A\n",
    "data_a = [24, 25, 28, 23, 22, 20, 27]\n",
    "\n",
    "# Waiting times for Restaurant B\n",
    "data_b = [31, 33, 35, 30, 32, 36]\n",
    "\n",
    "# Calculate the sample variances\n",
    "variance_a = sum((x - (sum(data_a) / len(data_a)))**2 for x in data_a) / (len(data_a) - 1)\n",
    "variance_b = sum((x - (sum(data_b) / len(data_b)))**2 for x in data_b) / (len(data_b) - 1)\n",
    "\n",
    "# Degrees of freedom\n",
    "df_a = len(data_a) - 1\n",
    "df_b = len(data_b) - 1\n",
    "\n",
    "# Calculate the F-statistic\n",
    "f_statistic = variance_a / variance_b\n",
    "\n",
    "# Set the significance level\n",
    "alpha = 0.05\n",
    "\n",
    "# Calculate the critical F-value for a two-tailed test\n",
    "f_critical_upper = stats.f.ppf(1 - alpha / 2, df_a, df_b)\n",
    "f_critical_lower = 1 / f_critical_upper\n",
    "\n",
    "# Conduct the F-test\n",
    "if f_statistic > f_critical_upper or f_statistic < f_critical_lower:\n",
    "    print(\"Reject the null hypothesis: The variances are significantly different.\")\n",
    "else:\n",
    "    print(\"Fail to reject the null hypothesis: The variances are not significantly different.\")\n"
   ]
  }
 ],
 "metadata": {
  "kernelspec": {
   "display_name": "Python 3 (ipykernel)",
   "language": "python",
   "name": "python3"
  },
  "language_info": {
   "codemirror_mode": {
    "name": "ipython",
    "version": 3
   },
   "file_extension": ".py",
   "mimetype": "text/x-python",
   "name": "python",
   "nbconvert_exporter": "python",
   "pygments_lexer": "ipython3",
   "version": "3.10.8"
  }
 },
 "nbformat": 4,
 "nbformat_minor": 5
}
