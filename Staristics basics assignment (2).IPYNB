{
 "cells": [
  {
   "cell_type": "raw",
   "id": "ea6d4f6d-a471-45a4-bb79-bada5277eae4",
   "metadata": {},
   "source": [
    "Q1. What is Statistics?"
   ]
  },
  {
   "cell_type": "raw",
   "id": "257fbec2-843f-41f6-8143-c18414d9ec3a",
   "metadata": {},
   "source": [
    "Statistics is the study of the collection, analysis, interpretation, presentation, and organization of data. \n",
    "In other words, it is a mathematical discipline to collect, summarize data."
   ]
  },
  {
   "cell_type": "code",
   "execution_count": null,
   "id": "f5ee34c0-2f7c-494e-bf24-94fc7ed3235c",
   "metadata": {},
   "outputs": [],
   "source": []
  },
  {
   "cell_type": "raw",
   "id": "985d9a33-a85e-49c6-b537-7465985815fa",
   "metadata": {},
   "source": [
    "Q2. Define the different types of statistics and give an example of when each type might be used."
   ]
  },
  {
   "cell_type": "raw",
   "id": "a43a94d5-8dde-47e7-9fe5-e93624428c2d",
   "metadata": {},
   "source": [
    "Statistics is the study of the collection, analysis, interpretation, presentation, and organization of data. \n",
    "In other words, it is a mathematical discipline to collect, summarize data.\n",
    "Following are the types of Statistics-:\n",
    "\n",
    "1) Descriptive statistics, which describes the properties of sample and population data, and inferential statistics, which uses those properties to test hypotheses and draw conclusions. Descriptive statistics include mean (average), variance, skewness, and kurtosis.It includes descriptive statistics such as mean, median, and mode.\n",
    "\n",
    "2)Inferential statistics include linear regression analysis, analysis of variance (ANOVA), logit/Probit models, and null hypothesis testing.\n",
    "\n",
    "\n",
    "Descriptive statistics further divided into two types 1. Qualitative 2.Quantitative\n",
    "\n",
    "Inferential statistics further divided into two types 1.Ordinal  2.Nominal"
   ]
  },
  {
   "cell_type": "raw",
   "id": "40a58f2b-e09e-4b48-ab99-fce4a5372466",
   "metadata": {},
   "source": [
    "Q3. What are the different types of data and how do they differ from each other? Provide an example of\n",
    "each type of data."
   ]
  },
  {
   "cell_type": "raw",
   "id": "8cb9b9fb-89f6-437c-8cc0-d0120c859b5b",
   "metadata": {},
   "source": [
    "\n",
    "Quantitative Data (Numerical Data):\n",
    "Definition: Quantitative data represents measurable quantities and is expressed in numerical form. It deals with numbers and can be used for mathematical operations.\n",
    "Example:\n",
    "Continuous Data: Measurements that can take any value within a range, e.g., temperature (e.g., 25.5°C).\n",
    "Discrete Data: Countable, distinct values, e.g., the number of products sold (e.g., 50 units).\n",
    "\n",
    "\n",
    "Qualitative Data (Categorical Data):\n",
    "Definition: Qualitative data represents categories, labels, or attributes and is non-numeric. It is used for classification and grouping.\n",
    "Example:\n",
    "Nominal Data: Categories with no inherent order, e.g., colors (e.g., red, blue, green).\n",
    "Ordinal Data: Categories with a specific order, but the intervals between them are not uniform, e.g., education levels (e.g., high school, bachelor's, master's)."
   ]
  },
  {
   "cell_type": "raw",
   "id": "d017e9ca-c760-4cff-8a4e-030a51ed7e5c",
   "metadata": {},
   "source": [
    "Q4. Categorise the following datasets with respect to quantitative and qualitative data types:\n",
    "(i) Grading in exam: A+, A, B+, B, C+, C, D, E\n",
    "(ii) Colour of mangoes: yellow, green, orange, red\n",
    "(iii) Height data of a class: [178.9, 179, 179.5, 176, 177.2, 178.3, 175.8,...]\n",
    "(iv) Number of mangoes exported by a farm: [500, 600, 478, 672, ...]"
   ]
  },
  {
   "cell_type": "code",
   "execution_count": null,
   "id": "000c28e5-3488-4e71-9bb0-8f6e3065b76e",
   "metadata": {},
   "outputs": [],
   "source": []
  },
  {
   "cell_type": "raw",
   "id": "46ca6647-855f-412b-81e6-774a24d1c58a",
   "metadata": {},
   "source": [
    "Quantitative Data-:\n",
    "(i) Height data of a class: [178.9, 179, 179.5, 176, 177.2, 178.3, 175.8,...]\n",
    "(ii) Number of mangoes exported by a farm: [500, 600, 478, 672, ...]\n",
    "\n",
    "\n",
    "qualitative data types-:\n",
    "(i) Grading in exam: A+, A, B+, B, C+, C, D, E\n",
    "(ii) Colour of mangoes: yellow, green, orange, red\n",
    "\n",
    "\n",
    "    "
   ]
  },
  {
   "cell_type": "raw",
   "id": "ca5ef94a-34a8-43a0-bf55-f7ba05e1ff1b",
   "metadata": {},
   "source": [
    "Q5. Explain the concept of levels of measurement and give an example of a variable for each level."
   ]
  },
  {
   "cell_type": "raw",
   "id": "97a2c4b9-0d0d-41d4-948b-6ea312a6e6b5",
   "metadata": {},
   "source": [
    "\n",
    "Levels of measurement, also known as scales of measurement or data measurement scales, categorize variables or data into different levels based on the characteristics and properties of the data. These levels help in understanding the nature of the data and determine the types of statistical analyses that can be applied. There are four main levels of measurement:\n",
    "\n",
    "Nominal Level (Categorical):\n",
    "At the nominal level, data are divided into categories or labels with no inherent order or ranking. Nominal data can only be categorized or counted.\n",
    "Example:\n",
    "Variable: Eye Color\n",
    "Categories: Blue, Brown, Green, Hazel\n",
    "In this case, there is no natural ordering among the categories; they are simply labels.\n",
    "\n",
    "\n",
    "Ordinal Level (Ordered Categorical):\n",
    "Ordinal data have categories that not only represent different groups but also have a meaningful order or ranking between them. However, the intervals between categories are not uniform or equal.\n",
    "Example:\n",
    "Variable: Education Level\n",
    "Categories: High School Diploma, Bachelor's Degree, Master's Degree, Doctorate\n",
    "While there's an order from least to most education, the difference between the categories is not necessarily uniform. For example, the difference between high school and bachelor's may not be the same as the difference between bachelor's and master's."
   ]
  },
  {
   "cell_type": "code",
   "execution_count": null,
   "id": "7d9a0806-dcf0-45bb-b399-2c739a27c9b7",
   "metadata": {},
   "outputs": [],
   "source": []
  },
  {
   "cell_type": "raw",
   "id": "6bd5905d-0d8c-47dd-8df9-fa87d7d34a57",
   "metadata": {},
   "source": [
    "Q6. Why is it important to understand the level of measurement when analyzing data? Provide an\n",
    "example to illustrate your answer."
   ]
  },
  {
   "cell_type": "raw",
   "id": "fededd2e-4dcd-4755-8d8b-4b252ec28c67",
   "metadata": {},
   "source": [
    "Understanding the level of measurement when analyzing data is fundamental for choosing appropriate statistical methods, ensuring the validity of results, facilitating meaningful interpretation, and making informed decisions based on the data. It ultimately enhances the rigor and reliability of data analysis and research outcomes."
   ]
  },
  {
   "cell_type": "code",
   "execution_count": null,
   "id": "c617e242-7696-4a38-ae69-66c3dd075e58",
   "metadata": {},
   "outputs": [],
   "source": []
  },
  {
   "cell_type": "raw",
   "id": "c5783c5b-22fa-4b11-812b-d3539953b154",
   "metadata": {},
   "source": [
    "Q7. How nominal data type is different from ordinal data type."
   ]
  },
  {
   "cell_type": "raw",
   "id": "eb3528cb-4a40-4362-bac0-a647aac44a13",
   "metadata": {},
   "source": [
    "In nominal data are divided into categories or labels with no inherent order or ranking. Nominal data can only be categorized or counted. Example-Gender  releted data\n",
    "\n",
    "In Ordinal data have categories that not only represent different groups but also have a meaningful order or ranking between them. However, the intervals between categories are not uniform or equal.Example-Education related data\n"
   ]
  },
  {
   "cell_type": "code",
   "execution_count": null,
   "id": "5aeedd36-f20f-4ea8-a0b7-b23e32becd9e",
   "metadata": {},
   "outputs": [],
   "source": []
  },
  {
   "cell_type": "raw",
   "id": "e4114a08-4dd3-403b-8db7-1d672c2d8971",
   "metadata": {},
   "source": [
    "Q8. Which type of plot can be used to display data in terms of range?"
   ]
  },
  {
   "cell_type": "raw",
   "id": "af8be3bc-da25-4a1c-802b-f114c96ac634",
   "metadata": {},
   "source": [
    "Histogram plot can be used to display data in terms of range"
   ]
  },
  {
   "cell_type": "raw",
   "id": "820cbd4f-d3ce-4754-85dc-a4364aa0e41b",
   "metadata": {},
   "source": []
  },
  {
   "cell_type": "raw",
   "id": "d802f388-aa97-4609-a5de-2b096acaeda0",
   "metadata": {},
   "source": [
    "Q9. Describe the difference between descriptive and inferential statistics. Give an example of each\n",
    "type of statistics and explain how they are used."
   ]
  },
  {
   "cell_type": "raw",
   "id": "267d103c-b8b9-46d8-9a2d-88ea4c1b937f",
   "metadata": {},
   "source": [
    "1) Descriptive statistics, which describes the properties of sample and population data, and inferential statistics, which uses those properties to test hypotheses and draw conclusions. Descriptive statistics include mean (average), variance, skewness, and kurtosis.It includes descriptive statistics such as mean, median, and mode.\n",
    "\n",
    "2)Inferential statistics include linear regression analysis, analysis of variance (ANOVA), logit/Probit models, and null hypothesis testing."
   ]
  },
  {
   "cell_type": "code",
   "execution_count": null,
   "id": "5177f80c-5e1b-48cc-a766-cd6e6293a644",
   "metadata": {},
   "outputs": [],
   "source": []
  },
  {
   "cell_type": "raw",
   "id": "20b0c5fd-c0e7-4521-80f1-4bd97575f293",
   "metadata": {},
   "source": [
    "Q10. What are some common measures of central tendency and variability used in statistics? Explain\n",
    "how each measure can be used to describe a dataset."
   ]
  },
  {
   "cell_type": "raw",
   "id": "21526cd2-3706-4b17-bd16-6a97b43d59b2",
   "metadata": {},
   "source": [
    "Measures of Central Tendency:\n",
    "\n",
    "Mean (Average):\n",
    "Description: The mean is calculated by summing up all the data points and dividing by the total number of data points. It represents the \"average\" value of the dataset.\n",
    "Use: The mean provides a measure of the central value of the dataset. It is sensitive to extreme values (outliers) and is often used when data follows a normal distribution.\n",
    "\n",
    "Median:\n",
    "Description: The median is the middle value in a dataset when the data points are ordered from smallest to largest (or vice versa). If there is an even number of data points, it is the average of the two middle values.\n",
    "Use: The median is a robust measure of central tendency that is less affected by outliers compared to the mean. It is often used when the data may have extreme values or is skewed.\n",
    "\n",
    "Mode:\n",
    "Description: The mode is the value that appears most frequently in a dataset. A dataset can have multiple modes (bimodal, trimodal, etc.).\n",
    "Use: The mode is used to describe the most common value(s) in a dataset. It is useful for categorical or discrete data and can be used with continuous data as well."
   ]
  }
 ],
 "metadata": {
  "kernelspec": {
   "display_name": "Python 3 (ipykernel)",
   "language": "python",
   "name": "python3"
  },
  "language_info": {
   "codemirror_mode": {
    "name": "ipython",
    "version": 3
   },
   "file_extension": ".py",
   "mimetype": "text/x-python",
   "name": "python",
   "nbconvert_exporter": "python",
   "pygments_lexer": "ipython3",
   "version": "3.10.8"
  }
 },
 "nbformat": 4,
 "nbformat_minor": 5
}
